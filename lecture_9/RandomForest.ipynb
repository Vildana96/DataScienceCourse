{
 "cells": [
  {
   "cell_type": "markdown",
   "id": "a2e946d8",
   "metadata": {},
   "source": [
    "**Ansambli** (ensemble) je grupa modela u masinskom ucenju koji predstavljaju skupove veceg broja modela koji zajednicki donose odluke. Razlog njihove upotrebe pociva na tome da veci broj pravilno konstruisanih modela moze dati znacajno bolju preciznost od samo jednog modela."
   ]
  },
  {
   "cell_type": "markdown",
   "id": "f9785327",
   "metadata": {},
   "source": [
    "Dve familije modela:\n",
    "* prosta agregacija (bagging)\n",
    "* pojacavanje (boosting)"
   ]
  },
  {
   "cell_type": "markdown",
   "id": "2c86bb1f",
   "metadata": {},
   "source": [
    "**Ideja:** nezavisne greske se ponistavaju! [Centralna granicna terema](https://en.wikipedia.org/wiki/Central_limit_theorem) garantuje smanjenu varijansu proseka. <br>\n",
    "**Prosta agregacija** podrazumeva treniranje veceg broja modela cije su greske nezavisne. Prilikom predvidanja, svi modeli nude svoja predvidanja, koja se agregiraju kako bi se dobilo predvidanje ansambla.<br> Ukoliko se radi o regresiji, agregacija je najcesce uprosecavanje, a u slucaju klasifikacije glasanje (voting). <br>\n",
    "**Kompromis:** broj modela sa jedne strane i preprilagodjavanje i komleksnost sa druge."
   ]
  },
  {
   "cell_type": "markdown",
   "id": "6eafc4cd",
   "metadata": {},
   "source": [
    "[Bootstrapping](https://en.wikipedia.org/wiki/Bootstrapping_(statistics))"
   ]
  },
  {
   "cell_type": "markdown",
   "id": "3e4830f6",
   "metadata": {},
   "source": [
    "<img src='bootstrap.png'>"
   ]
  },
  {
   "cell_type": "markdown",
   "id": "352ac3db",
   "metadata": {},
   "source": [
    "<img src='bagging.jpeg' width=\"500\"/>"
   ]
  },
  {
   "cell_type": "markdown",
   "id": "26959502",
   "metadata": {},
   "source": [
    "Jedan od najpoznatijih modela ove vrste jeste:"
   ]
  },
  {
   "cell_type": "markdown",
   "id": "6ebc129b",
   "metadata": {},
   "source": [
    "### Random forest "
   ]
  },
  {
   "cell_type": "markdown",
   "id": "801934c5",
   "metadata": {},
   "source": [
    "<img src='random_forest.png'>"
   ]
  },
  {
   "cell_type": "markdown",
   "id": "6675a31b",
   "metadata": {},
   "source": [
    "Ansambl, odnosno slucajna suma, se sastoji od m stabala treniranih na razlicitim podskupovima skupa za treniranje. Jedno stablo se trenira tako sto se izabere podskup skupa za treniranje zadate velicine (**Bootstrap Aggregation**). Bootstrap uzorak se bira od svih instanci, ali sa ponavljanjem. Tako da sve instance ucestvuju, ali se uzorci razlikuju. Broj stabala m se moze posmatrati i kao regularizacioni parametar. Takodje, moze se uzeti i samo podskup skupa atributa u svakom cvoru pre testa podele (**Feature Randomness**). Ova dva metoda prilikom treniranja doprinose tome da imamo sto manje korelisana stabla , odnosno njihove greske, sto je i cilj agregacije. <br>\n",
    "Treniranje generalno nije kompleksno, a preciznost predvidanja je obicno medu najboljim za ovakve slucajeve upotrebe. Slucajna suma, kao i drugi ansambli, nije interpretabilna."
   ]
  },
  {
   "cell_type": "markdown",
   "id": "1340e192",
   "metadata": {},
   "source": [
    "Funkcije za rad sa anamblima se nalaze u `ensamble` paketu scikit-learn biblioteke."
   ]
  },
  {
   "cell_type": "code",
   "execution_count": null,
   "id": "dfb8772b",
   "metadata": {},
   "outputs": [],
   "source": [
    "from sklearn import ensemble"
   ]
  },
  {
   "cell_type": "markdown",
   "id": "e71cfa76",
   "metadata": {},
   "source": [
    "Parametri:\n",
    "* `n_estimators parametar` - broj stabala koja se treniraju\n",
    "* svojstva stabala iz prethodne lekcije (kriterijum homogenosti, maksimalna dubina stabla, maksimalni broj atributa,..)\n",
    "* `max_samples` - velicina podskupa instanci nad kojim se stabla treniraju\n",
    "* `random_state` - zbog reprodukicje jer imamo slucajan izbor instanci, kao i atributa prilikom podele"
   ]
  },
  {
   "cell_type": "code",
   "execution_count": null,
   "id": "947e63dc",
   "metadata": {},
   "outputs": [],
   "source": [
    "model_forest = ensemble.RandomForestClassifier(n_estimators=20, max_depth=3, random_state=42) # izbor parametara se vrsi validacijom (uskoro!)"
   ]
  },
  {
   "cell_type": "code",
   "execution_count": null,
   "id": "a25af9d7",
   "metadata": {},
   "outputs": [],
   "source": [
    "%run DecisionTrees.ipynb"
   ]
  },
  {
   "cell_type": "code",
   "execution_count": null,
   "id": "a89ff8b4",
   "metadata": {},
   "outputs": [],
   "source": [
    "model_forest.fit(X_train, y_train)"
   ]
  },
  {
   "cell_type": "code",
   "execution_count": null,
   "id": "75d07b19",
   "metadata": {},
   "outputs": [],
   "source": [
    "y_pred = model_forest.predict(X_test)"
   ]
  },
  {
   "cell_type": "markdown",
   "id": "236710d8",
   "metadata": {},
   "source": [
    "### Evaluacija "
   ]
  },
  {
   "cell_type": "code",
   "execution_count": null,
   "id": "a22b76e4",
   "metadata": {},
   "outputs": [],
   "source": [
    "metrics.accuracy_score(y_test, y_pred)"
   ]
  },
  {
   "cell_type": "code",
   "execution_count": null,
   "id": "c4221181",
   "metadata": {},
   "outputs": [],
   "source": [
    "metrics.confusion_matrix(y_test, y_pred)"
   ]
  },
  {
   "cell_type": "code",
   "execution_count": null,
   "id": "a37856cd",
   "metadata": {},
   "outputs": [],
   "source": [
    "print(metrics.classification_report(y_test, y_pred))"
   ]
  },
  {
   "cell_type": "code",
   "execution_count": null,
   "id": "ddad2e52",
   "metadata": {},
   "outputs": [],
   "source": [
    "y_pred_proba = model_forest.predict_proba(X_test)[::,1]"
   ]
  },
  {
   "cell_type": "code",
   "execution_count": null,
   "id": "910f584d",
   "metadata": {},
   "outputs": [],
   "source": [
    "fpr, tpr, thresholds = metrics.roc_curve(y_test,  y_pred_proba) "
   ]
  },
  {
   "cell_type": "code",
   "execution_count": null,
   "id": "80bbb240",
   "metadata": {},
   "outputs": [],
   "source": [
    "auc = metrics.roc_auc_score(y_test, y_pred_proba) "
   ]
  },
  {
   "cell_type": "code",
   "execution_count": null,
   "id": "a9896140",
   "metadata": {},
   "outputs": [],
   "source": [
    "auc"
   ]
  },
  {
   "cell_type": "code",
   "execution_count": null,
   "id": "248064e1",
   "metadata": {},
   "outputs": [],
   "source": [
    "plt.plot(fpr, tpr, label=\"AUC=\"+str(auc))\n",
    "plt.ylabel('True Positive')\n",
    "plt.xlabel('False Positive')\n",
    "plt.legend(loc=4)\n",
    "plt.show()"
   ]
  },
  {
   "cell_type": "markdown",
   "id": "db8418af",
   "metadata": {},
   "source": [
    "### Znacajnost atributa"
   ]
  },
  {
   "cell_type": "markdown",
   "id": "247488f8",
   "metadata": {},
   "source": [
    "Znacajnost atributa odrejujemo kao prosek njihovih znacajnosti u svim stablima u sumi."
   ]
  },
  {
   "cell_type": "code",
   "execution_count": null,
   "id": "a3dea9ac",
   "metadata": {},
   "outputs": [],
   "source": [
    "plt.barh(list(X.columns), model_forest.feature_importances_)\n",
    "plt.show()"
   ]
  },
  {
   "cell_type": "markdown",
   "id": "56cfdf84",
   "metadata": {},
   "source": [
    "### Drugi nacin"
   ]
  },
  {
   "cell_type": "markdown",
   "id": "10f36db9",
   "metadata": {},
   "source": [
    "Random forest je samo posebna klasa modela proste agregacije, pa cemo ga sada implementirati na taj nacin. Isto ovako, mozemo napraviti i ansambl nekih drugih modela (istog tipa) koji nisu stabla odlucivanja."
   ]
  },
  {
   "cell_type": "markdown",
   "id": "affa7d5d",
   "metadata": {},
   "source": [
    "Za kreiranje proste agregacije koristi se `BaggingClassifier` metoda `ensemble` paketa. Ona od parametara, pored gorenavedenih, ocekuje i osnovni model koji se koristi u ansamblu. Takodje, parametrima `booststrap` i `bootstrap_features` se kontrolise uzorkovanje sa ili bez ponavljanja. "
   ]
  },
  {
   "cell_type": "code",
   "execution_count": null,
   "id": "f22ba0cd",
   "metadata": {},
   "outputs": [],
   "source": [
    "model_bagging = ensemble.BaggingClassifier(tree.DecisionTreeClassifier(random_state=42),\n",
    "                                        n_estimators=500, max_samples=100, bootstrap=True, random_state=42)"
   ]
  },
  {
   "cell_type": "code",
   "execution_count": null,
   "id": "01fd68de",
   "metadata": {},
   "outputs": [],
   "source": [
    "model_bagging.fit(X_train, y_train)"
   ]
  },
  {
   "cell_type": "code",
   "execution_count": null,
   "id": "19ba803f",
   "metadata": {},
   "outputs": [],
   "source": [
    "y_pred = model_bagging.predict(X_test)"
   ]
  },
  {
   "cell_type": "code",
   "execution_count": null,
   "id": "7549d75d",
   "metadata": {},
   "outputs": [],
   "source": [
    "print(metrics.classification_report(y_test, y_pred))"
   ]
  },
  {
   "cell_type": "raw",
   "id": "eb41fa2f",
   "metadata": {},
   "source": []
  }
 ],
 "metadata": {
  "kernelspec": {
   "display_name": "Python 3 (ipykernel)",
   "language": "python",
   "name": "python3"
  },
  "language_info": {
   "codemirror_mode": {
    "name": "ipython",
    "version": 3
   },
   "file_extension": ".py",
   "mimetype": "text/x-python",
   "name": "python",
   "nbconvert_exporter": "python",
   "pygments_lexer": "ipython3",
   "version": "3.9.7"
  }
 },
 "nbformat": 4,
 "nbformat_minor": 5
}

{
 "cells": [
  {
   "cell_type": "markdown",
   "id": "fc72e8a5",
   "metadata": {},
   "source": [
    "**Algoritam k najblizih suseda (kNN)** je jedan od najednostavnijih algoritama koji se moze koristiti za klasifikaciju sa proizvoljnim brojem klasa, kao i za regresiju. Osnovna pretpostavka ovog algoritma je postojanje rastojanja (metrike) nad\n",
    "prostorom atributa."
   ]
  },
  {
   "cell_type": "markdown",
   "id": "db6ded8b",
   "metadata": {},
   "source": [
    "Algoritam k najblizih suseda klasifikuje nepoznatu instancu tako sto pronalazi k instanci iz skupa za treniranje koje su joj najblize u smislu neke izabrane metrike i pridruzuje joj vecinsku klasu. U slucaju regresije tipicno uzima prosecnu vrednost ciljne promenljive najblizih suseda."
   ]
  },
  {
   "cell_type": "markdown",
   "id": "f676dfac",
   "metadata": {},
   "source": [
    "<img src='knn.png'>"
   ]
  },
  {
   "cell_type": "markdown",
   "id": "9218dd89",
   "metadata": {},
   "source": [
    "**Prednosti:**\n",
    "* samo izbor hiperparametra k (regularizacioni)\n",
    "* proizvoljne granice klasa\n",
    "<br>"
   ]
  },
  {
   "cell_type": "markdown",
   "id": "d64f8d7b",
   "metadata": {},
   "source": [
    "**Mane:**\n",
    "* nema funkciju greske\n",
    "* moraju se cuvati (skoro) sve instance"
   ]
  },
  {
   "cell_type": "markdown",
   "id": "4f3dbba3",
   "metadata": {},
   "source": [
    "### Implementacija"
   ]
  },
  {
   "cell_type": "code",
   "execution_count": null,
   "id": "62a35f35",
   "metadata": {},
   "outputs": [],
   "source": [
    "import pandas as pd\n",
    "import numpy as np\n",
    "from matplotlib import pyplot as plt"
   ]
  },
  {
   "cell_type": "code",
   "execution_count": null,
   "id": "4103ff6d",
   "metadata": {},
   "outputs": [],
   "source": [
    "from sklearn import model_selection\n",
    "from sklearn import metrics\n",
    "from sklearn import preprocessing\n",
    "from sklearn import datasets"
   ]
  },
  {
   "cell_type": "markdown",
   "id": "f535a7c3",
   "metadata": {},
   "source": [
    "Koristimo poznati breast cancer dataset koji ima numericke prediktore i kategoricku ciljnu promenljivu tako da u ovom slucaju primenjujemo kNN algoritam za problem klasifikacije."
   ]
  },
  {
   "cell_type": "code",
   "execution_count": null,
   "id": "3153db99",
   "metadata": {},
   "outputs": [],
   "source": [
    "data = datasets.load_breast_cancer()"
   ]
  },
  {
   "cell_type": "code",
   "execution_count": null,
   "id": "83ff36a2",
   "metadata": {},
   "outputs": [],
   "source": [
    "print(data.DESCR)"
   ]
  },
  {
   "cell_type": "code",
   "execution_count": null,
   "id": "ab5bed5f",
   "metadata": {},
   "outputs": [],
   "source": [
    "data.feature_names"
   ]
  },
  {
   "cell_type": "code",
   "execution_count": null,
   "id": "a761a9d0",
   "metadata": {},
   "outputs": [],
   "source": [
    "X = pd.DataFrame(data.data, columns = data.feature_names)"
   ]
  },
  {
   "cell_type": "code",
   "execution_count": null,
   "id": "ad823d66",
   "metadata": {},
   "outputs": [],
   "source": [
    "X.shape"
   ]
  },
  {
   "cell_type": "code",
   "execution_count": null,
   "id": "49617f67",
   "metadata": {},
   "outputs": [],
   "source": [
    "X.info() # nema nedostajucih i cudnih tipova podataka"
   ]
  },
  {
   "cell_type": "code",
   "execution_count": null,
   "id": "c1419598",
   "metadata": {},
   "outputs": [],
   "source": [
    "X.describe()"
   ]
  },
  {
   "cell_type": "code",
   "execution_count": null,
   "id": "ead701bb",
   "metadata": {},
   "outputs": [],
   "source": [
    "data.target_names"
   ]
  },
  {
   "cell_type": "code",
   "execution_count": null,
   "id": "98058cab",
   "metadata": {},
   "outputs": [],
   "source": [
    "y = data.target"
   ]
  },
  {
   "cell_type": "code",
   "execution_count": null,
   "id": "4784bad1",
   "metadata": {},
   "outputs": [],
   "source": [
    "y"
   ]
  },
  {
   "cell_type": "code",
   "execution_count": null,
   "id": "68e6077a",
   "metadata": {},
   "outputs": [],
   "source": [
    "X_train, X_test, y_train, y_test = model_selection.train_test_split(X, y, test_size=0.3, stratify=y, random_state = 25)"
   ]
  },
  {
   "cell_type": "code",
   "execution_count": null,
   "id": "a570dda5",
   "metadata": {},
   "outputs": [],
   "source": [
    "scaler = preprocessing.StandardScaler()\n",
    "scaler.fit(X_train)\n",
    "X_train = scaler.transform(X_train)\n",
    "X_test = scaler.transform(X_test)"
   ]
  },
  {
   "cell_type": "markdown",
   "id": "e8ad0195",
   "metadata": {},
   "source": [
    "kNN model mozemo implementirati koristeci `neighbors` modul:"
   ]
  },
  {
   "cell_type": "code",
   "execution_count": null,
   "id": "41547272",
   "metadata": {},
   "outputs": [],
   "source": [
    "from sklearn import neighbors"
   ]
  },
  {
   "cell_type": "code",
   "execution_count": null,
   "id": "92499038",
   "metadata": {},
   "outputs": [],
   "source": [
    "knn_model = neighbors.KNeighborsClassifier(n_neighbors=5) # treniramo model sa parametrom k=3, \n",
    "# a sledeci cas radimo izbor optimalnog hiperparametara modela!!!"
   ]
  },
  {
   "cell_type": "code",
   "execution_count": null,
   "id": "349c83ce",
   "metadata": {},
   "outputs": [],
   "source": [
    "knn_model.fit(X_train, y_train)"
   ]
  },
  {
   "cell_type": "code",
   "execution_count": null,
   "id": "33d4f4d9",
   "metadata": {},
   "outputs": [],
   "source": [
    "y_pred = knn_model.predict(X_test)"
   ]
  },
  {
   "cell_type": "code",
   "execution_count": null,
   "id": "b4e9e85e",
   "metadata": {},
   "outputs": [],
   "source": [
    "print(metrics.classification_report(y_test, y_pred))"
   ]
  },
  {
   "cell_type": "code",
   "execution_count": null,
   "id": "dc856a16",
   "metadata": {},
   "outputs": [],
   "source": [
    "metrics.confusion_matrix(y_test, y_pred)"
   ]
  },
  {
   "cell_type": "markdown",
   "id": "facbfada",
   "metadata": {},
   "source": [
    "Probacemo i **bagging algoritam** tako sto cemo napraviti ansambl gde je bazni klasifikator kNN da uporedimo rezulteate:"
   ]
  },
  {
   "cell_type": "code",
   "execution_count": null,
   "id": "537c033b",
   "metadata": {},
   "outputs": [],
   "source": [
    "from sklearn import ensemble"
   ]
  },
  {
   "cell_type": "code",
   "execution_count": null,
   "id": "e8a8d42a",
   "metadata": {},
   "outputs": [],
   "source": [
    "model_knn_ensemble = ensemble.BaggingClassifier(neighbors.KNeighborsClassifier(n_neighbors=5), n_estimators=100, bootstrap=True, random_state=42)"
   ]
  },
  {
   "cell_type": "code",
   "execution_count": null,
   "id": "4d6bf111",
   "metadata": {},
   "outputs": [],
   "source": [
    "model_knn_ensemble.fit(X_train, y_train)"
   ]
  },
  {
   "cell_type": "code",
   "execution_count": null,
   "id": "e5782d88",
   "metadata": {},
   "outputs": [],
   "source": [
    "y_pred = model_knn_ensemble.predict(X_test)"
   ]
  },
  {
   "cell_type": "code",
   "execution_count": null,
   "id": "de4f65ee",
   "metadata": {},
   "outputs": [],
   "source": [
    "print(metrics.classification_report(y_test, y_pred))"
   ]
  },
  {
   "cell_type": "code",
   "execution_count": null,
   "id": "289b8df1",
   "metadata": {},
   "outputs": [],
   "source": [
    "metrics.confusion_matrix(y_test, y_pred)"
   ]
  },
  {
   "cell_type": "code",
   "execution_count": null,
   "id": "b2b32b3e",
   "metadata": {},
   "outputs": [],
   "source": []
  }
 ],
 "metadata": {
  "kernelspec": {
   "display_name": "Python 3 (ipykernel)",
   "language": "python",
   "name": "python3"
  },
  "language_info": {
   "codemirror_mode": {
    "name": "ipython",
    "version": 3
   },
   "file_extension": ".py",
   "mimetype": "text/x-python",
   "name": "python",
   "nbconvert_exporter": "python",
   "pygments_lexer": "ipython3",
   "version": "3.9.7"
  }
 },
 "nbformat": 4,
 "nbformat_minor": 5
}

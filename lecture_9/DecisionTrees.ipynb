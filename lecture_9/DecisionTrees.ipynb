{
 "cells": [
  {
   "cell_type": "markdown",
   "id": "d863123e",
   "metadata": {},
   "source": [
    "### Iliti stabla odlucivanja"
   ]
  },
  {
   "cell_type": "markdown",
   "id": "90b1879e",
   "metadata": {},
   "source": [
    "<img src='decision-tree.png'>"
   ]
  },
  {
   "cell_type": "markdown",
   "id": "275fc7c9",
   "metadata": {},
   "source": [
    "Stabla odlucivanja su jednostavan i interpretabilan model i koriste se i u klasifikacionim i u regresionim problemima masinskog ucenja. Sastoje se od grana i cvorova, gde krajnje cvorove zovemo listovima stabla. Funkcionisu tako sto:\n",
    "* u svakom cvoru stabla, bez listova, imamo po jedan test kojim ispitujemo kriterijume za podelu stabla na osnovu atributa koje imamo u podacima\n",
    "* svakom ishodu testa odgovara po jedna grana\n",
    "* u listovima se nalaze vrednosti predikcija\n",
    "* prednosti su sto odmah vidimo relacije izmedju atributa, kao i njihove znacajnosti prilikom podele podataka"
   ]
  },
  {
   "cell_type": "markdown",
   "id": "cc9d7ede",
   "metadata": {},
   "source": [
    "### Kako treniramo?"
   ]
  },
  {
   "cell_type": "markdown",
   "id": "3fc297ba",
   "metadata": {},
   "source": [
    "* testovi koji se vrse u svakom od cvorova su tipicno provere vrednosti pojedinacnih atributa koje zavise od tipa modela\n",
    "* koristi se pohlepni (greedy) algoritam optimizacije - heuristickim metodama trazi se najbolje trenutno resenje\n",
    "* osnovna ideja je izabrati atribut koji najbolje razvrstava instance, tako da dobijene podgrupe budu sto homogenije u odnosu na klase u slucaju klasifikacije ili da prave sto manju gresku u slucaju regresije\n",
    "* atribut se evaluira tako sto se izracuna smanjenje nehomogenosti nekon particionisanja skupa instanci po vrednostima tog atributa\n",
    "* u toku treniranja modela ponavljamo proces rekurzivno sve dok se ne ispuni neki od zaustavnih kriterijuma, kao sto su, dosegnuta maksimalna dubina stabla, minimalni broj instanci u listu, dosegnuta vrednost mere homogonosti stabla itd <br> **Kompromis:** zaustavljanje i preprilagodjavanje (overfit)\n",
    "* rezultat se tipicno izracunava kao prosek vrednosti u listu u slucaju regresije a u slucaju klasifikacije, kao vecinska klasa u listu"
   ]
  },
  {
   "cell_type": "markdown",
   "id": "cd4f7d14",
   "metadata": {},
   "source": [
    "### Mere homogenosti (purity):"
   ]
  },
  {
   "cell_type": "markdown",
   "id": "726157f0",
   "metadata": {},
   "source": [
    "* entropy: $$ H(p_1, . . . , p_C ) = −\\sum_{i=1}^{C}p_i*logp_i$$\n",
    "* Gini index: $$ G(p_1, . . . , p_C ) = 1−\\sum_{i=1}^{C}p_i^2$$"
   ]
  },
  {
   "cell_type": "markdown",
   "id": "a9d17320",
   "metadata": {},
   "source": [
    "### Primer klasifikacionog stabla odlucivanja (CART)"
   ]
  },
  {
   "cell_type": "code",
   "execution_count": null,
   "id": "0aa8b1cc",
   "metadata": {},
   "outputs": [],
   "source": [
    "import pandas as pd\n",
    "import numpy as np\n",
    "from matplotlib import pyplot as plt"
   ]
  },
  {
   "cell_type": "code",
   "execution_count": null,
   "id": "82d08780",
   "metadata": {},
   "outputs": [],
   "source": [
    "from sklearn import model_selection\n",
    "from sklearn import metrics\n",
    "from sklearn import preprocessing\n",
    "from sklearn import datasets"
   ]
  },
  {
   "cell_type": "code",
   "execution_count": null,
   "id": "1d20fdaa",
   "metadata": {},
   "outputs": [],
   "source": [
    "data = datasets.load_breast_cancer()"
   ]
  },
  {
   "cell_type": "code",
   "execution_count": null,
   "id": "cbbbed75",
   "metadata": {},
   "outputs": [],
   "source": [
    "print(data.DESCR)"
   ]
  },
  {
   "cell_type": "code",
   "execution_count": null,
   "id": "c6eca0aa",
   "metadata": {},
   "outputs": [],
   "source": [
    "data.feature_names"
   ]
  },
  {
   "cell_type": "code",
   "execution_count": null,
   "id": "a761a9d0",
   "metadata": {},
   "outputs": [],
   "source": [
    "X = pd.DataFrame(data.data, columns = data.feature_names)"
   ]
  },
  {
   "cell_type": "code",
   "execution_count": null,
   "id": "ad823d66",
   "metadata": {},
   "outputs": [],
   "source": [
    "X.shape"
   ]
  },
  {
   "cell_type": "code",
   "execution_count": null,
   "id": "49617f67",
   "metadata": {},
   "outputs": [],
   "source": [
    "X.info() # nema nedostajucih i cudnih tipova podataka"
   ]
  },
  {
   "cell_type": "code",
   "execution_count": null,
   "id": "c1419598",
   "metadata": {},
   "outputs": [],
   "source": [
    "X.describe()"
   ]
  },
  {
   "cell_type": "code",
   "execution_count": null,
   "id": "1d9a13e3",
   "metadata": {},
   "outputs": [],
   "source": [
    "X.hist(figsize = [15,15]) \n",
    "plt.show()"
   ]
  },
  {
   "cell_type": "code",
   "execution_count": null,
   "id": "ead701bb",
   "metadata": {},
   "outputs": [],
   "source": [
    "data.target_names"
   ]
  },
  {
   "cell_type": "code",
   "execution_count": null,
   "id": "98058cab",
   "metadata": {},
   "outputs": [],
   "source": [
    "y = data.target"
   ]
  },
  {
   "cell_type": "code",
   "execution_count": null,
   "id": "4784bad1",
   "metadata": {},
   "outputs": [],
   "source": [
    "y"
   ]
  },
  {
   "cell_type": "code",
   "execution_count": null,
   "id": "d542d838",
   "metadata": {},
   "outputs": [],
   "source": [
    "print('Broj benignih instanci: ')\n",
    "np.sum(y==1)"
   ]
  },
  {
   "cell_type": "code",
   "execution_count": null,
   "id": "e3dc5184",
   "metadata": {},
   "outputs": [],
   "source": [
    "print('Broj malignih instanci: ')\n",
    "np.sum(y==0)"
   ]
  },
  {
   "cell_type": "code",
   "execution_count": null,
   "id": "305f3d63",
   "metadata": {},
   "outputs": [],
   "source": [
    "X_train, X_test, y_train, y_test = model_selection.train_test_split(X, y, test_size=0.33, stratify=y, random_state = 42)"
   ]
  },
  {
   "cell_type": "code",
   "execution_count": null,
   "id": "3a80a0ad",
   "metadata": {},
   "outputs": [],
   "source": [
    "scaler = preprocessing.StandardScaler()\n",
    "scaler.fit(X_train)\n",
    "X_train = scaler.transform(X_train)\n",
    "X_test = scaler.transform(X_test)"
   ]
  },
  {
   "cell_type": "markdown",
   "id": "26a84b6b",
   "metadata": {},
   "source": [
    "U paketu **tree** biblioteke `scikit-learn` nalaze se funkcije za rad sa stablima odlucivanja i njihovu vizuelizaciju."
   ]
  },
  {
   "cell_type": "code",
   "execution_count": null,
   "id": "263c97c0",
   "metadata": {},
   "outputs": [],
   "source": [
    "from sklearn import tree"
   ]
  },
  {
   "cell_type": "markdown",
   "id": "c55add1a",
   "metadata": {},
   "source": [
    "Parametri:\n",
    "*  `criterion` - kriterijum za odlucivanje o podeli (Gini indeks ili entropija) za problem klasifikacije\n",
    "* `max_depth` - maksimalna dubina stabla\n",
    "* `max_features` - maksimalni broj atributa koje nasumicno biramo prilikom podele minimalna vrednost čistoće grananja\n",
    "* `min_samples_leaf` - minimalni broj instanci u listovima\n",
    "* `random_state` - zbog reprodukcije eksperimenta jer postoje nasumicne odluke\n",
    "* `min_impurity_split` - granicna vrednost heterogenosti ispod koje se zaustavlja podela"
   ]
  },
  {
   "cell_type": "code",
   "execution_count": null,
   "id": "ab3b7527",
   "metadata": {},
   "outputs": [],
   "source": [
    "model = tree.DecisionTreeClassifier(criterion='gini', max_features=0.9, max_depth=3, random_state=42)"
   ]
  },
  {
   "cell_type": "markdown",
   "id": "3aa0235f",
   "metadata": {},
   "source": [
    "`fit` i `predict` koristimo kao i do sada:"
   ]
  },
  {
   "cell_type": "code",
   "execution_count": null,
   "id": "83f2b94e",
   "metadata": {},
   "outputs": [],
   "source": [
    "model.fit(X_train, y_train)"
   ]
  },
  {
   "cell_type": "code",
   "execution_count": null,
   "id": "ef85a4c0",
   "metadata": {},
   "outputs": [],
   "source": [
    "y_pred = model.predict(X_test)"
   ]
  },
  {
   "cell_type": "markdown",
   "id": "17322a56",
   "metadata": {},
   "source": [
    "### Interpretacija"
   ]
  },
  {
   "cell_type": "markdown",
   "id": "b873b260",
   "metadata": {},
   "source": [
    "Pomocu funkcije `plot_tree` crtamo stablo odlucivanja:"
   ]
  },
  {
   "cell_type": "code",
   "execution_count": null,
   "id": "a0df6ff1",
   "metadata": {},
   "outputs": [],
   "source": [
    "plt.figure(figsize=(20, 10))\n",
    "tree.plot_tree(model, fontsize=12, feature_names=list(X.columns), filled=True, rounded=True, \n",
    "               class_names=['maligno','benigno'])"
   ]
  },
  {
   "cell_type": "markdown",
   "id": "5c249318",
   "metadata": {},
   "source": [
    "### Evaluacija"
   ]
  },
  {
   "cell_type": "code",
   "execution_count": null,
   "id": "63ccdd5d",
   "metadata": {},
   "outputs": [],
   "source": [
    "metrics.accuracy_score(y_test, y_pred)"
   ]
  },
  {
   "cell_type": "code",
   "execution_count": null,
   "id": "4c90b04f",
   "metadata": {},
   "outputs": [],
   "source": [
    "metrics.confusion_matrix(y_test, y_pred)"
   ]
  },
  {
   "cell_type": "code",
   "execution_count": null,
   "id": "cce97e87",
   "metadata": {},
   "outputs": [],
   "source": [
    "print(metrics.classification_report(y_test, y_pred))"
   ]
  },
  {
   "cell_type": "code",
   "execution_count": null,
   "id": "ddad2e52",
   "metadata": {},
   "outputs": [],
   "source": [
    "y_pred_proba = model.predict_proba(X_test)[::,1]"
   ]
  },
  {
   "cell_type": "code",
   "execution_count": null,
   "id": "23f93970",
   "metadata": {},
   "outputs": [],
   "source": [
    "y_pred_proba"
   ]
  },
  {
   "cell_type": "code",
   "execution_count": null,
   "id": "910f584d",
   "metadata": {},
   "outputs": [],
   "source": [
    "fpr, tpr, thresholds = metrics.roc_curve(y_test,  y_pred_proba) "
   ]
  },
  {
   "cell_type": "code",
   "execution_count": null,
   "id": "80bbb240",
   "metadata": {},
   "outputs": [],
   "source": [
    "auc = metrics.roc_auc_score(y_test, y_pred_proba) "
   ]
  },
  {
   "cell_type": "code",
   "execution_count": null,
   "id": "a9896140",
   "metadata": {},
   "outputs": [],
   "source": [
    "auc"
   ]
  },
  {
   "cell_type": "code",
   "execution_count": null,
   "id": "248064e1",
   "metadata": {},
   "outputs": [],
   "source": [
    "plt.plot(fpr, tpr, label=\"AUC=\"+str(auc))\n",
    "plt.ylabel('True Positive')\n",
    "plt.xlabel('False Positive')\n",
    "plt.legend(loc=4)\n",
    "plt.show()"
   ]
  },
  {
   "cell_type": "markdown",
   "id": "9f0448cd",
   "metadata": {},
   "source": [
    "### Znacajnost atributa"
   ]
  },
  {
   "cell_type": "markdown",
   "id": "ec9926fb",
   "metadata": {},
   "source": [
    "Znacajnost svakog atributa izracunava se kao mera smanjenja heterogenosti (impurity) nakon podele instanci u cvoru na osnovu tog konkretnog atributa."
   ]
  },
  {
   "cell_type": "code",
   "execution_count": null,
   "id": "6d9edbc2",
   "metadata": {},
   "outputs": [],
   "source": [
    "plt.barh(list(X.columns), model.feature_importances_)\n",
    "plt.show()"
   ]
  },
  {
   "cell_type": "code",
   "execution_count": null,
   "id": "d300e440",
   "metadata": {},
   "outputs": [],
   "source": []
  }
 ],
 "metadata": {
  "kernelspec": {
   "display_name": "Python 3 (ipykernel)",
   "language": "python",
   "name": "python3"
  },
  "language_info": {
   "codemirror_mode": {
    "name": "ipython",
    "version": 3
   },
   "file_extension": ".py",
   "mimetype": "text/x-python",
   "name": "python",
   "nbconvert_exporter": "python",
   "pygments_lexer": "ipython3",
   "version": "3.9.7"
  }
 },
 "nbformat": 4,
 "nbformat_minor": 5
}

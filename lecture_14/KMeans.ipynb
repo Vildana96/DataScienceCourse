{
 "cells": [
  {
   "cell_type": "markdown",
   "id": "22f92a24",
   "metadata": {},
   "source": [
    "## K-means"
   ]
  },
  {
   "cell_type": "markdown",
   "id": "f8655dde",
   "metadata": {},
   "source": [
    "K-means iliti algoritam `k-sredina` grupise podatke u `k` klastera. Svaki klaster je predstavljen centroidom koja se dobija kao prosek svih instanci podataka koje joj pripadaju. Broj klastera se unapred zadaje dok se pocetne centroide nasumicno biraju (nekada se mogu i zadati ako je struktura poznata)."
   ]
  },
  {
   "cell_type": "markdown",
   "id": "8167f27e",
   "metadata": {},
   "source": [
    "<img src='kmeans.png'>"
   ]
  },
  {
   "cell_type": "markdown",
   "id": "e46695bd",
   "metadata": {},
   "source": [
    "### Paznja! Ne mesati K-means model koji je klasterovanje - nenadgledano masinsko ucenje, sa kNN koji je klasifikacija - nadgledano masinsko ucenje."
   ]
  },
  {
   "cell_type": "code",
   "execution_count": null,
   "id": "d9f9d0ad",
   "metadata": {},
   "outputs": [],
   "source": [
    "import numpy as np\n",
    "import pandas as pd\n",
    "import matplotlib.pyplot as plt"
   ]
  },
  {
   "cell_type": "markdown",
   "id": "96d09410",
   "metadata": {},
   "source": [
    "Uvodimo novi podmodul `cluster` za upotrebu algortima k-sredina kroz `KMeans`."
   ]
  },
  {
   "cell_type": "code",
   "execution_count": null,
   "id": "76930619",
   "metadata": {},
   "outputs": [],
   "source": [
    "from sklearn.cluster import KMeans"
   ]
  },
  {
   "cell_type": "code",
   "execution_count": null,
   "id": "5b5021cb",
   "metadata": {},
   "outputs": [],
   "source": [
    "import warnings\n",
    "warnings.filterwarnings(\"ignore\")"
   ]
  },
  {
   "cell_type": "markdown",
   "id": "3960d543",
   "metadata": {},
   "source": [
    "Funkcija `make_blobs` kreira sinteticke grupisane podatke. Argumenti su:\n",
    "* `n_samples` ukupan broj instanci skupa\n",
    "* `n_features` dimenzija atributa\n",
    "* `centers` broj centroida tj. klastera \n",
    "* `random_state` za ponovno generisanje"
   ]
  },
  {
   "cell_type": "code",
   "execution_count": null,
   "id": "94729106",
   "metadata": {},
   "outputs": [],
   "source": [
    "from sklearn.datasets import make_blobs"
   ]
  },
  {
   "cell_type": "code",
   "execution_count": null,
   "id": "2a30472e",
   "metadata": {},
   "outputs": [],
   "source": [
    "X, y = make_blobs(n_samples=100, n_features=2, centers=4, random_state=25)"
   ]
  },
  {
   "cell_type": "code",
   "execution_count": null,
   "id": "b22afbaf",
   "metadata": {},
   "outputs": [],
   "source": [
    "X.shape # podaci"
   ]
  },
  {
   "cell_type": "code",
   "execution_count": null,
   "id": "61b865e8",
   "metadata": {},
   "outputs": [],
   "source": [
    "y # klasteri"
   ]
  },
  {
   "cell_type": "code",
   "execution_count": null,
   "id": "2626cee9",
   "metadata": {},
   "outputs": [],
   "source": [
    "plt.title('Sinteticki podaci')\n",
    "plt.scatter(X[:, 0], X[:, 1], c=y, cmap='viridis')\n",
    "plt.show()"
   ]
  },
  {
   "cell_type": "markdown",
   "id": "9880e569",
   "metadata": {},
   "source": [
    "### Kako izabrati broj klastera?"
   ]
  },
  {
   "cell_type": "markdown",
   "id": "810a8068",
   "metadata": {},
   "source": [
    "Kao i do sada, optimalni parametar je onaj za koji model daje najbolje rezultate, odnosno najmanje gresi. "
   ]
  },
  {
   "cell_type": "markdown",
   "id": "87d322f6",
   "metadata": {},
   "source": [
    "**Funkcija greske:** $$L(c) = \\sum_{i=1}^n{\\min_{j}||x_{i}-c_{j}||^2}$$"
   ]
  },
  {
   "cell_type": "markdown",
   "id": "04e98eb0",
   "metadata": {},
   "source": [
    "Ocigledno, funkcija greske je najmanja, tacnije jednaka nuli, kada je broj klastera $c$ jednak broj instanci u skupu podataka tj. kada je svaka instanca zaseban klaster. Stoga biramo najmanji broj klastera koji dovoljno dobro minimizuje funkciju greske. To radimo pomocu **pravila lakta**."
   ]
  },
  {
   "cell_type": "code",
   "execution_count": null,
   "id": "c2eeb272",
   "metadata": {},
   "outputs": [],
   "source": [
    "Ks = range(1, 10) # broj klastera trazimo od 1 do 10"
   ]
  },
  {
   "cell_type": "markdown",
   "id": "753ed9ea",
   "metadata": {},
   "source": [
    "`KMeans` funkcija ocekuje broj klastera i nasumican izbor pocetnih centroida."
   ]
  },
  {
   "cell_type": "code",
   "execution_count": null,
   "id": "a1b18887",
   "metadata": {},
   "outputs": [],
   "source": [
    "models = [KMeans(n_clusters=i, random_state=23) for i in Ks]"
   ]
  },
  {
   "cell_type": "code",
   "execution_count": null,
   "id": "bd7f2cd7",
   "metadata": {},
   "outputs": [],
   "source": [
    "scores = [model.fit(X).score(X) for model in models] # score funkcija vraca negativnu vrednost funkcije greske"
   ]
  },
  {
   "cell_type": "markdown",
   "id": "7526f1d0",
   "metadata": {},
   "source": [
    "[Dokumentacija](https://scikit-learn.org/stable/modules/generated/sklearn.cluster.KMeans.html)"
   ]
  },
  {
   "cell_type": "code",
   "execution_count": null,
   "id": "3ceb5ae4",
   "metadata": {},
   "outputs": [],
   "source": [
    "plt.plot(Ks, scores)\n",
    "plt.scatter(4, scores[3], c='red')\n",
    "plt.show()"
   ]
  },
  {
   "cell_type": "markdown",
   "id": "1b409412",
   "metadata": {},
   "source": [
    "Pravilom lakta zakljucujemo da je  `k = 4` optimalna vrednost."
   ]
  },
  {
   "cell_type": "code",
   "execution_count": null,
   "id": "c5a7c61f",
   "metadata": {},
   "outputs": [],
   "source": [
    "kmeans = KMeans(n_clusters=3, random_state=25)\n",
    "kmeans.fit(X)"
   ]
  },
  {
   "cell_type": "markdown",
   "id": "26e2b43e",
   "metadata": {},
   "source": [
    "Pripadnost svake instance klasterima dobijamo pomocu `labels_` ili pozivom `predict`."
   ]
  },
  {
   "cell_type": "code",
   "execution_count": null,
   "id": "515a6e0f",
   "metadata": {},
   "outputs": [],
   "source": [
    "kmeans.labels_ "
   ]
  },
  {
   "cell_type": "code",
   "execution_count": null,
   "id": "e3006880",
   "metadata": {},
   "outputs": [],
   "source": [
    "y_pred = kmeans.predict(X)"
   ]
  },
  {
   "cell_type": "code",
   "execution_count": null,
   "id": "55067296",
   "metadata": {},
   "outputs": [],
   "source": [
    "y_pred"
   ]
  },
  {
   "cell_type": "code",
   "execution_count": null,
   "id": "bbb370a8",
   "metadata": {},
   "outputs": [],
   "source": [
    "kmeans.cluster_centers_ # finalne centroide"
   ]
  },
  {
   "cell_type": "code",
   "execution_count": null,
   "id": "3e6a5a33",
   "metadata": {},
   "outputs": [],
   "source": [
    "plt.title('Rezultat K-means klasterovanja')\n",
    "plt.scatter(X[:, 0], X[:, 1], c=kmeans.labels_, cmap='viridis')\n",
    "plt.show()"
   ]
  },
  {
   "cell_type": "markdown",
   "id": "b4faad30",
   "metadata": {},
   "source": [
    "### Jos jedan nacin: Silhouette metod"
   ]
  },
  {
   "cell_type": "markdown",
   "id": "af9c118e",
   "metadata": {},
   "source": [
    "[Dokumentacija](https://scikit-learn.org/stable/auto_examples/cluster/plot_kmeans_silhouette_analysis.html)"
   ]
  },
  {
   "cell_type": "markdown",
   "id": "5f302710",
   "metadata": {},
   "source": [
    "**Silhouette koeficijent za jednu instancu u skupu podataka:** $$S(i) = \\frac{b(i)-a(i)}{max(a(i), b(i))}$$"
   ]
  },
  {
   "cell_type": "markdown",
   "id": "0eb7e7b0",
   "metadata": {},
   "source": [
    "<img src = 'silhouette.png'>"
   ]
  },
  {
   "cell_type": "markdown",
   "id": "7ab4b592",
   "metadata": {},
   "source": [
    "**Silhouette koeficijent** se dobija kao prosek koeficijenata instanci i naravno zavisi od broja klastera $k$: $$S(k) = 1/n \\sum_{i=1}^n {S(i)} $$"
   ]
  },
  {
   "cell_type": "code",
   "execution_count": null,
   "id": "a92c56aa",
   "metadata": {},
   "outputs": [],
   "source": [
    "X, y = make_blobs(n_samples=100, n_features=2, centers=3, random_state=25)"
   ]
  },
  {
   "cell_type": "code",
   "execution_count": null,
   "id": "31fd8de8",
   "metadata": {},
   "outputs": [],
   "source": [
    "plt.title('Sinteticki podaci')\n",
    "plt.scatter(X[:, 0], X[:, 1], c=y, cmap='viridis')\n",
    "plt.show()"
   ]
  },
  {
   "cell_type": "code",
   "execution_count": null,
   "id": "f2a05281",
   "metadata": {},
   "outputs": [],
   "source": [
    "from sklearn import metrics"
   ]
  },
  {
   "cell_type": "code",
   "execution_count": null,
   "id": "a7e60cd7",
   "metadata": {},
   "outputs": [],
   "source": [
    "sil_scores = []"
   ]
  },
  {
   "cell_type": "code",
   "execution_count": null,
   "id": "16c041f0",
   "metadata": {},
   "outputs": [],
   "source": [
    "Ks = range(2, 8)\n",
    "Ks"
   ]
  },
  {
   "cell_type": "code",
   "execution_count": null,
   "id": "c53f964a",
   "metadata": {},
   "outputs": [],
   "source": [
    "for K in Ks:\n",
    "    model = KMeans(n_clusters=K, random_state=23)\n",
    "    model.fit(X)\n",
    "    sil_scores.append(metrics.silhouette_score(X, model.labels_))"
   ]
  },
  {
   "cell_type": "code",
   "execution_count": null,
   "id": "2b398b9d",
   "metadata": {},
   "outputs": [],
   "source": [
    "sil_scores"
   ]
  },
  {
   "cell_type": "code",
   "execution_count": null,
   "id": "0c622d27",
   "metadata": {},
   "outputs": [],
   "source": [
    "plt.plot(Ks, sil_scores)\n",
    "plt.show()"
   ]
  },
  {
   "cell_type": "code",
   "execution_count": null,
   "id": "3100d1ea",
   "metadata": {},
   "outputs": [],
   "source": []
  }
 ],
 "metadata": {
  "kernelspec": {
   "display_name": "Python 3 (ipykernel)",
   "language": "python",
   "name": "python3"
  },
  "language_info": {
   "codemirror_mode": {
    "name": "ipython",
    "version": 3
   },
   "file_extension": ".py",
   "mimetype": "text/x-python",
   "name": "python",
   "nbconvert_exporter": "python",
   "pygments_lexer": "ipython3",
   "version": "3.9.7"
  }
 },
 "nbformat": 4,
 "nbformat_minor": 5
}

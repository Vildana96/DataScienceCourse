{
 "cells": [
  {
   "cell_type": "code",
   "execution_count": null,
   "id": "12cb3db3",
   "metadata": {},
   "outputs": [],
   "source": [
    "from sklearn.datasets import fetch_20newsgroups\n",
    "from sklearn.feature_extraction.text import TfidfVectorizer\n",
    "from sklearn.cluster import KMeans\n",
    "from sklearn.decomposition import PCA\n",
    "\n",
    "import pandas as pd\n",
    "import numpy as np\n",
    "\n",
    "import matplotlib.pyplot as plt\n",
    "import seaborn as sns"
   ]
  },
  {
   "cell_type": "markdown",
   "id": "67609438",
   "metadata": {},
   "source": [
    "[fetch_20newsgroups data](https://scikit-learn.org/0.19/datasets/twenty_newsgroups.html)"
   ]
  },
  {
   "cell_type": "code",
   "execution_count": null,
   "id": "fd30f8fa",
   "metadata": {},
   "outputs": [],
   "source": [
    "# uzimamo tri teme: racunari, sport i religija\n",
    "categories = [\n",
    " 'comp.graphics',\n",
    " 'comp.os.ms-windows.misc',\n",
    " 'rec.sport.baseball',\n",
    " 'rec.sport.hockey',\n",
    " 'alt.atheism',\n",
    " 'soc.religion.christian',\n",
    "]"
   ]
  },
  {
   "cell_type": "code",
   "execution_count": null,
   "id": "b77991bb",
   "metadata": {},
   "outputs": [],
   "source": [
    "dataset = fetch_20newsgroups(subset='train', categories=categories, remove=('headers', 'footers', 'quotes'))"
   ]
  },
  {
   "cell_type": "code",
   "execution_count": null,
   "id": "69885cf7",
   "metadata": {},
   "outputs": [],
   "source": [
    "dataset"
   ]
  },
  {
   "cell_type": "code",
   "execution_count": null,
   "id": "6e119cb7",
   "metadata": {},
   "outputs": [],
   "source": [
    "df = pd.DataFrame(dataset.data, columns=[\"corpus\"])"
   ]
  },
  {
   "cell_type": "code",
   "execution_count": null,
   "id": "0c3f416d",
   "metadata": {},
   "outputs": [],
   "source": [
    "df.head()"
   ]
  },
  {
   "cell_type": "code",
   "execution_count": null,
   "id": "bb2b73ca",
   "metadata": {},
   "outputs": [],
   "source": [
    "df.iloc[1].values"
   ]
  },
  {
   "cell_type": "code",
   "execution_count": null,
   "id": "9e5a1c3b",
   "metadata": {},
   "outputs": [],
   "source": [
    "df.shape"
   ]
  },
  {
   "cell_type": "markdown",
   "id": "e6f4efa1",
   "metadata": {},
   "source": [
    "### Preporcessing"
   ]
  },
  {
   "cell_type": "code",
   "execution_count": null,
   "id": "6e03e89a",
   "metadata": {},
   "outputs": [],
   "source": [
    "# Biblioteka za rad sa tekstom\n",
    "import re\n",
    "import string\n",
    "import nltk\n",
    "from nltk.corpus import stopwords"
   ]
  },
  {
   "cell_type": "code",
   "execution_count": null,
   "id": "05ec9fd6",
   "metadata": {},
   "outputs": [],
   "source": [
    "from nltk.corpus import stopwords\n",
    "stopwords.words('english')[:10]"
   ]
  },
  {
   "cell_type": "code",
   "execution_count": null,
   "id": "6da69dc3",
   "metadata": {},
   "outputs": [],
   "source": [
    "len(stopwords.words('english'))"
   ]
  },
  {
   "cell_type": "code",
   "execution_count": null,
   "id": "34f741fb",
   "metadata": {},
   "outputs": [],
   "source": [
    "string.punctuation"
   ]
  },
  {
   "cell_type": "code",
   "execution_count": null,
   "id": "8e8b54d3",
   "metadata": {},
   "outputs": [],
   "source": [
    "def preprocess_text(text):\n",
    "    # remove special chars (> punctuation) and numbers\n",
    "    text = re.sub('[^A-Za-z]+', ' ', text)  # ukloni sve sto nije veliko ili malo slovo \n",
    "    # remove stopwords\n",
    "    tokens = nltk.word_tokenize(text) # podela teksta na tokene (kao reci)\n",
    "    tokens = [w for w in tokens if not w.lower() in stopwords.words('english') and w not in string.punctuation] # izbaci stopwords\n",
    "    text = ' '.join(tokens) # ocisceni tekst\n",
    "    text = text.lower().strip() # sve mala slova i bez suvisnih razmaka (whitespace) \n",
    "    return text"
   ]
  },
  {
   "cell_type": "code",
   "execution_count": null,
   "id": "310ec194",
   "metadata": {},
   "outputs": [],
   "source": [
    "df['cleaned_corpus'] = df['corpus'].apply(lambda x: preprocess_text(x))"
   ]
  },
  {
   "cell_type": "code",
   "execution_count": null,
   "id": "1ee3c691",
   "metadata": {},
   "outputs": [],
   "source": [
    "df"
   ]
  },
  {
   "cell_type": "code",
   "execution_count": null,
   "id": "caf0578b",
   "metadata": {},
   "outputs": [],
   "source": [
    "df.iloc[0].values"
   ]
  },
  {
   "cell_type": "markdown",
   "id": "94f9bfd6",
   "metadata": {},
   "source": [
    "## TF-IDF"
   ]
  },
  {
   "cell_type": "markdown",
   "id": "5146dd3c",
   "metadata": {},
   "source": [
    "<img src = 'tfidf.png'>"
   ]
  },
  {
   "cell_type": "markdown",
   "id": "29e2d963",
   "metadata": {},
   "source": [
    "**TF-IDF (Term Frequency-Inverse Document Frequency)** je statisticka mera koja govori koliko je svaka rec bitna u korpusu tako sto svakoj reci dodeljuje numericku tezinu. "
   ]
  },
  {
   "cell_type": "code",
   "execution_count": null,
   "id": "1a981a37",
   "metadata": {},
   "outputs": [],
   "source": [
    "tf_idf_vectorizer = TfidfVectorizer(sublinear_tf=True, max_df=0.95)"
   ]
  },
  {
   "cell_type": "code",
   "execution_count": null,
   "id": "4a3da66a",
   "metadata": {},
   "outputs": [],
   "source": [
    "X = tf_idf_vectorizer.fit_transform(df['cleaned_corpus'])"
   ]
  },
  {
   "cell_type": "code",
   "execution_count": null,
   "id": "969bb474",
   "metadata": {},
   "outputs": [],
   "source": [
    "X.shape  \n",
    "# svaka rec dobija svoju tezinu u tekstu, odnosno svakom tekstu dodeljujemo vektor duzine broja reci u vokabularu"
   ]
  },
  {
   "cell_type": "code",
   "execution_count": null,
   "id": "a96a3718",
   "metadata": {},
   "outputs": [],
   "source": [
    "vocabulary = []\n",
    "for text in df['cleaned_corpus']:\n",
    "    vocabulary.extend([w for w in nltk.word_tokenize(text)])"
   ]
  },
  {
   "cell_type": "code",
   "execution_count": null,
   "id": "cd14ad54",
   "metadata": {},
   "outputs": [],
   "source": [
    "len(np.unique(vocabulary)) # ima malo vise reci jer smo neke filtrirali koristeci max_df"
   ]
  },
  {
   "cell_type": "code",
   "execution_count": null,
   "id": "71dde6c2",
   "metadata": {},
   "outputs": [],
   "source": [
    "X # sparse matrix"
   ]
  },
  {
   "cell_type": "code",
   "execution_count": null,
   "id": "3753715f",
   "metadata": {},
   "outputs": [],
   "source": [
    "X.toarray()"
   ]
  },
  {
   "cell_type": "markdown",
   "id": "e9d18a59",
   "metadata": {},
   "source": [
    "### K-means"
   ]
  },
  {
   "cell_type": "code",
   "execution_count": null,
   "id": "f6c2433f",
   "metadata": {},
   "outputs": [],
   "source": [
    "Ks = range(1, 8) "
   ]
  },
  {
   "cell_type": "code",
   "execution_count": null,
   "id": "5ff85ee0",
   "metadata": {},
   "outputs": [],
   "source": [
    "models = [KMeans(n_clusters=i, random_state=23) for i in Ks]"
   ]
  },
  {
   "cell_type": "code",
   "execution_count": null,
   "id": "9955778a",
   "metadata": {},
   "outputs": [],
   "source": [
    "scores = [model.fit(X).score(X) for model in models]"
   ]
  },
  {
   "cell_type": "code",
   "execution_count": null,
   "id": "4cffbb18",
   "metadata": {},
   "outputs": [],
   "source": [
    "plt.plot(Ks, scores)\n",
    "plt.show()"
   ]
  },
  {
   "cell_type": "code",
   "execution_count": null,
   "id": "672e24ce",
   "metadata": {},
   "outputs": [],
   "source": [
    "kmeans = KMeans(n_clusters=4)\n",
    "kmeans.fit(X)"
   ]
  },
  {
   "cell_type": "code",
   "execution_count": null,
   "id": "9ef81382",
   "metadata": {},
   "outputs": [],
   "source": [
    "clusters = kmeans.labels_ \n",
    "clusters"
   ]
  },
  {
   "cell_type": "markdown",
   "id": "a6627f63",
   "metadata": {},
   "source": [
    "## PCA "
   ]
  },
  {
   "cell_type": "markdown",
   "id": "6f921914",
   "metadata": {},
   "source": [
    "**PCA (Principal Component Analysis)** je tehnika redukcije dimenzije tako da se sto bolje ocuva informacije koju podaci nose. Podaci su predstavljeni glavnim komponentama u novom koordinatnom sistemu dobijenom ortogonalnom transformacijom. Prva glavna komponenta je pravac u prostoru na kome projekcije tacaka podataka imaju najvecu varijansu. U zavisnosti od strukture podataka, mozemo redukovati dimenziju na samo nekoliko glavnih komponenti."
   ]
  },
  {
   "cell_type": "markdown",
   "id": "a97b365d",
   "metadata": {},
   "source": [
    "<img src='pca.jpeg' width=600>"
   ]
  },
  {
   "cell_type": "code",
   "execution_count": null,
   "id": "6f805b92",
   "metadata": {},
   "outputs": [],
   "source": [
    "# PCA sa dve glavne komponente\n",
    "pca = PCA(n_components=2, random_state=42)"
   ]
  },
  {
   "cell_type": "code",
   "execution_count": null,
   "id": "42564d27",
   "metadata": {},
   "outputs": [],
   "source": [
    "X_pca = pca.fit_transform(X.toarray())\n",
    "x0 = X_pca[:, 0]\n",
    "x1 = X_pca[:, 1]"
   ]
  },
  {
   "cell_type": "code",
   "execution_count": null,
   "id": "ecdaaf5c",
   "metadata": {},
   "outputs": [],
   "source": [
    "df['cluster'] = clusters\n",
    "df['x0'] = x0\n",
    "df['x1'] = x1"
   ]
  },
  {
   "cell_type": "code",
   "execution_count": null,
   "id": "de4850d3",
   "metadata": {},
   "outputs": [],
   "source": [
    "df.head()"
   ]
  },
  {
   "cell_type": "code",
   "execution_count": null,
   "id": "664f85b8",
   "metadata": {},
   "outputs": [],
   "source": [
    "X_pca.shape"
   ]
  },
  {
   "cell_type": "code",
   "execution_count": null,
   "id": "dea4ec77",
   "metadata": {},
   "outputs": [],
   "source": [
    "def get_top_keywords(n_terms):\n",
    "    df = pd.DataFrame(X.todense()).groupby(clusters).mean()\n",
    "    terms = tf_idf_vectorizer.get_feature_names_out() # vraca vokabular\n",
    "    for i, row in df.iterrows():\n",
    "        print('\\nCluster {}'.format(i))\n",
    "        print(','.join([terms[t] for t in np.argsort(row)[-n_terms:]])) "
   ]
  },
  {
   "cell_type": "code",
   "execution_count": null,
   "id": "c7cf1375",
   "metadata": {},
   "outputs": [],
   "source": [
    "get_top_keywords(10)  # 10 najvaznijih reci u svakom klasteru"
   ]
  },
  {
   "cell_type": "code",
   "execution_count": null,
   "id": "137da36b",
   "metadata": {},
   "outputs": [],
   "source": [
    "plt.figure(figsize=(12, 7))\n",
    "plt.title('PCA rezultat K-means klasterovanja TF-IDF reprezentacije teksta')\n",
    "plt.xlabel('x0')\n",
    "plt.ylabel('x1')\n",
    "sns.scatterplot(data=df, x='x0', y='x1', hue='cluster', palette=\"viridis\")\n",
    "plt.show()"
   ]
  },
  {
   "cell_type": "code",
   "execution_count": null,
   "id": "588429ce",
   "metadata": {},
   "outputs": [],
   "source": []
  }
 ],
 "metadata": {
  "kernelspec": {
   "display_name": "Python 3 (ipykernel)",
   "language": "python",
   "name": "python3"
  },
  "language_info": {
   "codemirror_mode": {
    "name": "ipython",
    "version": 3
   },
   "file_extension": ".py",
   "mimetype": "text/x-python",
   "name": "python",
   "nbconvert_exporter": "python",
   "pygments_lexer": "ipython3",
   "version": "3.9.7"
  }
 },
 "nbformat": 4,
 "nbformat_minor": 5
}

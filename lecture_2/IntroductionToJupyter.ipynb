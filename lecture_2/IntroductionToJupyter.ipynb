{
 "cells": [
  {
   "cell_type": "markdown",
   "id": "946974a4",
   "metadata": {},
   "source": [
    "## Introduction to Jupyter"
   ]
  },
  {
   "cell_type": "markdown",
   "id": "d0ef0ab7",
   "metadata": {},
   "source": [
    "The Jupyter Notebook is an open source web application that you can use to create and share documents that contain live code, equations, visualizations, and text."
   ]
  },
  {
   "cell_type": "markdown",
   "id": "4dd80bf5",
   "metadata": {},
   "source": [
    "The name, Jupyter, comes from the core supported programming languages that it supports: Julia, Python, and R."
   ]
  },
  {
   "cell_type": "markdown",
   "id": "4449f631",
   "metadata": {},
   "source": [
    "### Installation"
   ]
  },
  {
   "cell_type": "markdown",
   "id": "25c937aa",
   "metadata": {},
   "source": [
    "Install Jupyter Notebook like this using pip: <br>\n",
    "**$ pip install jupyter** <br>\n",
    "or install it via Anaconda like this: <br>\n",
    "[Anaconda for Windows](https://docs.anaconda.com/anaconda/install/windows/) <br>\n",
    "[Anaconda for Linux](https://docs.anaconda.com/anaconda/install/linux/)"
   ]
  },
  {
   "cell_type": "markdown",
   "id": "0a4be70b",
   "metadata": {},
   "source": [
    "### Starting notebook server"
   ]
  },
  {
   "cell_type": "markdown",
   "id": "d8cfb851",
   "metadata": {},
   "source": [
    "Create folder, something like *JupyterWorkspace* in your Documents or somewhere familiar. Then just go to that location in your terminal and run: <br>\n",
    "**$ jupyter notebook**"
   ]
  },
  {
   "cell_type": "markdown",
   "id": "cb2182c6",
   "metadata": {},
   "source": [
    "**Home page:** http://localhost:8888/tree"
   ]
  },
  {
   "cell_type": "markdown",
   "id": "8e8f60ff",
   "metadata": {},
   "source": [
    "The Running tab will tell you which Notebooks and Terminals you are currently running."
   ]
  },
  {
   "cell_type": "markdown",
   "id": "d2277f94",
   "metadata": {},
   "source": [
    "### Creating notebook"
   ]
  },
  {
   "cell_type": "markdown",
   "id": "c585d372",
   "metadata": {},
   "source": [
    "All you need to do is click on the **New button (upper right)**, and it will open up a list of choices. We need a **Python 3**."
   ]
  },
  {
   "cell_type": "markdown",
   "id": "f5960fd3",
   "metadata": {},
   "source": [
    "We need to rename **Untitled** nottebook. Just move your mouse over the title and click on the text. Let’s rename it to *Hello Jupyter*."
   ]
  },
  {
   "cell_type": "markdown",
   "id": "1f36c86e",
   "metadata": {},
   "source": [
    "### Running cells"
   ]
  },
  {
   "cell_type": "markdown",
   "id": "c3b5a50e",
   "metadata": {},
   "source": [
    "![alt text](running.png)"
   ]
  },
  {
   "cell_type": "code",
   "execution_count": null,
   "id": "3e1b8b1e",
   "metadata": {},
   "outputs": [],
   "source": [
    "print('Hello Jupyter!')"
   ]
  },
  {
   "cell_type": "markdown",
   "id": "353d379e",
   "metadata": {},
   "source": [
    "* Python 3 as your kernel \n",
    "* running means execute the cell’s contents\n",
    "* you can share your variables and imports across cells\n",
    "* separate out your code into logical chunks\n",
    "* the square braces, next to the word **In** to the left of the cell, indicate the order that you ran the cells"
   ]
  },
  {
   "cell_type": "markdown",
   "id": "bd7ebaf3",
   "metadata": {},
   "source": [
    "### Menu"
   ]
  },
  {
   "cell_type": "markdown",
   "id": "ad75a5cb",
   "metadata": {},
   "source": [
    "* File\n",
    "* Edit\n",
    "* View\n",
    "* Insert\n",
    "* Cell\n",
    "* Kernel\n",
    "* Widgets\n",
    "* Help"
   ]
  },
  {
   "cell_type": "markdown",
   "id": "7fe43419",
   "metadata": {},
   "source": [
    "**Keyboard shortcuts:** Esc + H"
   ]
  },
  {
   "cell_type": "markdown",
   "id": "dcca9983",
   "metadata": {},
   "source": [
    "### Notebook style"
   ]
  },
  {
   "cell_type": "markdown",
   "id": "3e526dd4",
   "metadata": {},
   "source": [
    "Change cell to Markdown with Esc + M."
   ]
  },
  {
   "cell_type": "markdown",
   "id": "a513d8ec",
   "metadata": {},
   "source": [
    "Jupyter Markdown: https://www.markdownguide.org/basic-syntax/"
   ]
  },
  {
   "cell_type": "markdown",
   "id": "22211c51",
   "metadata": {},
   "source": [
    "### Share notebook"
   ]
  },
  {
   "cell_type": "markdown",
   "id": "192d3e5d",
   "metadata": {},
   "source": [
    "Use *File/Download as* to convert or export your Notebook into one of the following formats:\n",
    "* HTML\n",
    "* LaTeX\n",
    "* PDF\n",
    "* RevealJS\n",
    "* Markdown etc."
   ]
  },
  {
   "cell_type": "markdown",
   "id": "903cd73a",
   "metadata": {},
   "source": [
    "Or use the nbconvert tool, which comes with Jupyter Notebook, like: <br>\n",
    "**$ jupyter nbconvert </input notebook>/ --to </output format>/**"
   ]
  },
  {
   "cell_type": "code",
   "execution_count": null,
   "id": "872a546d",
   "metadata": {},
   "outputs": [],
   "source": []
  }
 ],
 "metadata": {
  "kernelspec": {
   "display_name": "Python 3 (ipykernel)",
   "language": "python",
   "name": "python3"
  },
  "language_info": {
   "codemirror_mode": {
    "name": "ipython",
    "version": 3
   },
   "file_extension": ".py",
   "mimetype": "text/x-python",
   "name": "python",
   "nbconvert_exporter": "python",
   "pygments_lexer": "ipython3",
   "version": "3.9.7"
  }
 },
 "nbformat": 4,
 "nbformat_minor": 5
}

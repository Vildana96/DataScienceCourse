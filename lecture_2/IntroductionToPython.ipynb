{
 "cells": [
  {
   "cell_type": "markdown",
   "id": "b5de3f1b",
   "metadata": {},
   "source": [
    "## Introduction"
   ]
  },
  {
   "cell_type": "markdown",
   "id": "12cd74c3",
   "metadata": {},
   "source": [
    "### Print and format"
   ]
  },
  {
   "cell_type": "code",
   "execution_count": null,
   "id": "352b5a1e",
   "metadata": {},
   "outputs": [],
   "source": [
    "print(10)"
   ]
  },
  {
   "cell_type": "code",
   "execution_count": null,
   "id": "673b386f",
   "metadata": {},
   "outputs": [],
   "source": [
    "print('NISKA')"
   ]
  },
  {
   "cell_type": "code",
   "execution_count": null,
   "id": "9f3b75aa",
   "metadata": {},
   "outputs": [],
   "source": [
    "a = 10\n",
    "print(a)"
   ]
  },
  {
   "cell_type": "code",
   "execution_count": null,
   "id": "1a68f8af",
   "metadata": {},
   "outputs": [],
   "source": [
    "a = input()\n",
    "print(a)"
   ]
  },
  {
   "cell_type": "code",
   "execution_count": null,
   "id": "f10432cf",
   "metadata": {},
   "outputs": [],
   "source": [
    "n = input('Unesite vrednost n: ')"
   ]
  },
  {
   "cell_type": "code",
   "execution_count": null,
   "id": "9c4354a0",
   "metadata": {},
   "outputs": [],
   "source": [
    "n = 10\n",
    "print('Vrednost promenljive n je {}'.format(n))"
   ]
  },
  {
   "cell_type": "code",
   "execution_count": null,
   "id": "303ff4b7",
   "metadata": {},
   "outputs": [],
   "source": [
    "print('Vrednost promenljive a je ', a)"
   ]
  },
  {
   "cell_type": "code",
   "execution_count": null,
   "id": "997fa2d1",
   "metadata": {},
   "outputs": [],
   "source": [
    "a = 5\n",
    "b = 6\n",
    "print('a = {}, b = {}'.format(a, b))"
   ]
  },
  {
   "cell_type": "markdown",
   "id": "7a8934b9",
   "metadata": {},
   "source": [
    "### Read & write"
   ]
  },
  {
   "cell_type": "code",
   "execution_count": null,
   "id": "0e835ba2",
   "metadata": {},
   "outputs": [],
   "source": [
    "with open('points.txt') as f:\n",
    "    print(f.read())"
   ]
  },
  {
   "cell_type": "code",
   "execution_count": null,
   "id": "c89ba5fd",
   "metadata": {},
   "outputs": [],
   "source": [
    "with open('points.txt') as f:\n",
    "    print(f.readline())"
   ]
  },
  {
   "cell_type": "code",
   "execution_count": null,
   "id": "c777fbc9",
   "metadata": {},
   "outputs": [],
   "source": [
    "try:\n",
    "    with open('ne_postojim.txt') as f:\n",
    "        print(f.read())\n",
    "except:\n",
    "    print('Greska prilikom ucitavanja datoteke!')"
   ]
  },
  {
   "cell_type": "code",
   "execution_count": null,
   "id": "7ae50750",
   "metadata": {},
   "outputs": [],
   "source": [
    "try:\n",
    "    with open('upisi.txt', 'w') as f:\n",
    "        f.write('Ovo je prva lekcija na Data Science kursu')\n",
    "except:\n",
    "    print('Doslo je do greske!')"
   ]
  },
  {
   "cell_type": "markdown",
   "id": "3a67796a",
   "metadata": {},
   "source": [
    "### If-else, for & while"
   ]
  },
  {
   "cell_type": "code",
   "execution_count": null,
   "id": "91052d53",
   "metadata": {},
   "outputs": [],
   "source": [
    "godina = 2022\n",
    "if (godina % 4 == 0 and godina % 100 != 0) or (godina % 400 == 0):\n",
    "    print('Godina {} je prestupna'.format(godina))\n",
    "else:\n",
    "    print('Godina {} je prosta'.format(godina))"
   ]
  },
  {
   "cell_type": "code",
   "execution_count": null,
   "id": "cd1e5474",
   "metadata": {},
   "outputs": [],
   "source": [
    "for i in range(0,5):\n",
    "    print(i)"
   ]
  },
  {
   "cell_type": "code",
   "execution_count": null,
   "id": "c2c8207a",
   "metadata": {},
   "outputs": [],
   "source": [
    "i = 0\n",
    "while i < 5:\n",
    "    print(i)\n",
    "    i += 1"
   ]
  },
  {
   "cell_type": "markdown",
   "id": "c06eae31",
   "metadata": {},
   "source": [
    "### Lists"
   ]
  },
  {
   "cell_type": "markdown",
   "id": "528004a2",
   "metadata": {},
   "source": [
    "A list is of an ordered collection data type that is mutable which means it can be easily modified and we can change its data values and a list can be indexed, sliced, and changed and each element can be accessed using its index value in the list. The following are the main characteristics of a List:\n",
    "</br>\n",
    "* The list is an ordered collection of data types.\n",
    "* The list is mutable.\n",
    "* List are dynamic and can contain objects of different data types.\n",
    "* List elements can be accessed by index number."
   ]
  },
  {
   "cell_type": "code",
   "execution_count": null,
   "id": "e6fba492",
   "metadata": {},
   "outputs": [],
   "source": [
    "l = [1, 2, 3, 4]\n",
    "print(l)"
   ]
  },
  {
   "cell_type": "code",
   "execution_count": null,
   "id": "dde819b8",
   "metadata": {},
   "outputs": [],
   "source": [
    "print(l[0])"
   ]
  },
  {
   "cell_type": "code",
   "execution_count": null,
   "id": "14dc302b",
   "metadata": {},
   "outputs": [],
   "source": [
    "print(l[-1])"
   ]
  },
  {
   "cell_type": "code",
   "execution_count": null,
   "id": "1100e4d1",
   "metadata": {},
   "outputs": [],
   "source": [
    "l[1:2], l[:2]"
   ]
  },
  {
   "cell_type": "code",
   "execution_count": null,
   "id": "711a05f8",
   "metadata": {},
   "outputs": [],
   "source": [
    "n = len(l)\n",
    "print('Length: {}'.format(n))"
   ]
  },
  {
   "cell_type": "code",
   "execution_count": null,
   "id": "c1ca11be",
   "metadata": {},
   "outputs": [],
   "source": [
    "print(l[3])"
   ]
  },
  {
   "cell_type": "code",
   "execution_count": null,
   "id": "d7a8f322",
   "metadata": {},
   "outputs": [],
   "source": [
    "for elem in l:\n",
    "    print(elem)"
   ]
  },
  {
   "cell_type": "markdown",
   "id": "33d9dedd",
   "metadata": {},
   "source": [
    "[List comprehension:](https://www.w3schools.com/python/python_lists_comprehension.asp)"
   ]
  },
  {
   "cell_type": "code",
   "execution_count": null,
   "id": "1fe0efff",
   "metadata": {},
   "outputs": [],
   "source": [
    "[elem**2 for elem in l]"
   ]
  },
  {
   "cell_type": "code",
   "execution_count": null,
   "id": "d179fea9",
   "metadata": {},
   "outputs": [],
   "source": [
    "l = [1, 5, 2, 4, 3]\n",
    "l.sort()\n",
    "print(l)"
   ]
  },
  {
   "cell_type": "code",
   "execution_count": null,
   "id": "5561ae76",
   "metadata": {},
   "outputs": [],
   "source": [
    "l.append(6)\n",
    "print(l)"
   ]
  },
  {
   "cell_type": "code",
   "execution_count": null,
   "id": "c0fbd86a",
   "metadata": {},
   "outputs": [],
   "source": [
    "list1 = [1, 2, 3, 4]\n",
    "list2 = ['a', 'b', 'c', 'd']\n",
    "zip_list = zip(list1, list2)"
   ]
  },
  {
   "cell_type": "code",
   "execution_count": null,
   "id": "c2e74126",
   "metadata": {},
   "outputs": [],
   "source": [
    "list(zip_list)"
   ]
  },
  {
   "cell_type": "code",
   "execution_count": null,
   "id": "aef80efc",
   "metadata": {},
   "outputs": [],
   "source": [
    "list1 = [1, 2, 3, 4]\n",
    "list2 = [5, 6, 7, 8]\n",
    "print(list1 + list2)"
   ]
  },
  {
   "cell_type": "markdown",
   "id": "806cfa55",
   "metadata": {},
   "source": [
    "### Matrices"
   ]
  },
  {
   "cell_type": "code",
   "execution_count": null,
   "id": "b083ef3a",
   "metadata": {},
   "outputs": [],
   "source": [
    "matrix = [[1, 2, 3],\n",
    "           [4, 5, 6],\n",
    "           [7, 8, 9]]\n",
    "print(matrix)"
   ]
  },
  {
   "cell_type": "code",
   "execution_count": null,
   "id": "eef97990",
   "metadata": {},
   "outputs": [],
   "source": [
    "print(matrix[2][2])"
   ]
  },
  {
   "cell_type": "markdown",
   "id": "a2ec88dd",
   "metadata": {},
   "source": [
    "### Strings"
   ]
  },
  {
   "cell_type": "code",
   "execution_count": null,
   "id": "badfad4c",
   "metadata": {},
   "outputs": [],
   "source": [
    "text = 'ABCDE'\n",
    "\n",
    "for c in text:\n",
    "    print(c)"
   ]
  },
  {
   "cell_type": "code",
   "execution_count": null,
   "id": "4a96685b",
   "metadata": {},
   "outputs": [],
   "source": [
    "text + 'F'"
   ]
  },
  {
   "cell_type": "code",
   "execution_count": null,
   "id": "5cf1737b",
   "metadata": {},
   "outputs": [],
   "source": [
    "text"
   ]
  },
  {
   "cell_type": "code",
   "execution_count": null,
   "id": "3a7bcea0",
   "metadata": {},
   "outputs": [],
   "source": [
    "text[0]"
   ]
  },
  {
   "cell_type": "code",
   "execution_count": null,
   "id": "8ff23d38",
   "metadata": {},
   "outputs": [],
   "source": [
    "' '.join(['Data', 'Science'])"
   ]
  },
  {
   "cell_type": "markdown",
   "id": "14c94098",
   "metadata": {},
   "source": [
    "### Tuples"
   ]
  },
  {
   "cell_type": "markdown",
   "id": "5f9d9c4e",
   "metadata": {},
   "source": [
    " A tuple is an ordered and an immutable data type which means we cannot change its values and tuples are written in round brackets. We can access tuple by referring to the index number inside the square brackets.  The following are the main characteristics of a Tuple:\n",
    "</br>\n",
    "* Tuples are immutable and can store any type of data type.\n",
    "* it is defined using ().\n",
    "* it cannot be changed or replaced as it is an immutable data type."
   ]
  },
  {
   "cell_type": "code",
   "execution_count": null,
   "id": "e24c6db2",
   "metadata": {},
   "outputs": [],
   "source": [
    "t = (1, 2, 3, 4)\n",
    "print(t)"
   ]
  },
  {
   "cell_type": "code",
   "execution_count": null,
   "id": "d685127c",
   "metadata": {},
   "outputs": [],
   "source": [
    "t[0]"
   ]
  },
  {
   "cell_type": "markdown",
   "id": "30c29d8c",
   "metadata": {},
   "source": [
    "### Sets"
   ]
  },
  {
   "cell_type": "code",
   "execution_count": null,
   "id": "2a162c49",
   "metadata": {},
   "outputs": [],
   "source": [
    "s = set([1, 2, 3, 4])\n",
    "print(s)"
   ]
  },
  {
   "cell_type": "code",
   "execution_count": null,
   "id": "320f9860",
   "metadata": {},
   "outputs": [],
   "source": [
    "l = [1, 1, 1, 2, 2, 4]\n",
    "print(set(l))"
   ]
  },
  {
   "cell_type": "markdown",
   "id": "9452c46c",
   "metadata": {},
   "source": [
    "### Dictionaries"
   ]
  },
  {
   "cell_type": "code",
   "execution_count": null,
   "id": "e60cead0",
   "metadata": {},
   "outputs": [],
   "source": [
    "dict = {\n",
    "    'a': 1,\n",
    "    'b': 2\n",
    "}\n",
    "\n",
    "print(dict)"
   ]
  },
  {
   "cell_type": "code",
   "execution_count": null,
   "id": "5e97e5df",
   "metadata": {},
   "outputs": [],
   "source": [
    "dict['a']"
   ]
  },
  {
   "cell_type": "code",
   "execution_count": null,
   "id": "855b4e46",
   "metadata": {},
   "outputs": [],
   "source": [
    "dict['c'] = 3\n",
    "print(dict)"
   ]
  },
  {
   "cell_type": "markdown",
   "id": "4355a026",
   "metadata": {},
   "source": [
    "### Functions"
   ]
  },
  {
   "cell_type": "code",
   "execution_count": null,
   "id": "d79801d9",
   "metadata": {},
   "outputs": [],
   "source": [
    "def minimum_maximum(a, b):\n",
    "    minimum = min(a,b)\n",
    "    maximum = max(a,b)\n",
    "    return (minimum, maximum)"
   ]
  },
  {
   "cell_type": "code",
   "execution_count": null,
   "id": "37c7a420",
   "metadata": {},
   "outputs": [],
   "source": [
    "a = 10\n",
    "b = 6.7\n",
    "\n",
    "(minimum, maximum) = minimum_maximum(a, b)\n",
    "print(minimum, maximum)"
   ]
  },
  {
   "cell_type": "markdown",
   "id": "a0b6f9d1",
   "metadata": {},
   "source": [
    "## Numpy"
   ]
  },
  {
   "cell_type": "markdown",
   "id": "0aad9aa9",
   "metadata": {},
   "source": [
    "### Works with multidimensional arrays and performs mathematical operations on vectors"
   ]
  },
  {
   "cell_type": "markdown",
   "id": "c344731b",
   "metadata": {},
   "source": [
    "[Koristan tutorijal](https://numpy.org/doc/stable/user/quickstart.html)"
   ]
  },
  {
   "cell_type": "markdown",
   "id": "9f7f1a6d",
   "metadata": {},
   "source": [
    "An array is a collection of items stored at contiguous memory locations. The idea is to store multiple items of the same type together. This makes it easier to calculate the position of each element by simply adding an offset to a base value, i.e., the memory location of the first element of the array (generally denoted by the name of the array). The following are the main characteristics of an Array:\n",
    "</br>\n",
    "* An array is an ordered collection of the similar data types.\n",
    "* An array is mutable.\n",
    "* An array can be accessed by using its index number."
   ]
  },
  {
   "cell_type": "markdown",
   "id": "ed4eff68",
   "metadata": {},
   "source": [
    "![alt text](numpy.png)"
   ]
  },
  {
   "cell_type": "code",
   "execution_count": null,
   "id": "8c24a705",
   "metadata": {},
   "outputs": [],
   "source": [
    "import numpy as np"
   ]
  },
  {
   "cell_type": "code",
   "execution_count": null,
   "id": "8e3bb4cd",
   "metadata": {},
   "outputs": [],
   "source": [
    "a = np.array([1, 2, 3])\n",
    "M = np.array([[1, 2, 3], [4, 5, 6]], dtype='float32')\n",
    "\n",
    "print('Array a:')\n",
    "print(a)\n",
    "print('shape =', a.shape)\n",
    "print('size =', a.size)\n",
    "print('ndim =', a.ndim)\n",
    "print('dtype =', a.dtype, end='\\n\\n')\n",
    "\n",
    "print('Matrix M:')\n",
    "print(M)\n",
    "print('shape =', M.shape)\n",
    "print('size =', M.size)\n",
    "print('ndim =', M.ndim)\n",
    "print('dtype =', M.dtype)"
   ]
  },
  {
   "cell_type": "code",
   "execution_count": null,
   "id": "5b7964f7",
   "metadata": {},
   "outputs": [],
   "source": [
    "a1 = np.arange(1, 10, 2)\n",
    "a2 = np.linspace(1, 3, 21)\n",
    "a3 = np.zeros(6)\n",
    "a4 = np.random.uniform(2, 5, 5)\n",
    "\n",
    "print('a1 =', a1)\n",
    "print('a2 =', a2)\n",
    "print('a3 =', a3)\n",
    "print('a4 =', a4)\n",
    "\n",
    "M1 = np.ones((2, 3))\n",
    "M2 = np.eye(3)\n",
    "M3 = np.diag([4, 3, 2, 1])\n",
    "M4 = np.random.randn(4, 3)\n",
    "\n",
    "print('M1 =\\n', M1)\n",
    "print('M2 =\\n', M2)\n",
    "print('M3 =\\n', M3)\n",
    "print('M4 =\\n', M4)"
   ]
  },
  {
   "cell_type": "markdown",
   "id": "cf9c41c2",
   "metadata": {},
   "source": [
    "[Operations on arrays](https://www.geeksforgeeks.org/python-operations-on-numpy-arrays/)"
   ]
  },
  {
   "cell_type": "code",
   "execution_count": null,
   "id": "065600e0",
   "metadata": {},
   "outputs": [],
   "source": [
    "x * y"
   ]
  },
  {
   "cell_type": "code",
   "execution_count": null,
   "id": "5b958104",
   "metadata": {},
   "outputs": [],
   "source": [
    "print(np.sum(x * y))"
   ]
  },
  {
   "cell_type": "code",
   "execution_count": null,
   "id": "064c3f2a",
   "metadata": {},
   "outputs": [],
   "source": [
    "x = np.array([1, 2, 3])\n",
    "y = np.array([4, 5, 6])\n",
    "print(np.vstack((x, y)))\n",
    "print(np.hstack((x, y)))\n",
    "print(np.sum(x * y))\n",
    "print(np.min(x))\n",
    "print(y.max())\n",
    "print(x[x > 1.5])\n",
    "print(x + y)\n",
    "print(np.sin(x))"
   ]
  },
  {
   "cell_type": "code",
   "execution_count": null,
   "id": "8a6a740a",
   "metadata": {},
   "outputs": [],
   "source": [
    "M1 = np.array([[1, 3, 5], [7, 9, 11], [13, 15, 17]])\n",
    "M2 = np.array([[2, 4, 6], [8, 10, 12], [14, 16, 18]])\n",
    "print('M1 + M2 =\\n', M1 + M2)\n",
    "print('M1 * M2 =\\n', M1 * M2)\n",
    "print('M1 x M2 =\\n', M1.dot(M2), '=\\n', np.dot(M1, M2))\n",
    "print('transpose(M1) =\\n', M1.T, '=\\n', M1.transpose())\n",
    "print('sin(M1) =\\n', np.sin(M1))\n",
    "print('exp(M2) =\\n', np.exp(M2))"
   ]
  },
  {
   "cell_type": "code",
   "execution_count": null,
   "id": "219b9251",
   "metadata": {},
   "outputs": [],
   "source": [
    "#Broadcasting\n",
    "M = np.array([[1, 2, 3], [4, 5, 6]])\n",
    "x = np.array([10, 20, 30])\n",
    "print(M + x)"
   ]
  },
  {
   "cell_type": "markdown",
   "id": "19a9cc5f",
   "metadata": {},
   "source": [
    "[Broadcasting](https://numpy.org/doc/stable/user/basics.broadcasting.html)"
   ]
  },
  {
   "cell_type": "code",
   "execution_count": null,
   "id": "42640cb1",
   "metadata": {},
   "outputs": [],
   "source": [
    "A = np.array([[1, 2, 3], [4, 5, 6]])\n",
    "B = np.array([[1, 2, 3], [4, 6, 6]])\n",
    "\n",
    "print(np.array_equal(A, B))\n",
    "print(A == B)\n",
    "\n",
    "print(A.reshape(3, 2))\n",
    "\n",
    "print(A.flatten())\n",
    "\n",
    "print(np.sum(B[B == 6]))"
   ]
  },
  {
   "cell_type": "code",
   "execution_count": null,
   "id": "fc7944e0",
   "metadata": {},
   "outputs": [],
   "source": [
    "a = np.array([1, 2, 3, 4, 5])\n",
    "print(a[0], a[:2], a[-1], a[3:4])"
   ]
  },
  {
   "cell_type": "markdown",
   "id": "79d8725f",
   "metadata": {},
   "source": [
    "### Missing values"
   ]
  },
  {
   "cell_type": "code",
   "execution_count": null,
   "id": "a6bda716",
   "metadata": {},
   "outputs": [],
   "source": [
    "a = np.array([1, 2, np.nan])\n",
    "print(a)"
   ]
  },
  {
   "cell_type": "code",
   "execution_count": null,
   "id": "71d961ec",
   "metadata": {},
   "outputs": [],
   "source": [
    "a == np.nan"
   ]
  },
  {
   "cell_type": "code",
   "execution_count": null,
   "id": "616bfed9",
   "metadata": {},
   "outputs": [],
   "source": [
    "np.nan == np.nan"
   ]
  },
  {
   "cell_type": "code",
   "execution_count": null,
   "id": "7abd86ba",
   "metadata": {},
   "outputs": [],
   "source": [
    "print(np.isnan(933))  # Scalar Values\n",
    "print(np.isnan(np.inf))  # checking for infinity value\n",
    "print(np.isnan(np.nan))  # Checking for nan values"
   ]
  },
  {
   "cell_type": "code",
   "execution_count": null,
   "id": "29aaac9b",
   "metadata": {},
   "outputs": [],
   "source": [
    "m = np.arange(24).reshape(6, 4)\n",
    "print(m)"
   ]
  },
  {
   "cell_type": "code",
   "execution_count": null,
   "id": "8ccef2f8",
   "metadata": {},
   "outputs": [],
   "source": [
    "print(\"Is NaN - \", np.isnan(m))"
   ]
  },
  {
   "cell_type": "code",
   "execution_count": null,
   "id": "59041394",
   "metadata": {},
   "outputs": [],
   "source": [
    "m = m.astype(\"float\")\n",
    "m[2,3] = np.nan\n",
    "print(m)"
   ]
  },
  {
   "cell_type": "code",
   "execution_count": null,
   "id": "13772579",
   "metadata": {},
   "outputs": [],
   "source": [
    "print(\"Is NaN - \", np.isnan(m))"
   ]
  },
  {
   "cell_type": "code",
   "execution_count": null,
   "id": "89d2641e",
   "metadata": {},
   "outputs": [],
   "source": []
  }
 ],
 "metadata": {
  "kernelspec": {
   "display_name": "Python 3 (ipykernel)",
   "language": "python",
   "name": "python3"
  },
  "language_info": {
   "codemirror_mode": {
    "name": "ipython",
    "version": 3
   },
   "file_extension": ".py",
   "mimetype": "text/x-python",
   "name": "python",
   "nbconvert_exporter": "python",
   "pygments_lexer": "ipython3",
   "version": "3.9.7"
  }
 },
 "nbformat": 4,
 "nbformat_minor": 5
}

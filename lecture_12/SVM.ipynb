{
 "cells": [
  {
   "cell_type": "markdown",
   "id": "e2243026",
   "metadata": {},
   "source": [
    "## Support Vector Machine"
   ]
  },
  {
   "cell_type": "markdown",
   "id": "983fd152",
   "metadata": {},
   "source": [
    "<img src='svm.png'>"
   ]
  },
  {
   "cell_type": "markdown",
   "id": "267f0356",
   "metadata": {},
   "source": [
    "### Hard and soft margin"
   ]
  },
  {
   "cell_type": "markdown",
   "id": "2a1ddb09",
   "metadata": {},
   "source": [
    "<img src='svm_soft.png'>"
   ]
  },
  {
   "cell_type": "markdown",
   "id": "341971f4",
   "metadata": {},
   "source": [
    "### Funkcija greske - Hinge loss\n",
    "[Literatura](https://en.wikipedia.org/wiki/Hinge_loss) <br>\n",
    "<img src='hinge.png'>"
   ]
  },
  {
   "cell_type": "code",
   "execution_count": null,
   "id": "aa60dc2b",
   "metadata": {},
   "outputs": [],
   "source": [
    "import numpy as np\n",
    "from matplotlib import pyplot as plt"
   ]
  },
  {
   "cell_type": "markdown",
   "id": "686f2f87",
   "metadata": {},
   "source": [
    "[SVM dokumentacija](https://scikit-learn.org/stable/modules/svm.html)"
   ]
  },
  {
   "cell_type": "code",
   "execution_count": null,
   "id": "d6129d85",
   "metadata": {},
   "outputs": [],
   "source": [
    "from sklearn import linear_model\n",
    "from sklearn import model_selection\n",
    "from sklearn import metrics\n",
    "from sklearn import preprocessing\n",
    "from sklearn import svm # novi modul za generisanje SVM modela"
   ]
  },
  {
   "cell_type": "markdown",
   "id": "e26f1431",
   "metadata": {},
   "source": [
    "### Sinteticki skup podataka:"
   ]
  },
  {
   "cell_type": "code",
   "execution_count": null,
   "id": "62eded05",
   "metadata": {},
   "outputs": [],
   "source": [
    "N = 1000\n",
    "X1 = np.random.uniform(-1, 1, N)\n",
    "X2 = np.random.uniform(-1, 1, N)\n",
    "X = np.vstack([X1, X2]).transpose()\n",
    "X.shape"
   ]
  },
  {
   "cell_type": "code",
   "execution_count": null,
   "id": "65aad30e",
   "metadata": {},
   "outputs": [],
   "source": [
    "def f(x1, x2):\n",
    "    return 2*(x1**2 + x2**2 <= 0.5) - 1"
   ]
  },
  {
   "cell_type": "code",
   "execution_count": null,
   "id": "d2ff86d1",
   "metadata": {},
   "outputs": [],
   "source": [
    "y = f(X1, X2) # klase dodeljujemo tako da dobijemo kruzni (nelinearni oblik) koji ih razdvaja"
   ]
  },
  {
   "cell_type": "code",
   "execution_count": null,
   "id": "afe2af50",
   "metadata": {},
   "outputs": [],
   "source": [
    "y "
   ]
  },
  {
   "cell_type": "code",
   "execution_count": null,
   "id": "a9f12c79",
   "metadata": {},
   "outputs": [],
   "source": [
    "sum(y==1), sum(y==-1)"
   ]
  },
  {
   "cell_type": "code",
   "execution_count": null,
   "id": "465f4ba7",
   "metadata": {},
   "outputs": [],
   "source": [
    "plt.scatter(X1, X2, c=y) # bojimo vrednostima klase, odnosno ciljne promenljive"
   ]
  },
  {
   "cell_type": "code",
   "execution_count": null,
   "id": "0a4b9867",
   "metadata": {},
   "outputs": [],
   "source": [
    "X_train, X_test, y_train, y_test = model_selection.train_test_split(X, y, test_size = 0.3, random_state = 25, stratify = y)"
   ]
  },
  {
   "cell_type": "markdown",
   "id": "32c1077d",
   "metadata": {},
   "source": [
    "### Sta je kernel i kada ga koristimo?\n",
    "[Literatura](https://medium.com/geekculture/kernel-methods-in-support-vector-machines-bb9409342c49) <br>\n",
    "Linearni SVM klasifikator (`LinearSVC`), kako mu i samo ime kaze, u stanju je da pronadje samo linearne zakonitosti u podacima. <br>\n",
    "    Svaki kernel se moze smatrati merom slicnosti nad elementima skupa X. U trenutnoj situaciji, mozemo ga posmatrati kao preslikavanje nasih podataka proizvoljne strukture u novi prostor gde mozemo primeniti linearni SVM. Ta dva koraka objedinjena su u `SVC` (Support Vector Classification) modelu.  "
   ]
  },
  {
   "cell_type": "markdown",
   "id": "14ece88f",
   "metadata": {},
   "source": [
    "### Linearni SVM klasifikator"
   ]
  },
  {
   "cell_type": "code",
   "execution_count": null,
   "id": "b12d053c",
   "metadata": {},
   "outputs": [],
   "source": [
    "linear_svm = svm.LinearSVC(loss='hinge', C=1.0) # C kao regularizacioni parametar koji kontrolise znacajnost gresaka\n",
    "linear_svm.fit(X_train, y_train)"
   ]
  },
  {
   "cell_type": "code",
   "execution_count": null,
   "id": "d640b8d2",
   "metadata": {},
   "outputs": [],
   "source": [
    "metrics.accuracy_score(y_test, linear_svm.predict(X_test)) \n",
    "# ocekivano slaba tacnost za linearni SVM zbog nelinearne strukture podataka"
   ]
  },
  {
   "cell_type": "markdown",
   "id": "d866fbd2",
   "metadata": {},
   "source": [
    "### Kernelizovani SVM klasifikator"
   ]
  },
  {
   "cell_type": "code",
   "execution_count": null,
   "id": "c5ef0ff3",
   "metadata": {},
   "outputs": [],
   "source": [
    "kernelized_svm = svm.SVC(kernel='rbf', gamma=1, C=1.0) # gamma kao koeficijent RBF kernela koji koristimo za transformaciju\n",
    "kernelized_svm.fit(X_train, y_train)"
   ]
  },
  {
   "cell_type": "code",
   "execution_count": null,
   "id": "0d015633",
   "metadata": {},
   "outputs": [],
   "source": [
    "metrics.accuracy_score(y_test, kernelized_svm.predict(X_test)) # i ocekivano dobra tacnost za SVC!"
   ]
  },
  {
   "cell_type": "markdown",
   "id": "e910b87f",
   "metadata": {},
   "source": [
    "### Potporni vektori"
   ]
  },
  {
   "cell_type": "markdown",
   "id": "2caa1ab9",
   "metadata": {},
   "source": [
    "Kernelizovani SVM klasifikator pamti najvaznije instance u procesu treniranja, odnosno potporne vektore. Predikcija novih instanci se vrsi samo na osnovu vrednosti potpornih vektora."
   ]
  },
  {
   "cell_type": "code",
   "execution_count": null,
   "id": "5c1b5847",
   "metadata": {},
   "outputs": [],
   "source": [
    "print(\"Broj potpornih vektora: \", kernelized_svm.support_vectors_.shape[0])\n",
    "print(\"Broj potpornih vektora po klasama: \", format(kernelized_svm.n_support_))\n",
    "print(\"Broj instanci u skupu za treniranje: \", X_train.shape[0])"
   ]
  },
  {
   "cell_type": "markdown",
   "id": "6837e60a",
   "metadata": {},
   "source": [
    "Iscrtajmo ponovo podatke uz dodatak pronađenih potpornih vektora."
   ]
  },
  {
   "cell_type": "code",
   "execution_count": null,
   "id": "9126dc79",
   "metadata": {},
   "outputs": [],
   "source": [
    "plt.scatter(X1, X2, c=y)  \n",
    "plt.scatter(kernelized_svm.support_vectors_[:, 0], kernelized_svm.support_vectors_[:, 1], c = ['red'])"
   ]
  },
  {
   "cell_type": "code",
   "execution_count": null,
   "id": "f83f168f",
   "metadata": {},
   "outputs": [],
   "source": []
  }
 ],
 "metadata": {
  "kernelspec": {
   "display_name": "Python 3 (ipykernel)",
   "language": "python",
   "name": "python3"
  },
  "language_info": {
   "codemirror_mode": {
    "name": "ipython",
    "version": 3
   },
   "file_extension": ".py",
   "mimetype": "text/x-python",
   "name": "python",
   "nbconvert_exporter": "python",
   "pygments_lexer": "ipython3",
   "version": "3.9.7"
  }
 },
 "nbformat": 4,
 "nbformat_minor": 5
}

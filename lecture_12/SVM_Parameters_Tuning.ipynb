{
 "cells": [
  {
   "cell_type": "code",
   "execution_count": null,
   "id": "607c2623",
   "metadata": {},
   "outputs": [],
   "source": [
    "import numpy as np\n",
    "import pandas as pd\n",
    "from matplotlib import pyplot as plt"
   ]
  },
  {
   "cell_type": "code",
   "execution_count": null,
   "id": "d715d5f8",
   "metadata": {},
   "outputs": [],
   "source": [
    "from sklearn import model_selection\n",
    "from sklearn import svm\n",
    "from sklearn import metrics\n",
    "from sklearn import datasets\n",
    "from sklearn import preprocessing"
   ]
  },
  {
   "cell_type": "code",
   "execution_count": null,
   "id": "9adcc540",
   "metadata": {},
   "outputs": [],
   "source": [
    "from sklearn import pipeline"
   ]
  },
  {
   "cell_type": "code",
   "execution_count": null,
   "id": "41ddb571",
   "metadata": {},
   "outputs": [],
   "source": [
    "data = datasets.load_breast_cancer()"
   ]
  },
  {
   "cell_type": "code",
   "execution_count": null,
   "id": "7262ce07",
   "metadata": {},
   "outputs": [],
   "source": [
    "X = data.data"
   ]
  },
  {
   "cell_type": "code",
   "execution_count": null,
   "id": "1cee19c1",
   "metadata": {},
   "outputs": [],
   "source": [
    "y = data.target"
   ]
  },
  {
   "cell_type": "markdown",
   "id": "703e19a4",
   "metadata": {},
   "source": [
    "### Validacioni skup"
   ]
  },
  {
   "cell_type": "code",
   "execution_count": null,
   "id": "7d298999",
   "metadata": {},
   "outputs": [],
   "source": [
    "X_train_validation, X_test, y_train_validation, y_test = model_selection.train_test_split(X, y, test_size=0.3, stratify = y, random_state = 25)"
   ]
  },
  {
   "cell_type": "code",
   "execution_count": null,
   "id": "d29590e0",
   "metadata": {},
   "outputs": [],
   "source": [
    "X_train, X_validation, y_train, y_validation = model_selection.train_test_split(X_train_validation, y_train_validation, test_size = 0.2, stratify = y_train_validation, random_state = 25)"
   ]
  },
  {
   "cell_type": "markdown",
   "id": "baaed9c0",
   "metadata": {},
   "source": [
    "Pravimo nizove potencijalnih optimalnih vrednosti regularizacionog parametra `C` i sirine kernela `gamma`:"
   ]
  },
  {
   "cell_type": "code",
   "execution_count": null,
   "id": "3d80b896",
   "metadata": {},
   "outputs": [],
   "source": [
    "Cs = np.array([10**i for i in range(-5, 5)])\n",
    "gammas = np.array([10**i for i in range(-3, 3)])"
   ]
  },
  {
   "cell_type": "code",
   "execution_count": null,
   "id": "7c77c0e3",
   "metadata": {},
   "outputs": [],
   "source": [
    "print(Cs, gammas)"
   ]
  },
  {
   "cell_type": "code",
   "execution_count": null,
   "id": "70941b89",
   "metadata": {},
   "outputs": [],
   "source": [
    "scaler_tv = preprocessing.StandardScaler()\n",
    "scaler_tv.fit(X_train)\n",
    "X_train = scaler_tv.transform(X_train)\n",
    "X_validation = scaler_tv.transform(X_validation)"
   ]
  },
  {
   "cell_type": "code",
   "execution_count": null,
   "id": "cab8c4b3",
   "metadata": {},
   "outputs": [],
   "source": [
    "best_score = 0 \n",
    "best_params = {'C':0, 'gamma': 0}\n",
    "\n",
    "# za sve kombinacije C i gamma parametara\n",
    "for C in Cs: \n",
    "    for gamma in gammas:\n",
    "        # treniramo model na skupu za treniranje\n",
    "        model = svm.SVC(C = C, gamma = gamma)\n",
    "        model.fit(X_train, y_train)\n",
    "        # ocenjujemo model na skupu za validaciju\n",
    "        y_predicted = model.predict(X_validation)\n",
    "        score = metrics.accuracy_score(y_validation, y_predicted)\n",
    "\n",
    "        if score > best_score: \n",
    "            best_score = score\n",
    "            best_params['C'] = C\n",
    "            best_params['gamma'] = gamma"
   ]
  },
  {
   "cell_type": "code",
   "execution_count": null,
   "id": "0615a0b3",
   "metadata": {},
   "outputs": [],
   "source": [
    "best_score"
   ]
  },
  {
   "cell_type": "code",
   "execution_count": null,
   "id": "fbefa94c",
   "metadata": {},
   "outputs": [],
   "source": [
    "best_params"
   ]
  },
  {
   "cell_type": "code",
   "execution_count": null,
   "id": "2045ebe9",
   "metadata": {},
   "outputs": [],
   "source": [
    "scaler_tt = preprocessing.StandardScaler()\n",
    "scaler_tt.fit(X_train_validation)\n",
    "X_train_validation = scaler_tt.transform(X_train_validation)\n",
    "X_test = scaler_tt.transform(X_test)"
   ]
  },
  {
   "cell_type": "code",
   "execution_count": null,
   "id": "dacd5ff3",
   "metadata": {},
   "outputs": [],
   "source": [
    "model = svm.SVC(C=best_params['C'], gamma=best_params['gamma'])"
   ]
  },
  {
   "cell_type": "code",
   "execution_count": null,
   "id": "51699843",
   "metadata": {},
   "outputs": [],
   "source": [
    "model.fit(X_train_validation, y_train_validation)"
   ]
  },
  {
   "cell_type": "code",
   "execution_count": null,
   "id": "ee6790ae",
   "metadata": {},
   "outputs": [],
   "source": [
    "y_predicted = model.predict(X_test)"
   ]
  },
  {
   "cell_type": "code",
   "execution_count": null,
   "id": "9dd912b8",
   "metadata": {},
   "outputs": [],
   "source": [
    "metrics.accuracy_score(y_test, y_predicted)"
   ]
  },
  {
   "cell_type": "markdown",
   "id": "d6b5c06d",
   "metadata": {},
   "source": [
    "### Unakrsna validacija za evaluaciju modela sa parametrima"
   ]
  },
  {
   "cell_type": "code",
   "execution_count": null,
   "id": "cd0c2f2a",
   "metadata": {},
   "outputs": [],
   "source": [
    "model = svm.SVC(C=best_params['C'], gamma=best_params['gamma'])"
   ]
  },
  {
   "cell_type": "code",
   "execution_count": null,
   "id": "bf8ae3e0",
   "metadata": {},
   "outputs": [],
   "source": [
    "scaler = preprocessing.StandardScaler()"
   ]
  },
  {
   "cell_type": "code",
   "execution_count": null,
   "id": "28f7c4ee",
   "metadata": {},
   "outputs": [],
   "source": [
    "svc_pipeline =  pipeline.make_pipeline(scaler, model)"
   ]
  },
  {
   "cell_type": "code",
   "execution_count": null,
   "id": "dd84e484",
   "metadata": {},
   "outputs": [],
   "source": [
    "scores = model_selection.cross_val_score(svc_pipeline, X, y, scoring='accuracy', cv = 10)"
   ]
  },
  {
   "cell_type": "code",
   "execution_count": null,
   "id": "f2757d7d",
   "metadata": {},
   "outputs": [],
   "source": [
    "scores"
   ]
  },
  {
   "cell_type": "code",
   "execution_count": null,
   "id": "39938a2d",
   "metadata": {},
   "outputs": [],
   "source": [
    "scores.mean()"
   ]
  },
  {
   "cell_type": "markdown",
   "id": "8b2f64f3",
   "metadata": {},
   "source": [
    "### Izbor vrednosti hiperparametra unakrsnom validacijom"
   ]
  },
  {
   "cell_type": "code",
   "execution_count": null,
   "id": "d0ba6064",
   "metadata": {},
   "outputs": [],
   "source": [
    "grid_model = pipeline.Pipeline(steps=[('scaler', preprocessing.StandardScaler()), ('svm', svm.SVC())])\n",
    "params = {\n",
    "    'svm__C': [10**i for i in range(-5, 5)], \n",
    "    'svm__gamma': [10**i for i in range(-3, 3)]\n",
    "}"
   ]
  },
  {
   "cell_type": "code",
   "execution_count": null,
   "id": "fc16fe7c",
   "metadata": {},
   "outputs": [],
   "source": [
    "grid = model_selection.GridSearchCV(grid_model, param_grid=params, scoring='accuracy', cv=10, return_train_score=True)"
   ]
  },
  {
   "cell_type": "code",
   "execution_count": null,
   "id": "f847d8ab",
   "metadata": {},
   "outputs": [],
   "source": [
    "grid.fit(X_train_validation, y_train_validation)"
   ]
  },
  {
   "cell_type": "code",
   "execution_count": null,
   "id": "ae15f75a",
   "metadata": {},
   "outputs": [],
   "source": [
    "grid.best_score_"
   ]
  },
  {
   "cell_type": "code",
   "execution_count": null,
   "id": "0b87feb8",
   "metadata": {},
   "outputs": [],
   "source": [
    "grid.best_params_"
   ]
  },
  {
   "cell_type": "markdown",
   "id": "d49bd9d1",
   "metadata": {},
   "source": [
    "### Finalni model"
   ]
  },
  {
   "cell_type": "code",
   "execution_count": null,
   "id": "339b7390",
   "metadata": {},
   "outputs": [],
   "source": [
    "model_best_grid = svm.SVC(C=best_params['C'], gamma=best_params['gamma'])"
   ]
  },
  {
   "cell_type": "code",
   "execution_count": null,
   "id": "94b8446b",
   "metadata": {},
   "outputs": [],
   "source": [
    "model_best_grid.fit(X_train_validation, y_train_validation)"
   ]
  },
  {
   "cell_type": "code",
   "execution_count": null,
   "id": "288124bd",
   "metadata": {},
   "outputs": [],
   "source": [
    "y_pred = model_best_grid.predict(X_test)"
   ]
  },
  {
   "cell_type": "code",
   "execution_count": null,
   "id": "d020dc57",
   "metadata": {},
   "outputs": [],
   "source": [
    "metrics.accuracy_score(y_test, y_pred) # ovo je vrednost koju prijavljujemo kao meru kvaliteta modela"
   ]
  },
  {
   "cell_type": "code",
   "execution_count": null,
   "id": "c48617eb",
   "metadata": {},
   "outputs": [],
   "source": [
    "final_scaler = preprocessing.StandardScaler()\n",
    "X = final_scaler.fit_transform(X)"
   ]
  },
  {
   "cell_type": "code",
   "execution_count": null,
   "id": "04738f50",
   "metadata": {},
   "outputs": [],
   "source": [
    "final_model = svm.SVC(C=best_params['C'], gamma=best_params['gamma']) # ovo je model koji cuvamo\n",
    "final_model.fit(X, y) "
   ]
  },
  {
   "cell_type": "code",
   "execution_count": null,
   "id": "43024fb0",
   "metadata": {},
   "outputs": [],
   "source": [
    "import pickle"
   ]
  },
  {
   "cell_type": "code",
   "execution_count": null,
   "id": "c8f9292c",
   "metadata": {},
   "outputs": [],
   "source": [
    "with open('svm_final_model.model', 'wb')  as pickle_file:\n",
    "    pickle.dump(final_model, pickle_file)"
   ]
  },
  {
   "cell_type": "code",
   "execution_count": null,
   "id": "551ceef5",
   "metadata": {},
   "outputs": [],
   "source": []
  }
 ],
 "metadata": {
  "kernelspec": {
   "display_name": "Python 3 (ipykernel)",
   "language": "python",
   "name": "python3"
  },
  "language_info": {
   "codemirror_mode": {
    "name": "ipython",
    "version": 3
   },
   "file_extension": ".py",
   "mimetype": "text/x-python",
   "name": "python",
   "nbconvert_exporter": "python",
   "pygments_lexer": "ipython3",
   "version": "3.9.7"
  }
 },
 "nbformat": 4,
 "nbformat_minor": 5
}

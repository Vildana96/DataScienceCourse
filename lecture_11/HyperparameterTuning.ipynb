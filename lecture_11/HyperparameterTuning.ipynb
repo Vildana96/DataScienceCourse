{
 "cells": [
  {
   "cell_type": "markdown",
   "id": "ca1ef254",
   "metadata": {},
   "source": [
    "## Skup za validaciju"
   ]
  },
  {
   "cell_type": "markdown",
   "id": "beda0cc9",
   "metadata": {},
   "source": [
    "Umesto podele na trening i test skup, polazni skup podataka delimo na tri skupa:\n",
    "1. skup za treniranje\n",
    "2. skup za validaciju\n",
    "3. skup za testiranje\n",
    "<img src='validation.png'>"
   ]
  },
  {
   "cell_type": "markdown",
   "id": "9e18b1e8",
   "metadata": {},
   "source": [
    "Opisanu podelu skupa podataka dobijamo pozivanjem `train_test_split` funkcije iz dva puta.  "
   ]
  },
  {
   "cell_type": "code",
   "execution_count": null,
   "id": "346bbacb",
   "metadata": {},
   "outputs": [],
   "source": [
    "%run kNN.ipynb"
   ]
  },
  {
   "cell_type": "code",
   "execution_count": null,
   "id": "15af2fc2",
   "metadata": {},
   "outputs": [],
   "source": [
    "# prvo izdvajamo test skup kao 30% svih podataka\n",
    "X_train_validation, X_test, y_train_validation, y_test = model_selection.train_test_split(X, y, test_size=0.3, stratify = y, random_state = 25)"
   ]
  },
  {
   "cell_type": "code",
   "execution_count": null,
   "id": "07baac8b",
   "metadata": {},
   "outputs": [],
   "source": [
    "# zatim izdvajamo validacioni skup kao 20% prvobitnog trening skupa\n",
    "X_train, X_validation, y_train, y_validation = model_selection.train_test_split(X_train_validation, y_train_validation, test_size = 0.2, stratify = y_train_validation, random_state = 25)"
   ]
  },
  {
   "cell_type": "markdown",
   "id": "ac115005",
   "metadata": {},
   "source": [
    "Trazimo optimalni hiperparametar, u ovom slucaju k kao broj suseda za kNN algoritam. Pravimo niz `ks` koji sadrzi vrednosti parametara koje cemo ocenjivati na validacionom skupu."
   ]
  },
  {
   "cell_type": "code",
   "execution_count": null,
   "id": "a95889d2",
   "metadata": {},
   "outputs": [],
   "source": [
    "ks = np.arange(20) + 1\n",
    "ks"
   ]
  },
  {
   "cell_type": "markdown",
   "id": "fc544563",
   "metadata": {},
   "source": [
    "### Bitno: I pri trazenju optimalnih parametara, kao i do sada pri testiranju, skaliranje radimo samo na osnovu podataka iz trening skupa! Validacioni skup mora biti nepristrasan zbog ocenjivanja parametara."
   ]
  },
  {
   "cell_type": "code",
   "execution_count": null,
   "id": "04fad879",
   "metadata": {},
   "outputs": [],
   "source": [
    "scaler_tv = preprocessing.StandardScaler()\n",
    "scaler_tv.fit(X_train) # samo trening skup se fituje\n",
    "X_train = scaler_tv.transform(X_train)\n",
    "X_validation = scaler_tv.transform(X_validation)"
   ]
  },
  {
   "cell_type": "markdown",
   "id": "6ea1f64d",
   "metadata": {},
   "source": [
    "Dakle treniramo model sa svim mogucim kombinacijama datih nizova parametara (nekada ih je vise) i trazimo optimalnu kao onu za koju je model postigao najbolju ocenu na validacionom skupu:"
   ]
  },
  {
   "cell_type": "code",
   "execution_count": null,
   "id": "14197e47",
   "metadata": {},
   "outputs": [],
   "source": [
    "# inicijalizacija najboljeg skora i najboljeg parametra\n",
    "best_score = 0 \n",
    "best_params = {'k':0}"
   ]
  },
  {
   "cell_type": "code",
   "execution_count": null,
   "id": "f791e1cf",
   "metadata": {},
   "outputs": [],
   "source": [
    "for k in ks: \n",
    "    model = neighbors.KNeighborsClassifier(n_neighbors=k) \n",
    "    model.fit(X_train, y_train)\n",
    "\n",
    "    y_pred = model.predict(X_validation)\n",
    "    score = metrics.accuracy_score(y_validation, y_pred)\n",
    "\n",
    "    if score > best_score: # ako smo dobili bolje resenje od postojeceg menjamo ga\n",
    "        best_score = score\n",
    "        best_params['k'] = k"
   ]
  },
  {
   "cell_type": "code",
   "execution_count": null,
   "id": "b31cb131",
   "metadata": {},
   "outputs": [],
   "source": [
    "best_score"
   ]
  },
  {
   "cell_type": "code",
   "execution_count": null,
   "id": "c1fc13f6",
   "metadata": {},
   "outputs": [],
   "source": [
    "best_params"
   ]
  },
  {
   "cell_type": "markdown",
   "id": "db910720",
   "metadata": {},
   "source": [
    "### Kada izaberemo optimalne vrednosti hiperparametara modela, treniranje vrsimo na celom prvobitnom trening skupu (trening + validacija), a test skup koristimo samo za evaluaciju izabranog modela!"
   ]
  },
  {
   "cell_type": "code",
   "execution_count": null,
   "id": "529fa995",
   "metadata": {},
   "outputs": [],
   "source": [
    "# skaliramo kao i do sada\n",
    "scaler_tt = preprocessing.StandardScaler()\n",
    "scaler_tt.fit(X_train_validation)\n",
    "X_train_validation = scaler_tt.transform(X_train_validation)\n",
    "X_test = scaler_tt.transform(X_test)"
   ]
  },
  {
   "cell_type": "code",
   "execution_count": null,
   "id": "f832c930",
   "metadata": {},
   "outputs": [],
   "source": [
    "best_params['k']"
   ]
  },
  {
   "cell_type": "code",
   "execution_count": null,
   "id": "a396bfc2",
   "metadata": {},
   "outputs": [],
   "source": [
    "model_with_best_params = neighbors.KNeighborsClassifier(n_neighbors=best_params['k'])"
   ]
  },
  {
   "cell_type": "code",
   "execution_count": null,
   "id": "a7d5cff2",
   "metadata": {},
   "outputs": [],
   "source": [
    "model_with_best_params.fit(X_train_validation, y_train_validation)"
   ]
  },
  {
   "cell_type": "code",
   "execution_count": null,
   "id": "9e1a1f11",
   "metadata": {},
   "outputs": [],
   "source": [
    "y_pred = model_with_best_params.predict(X_test)"
   ]
  },
  {
   "cell_type": "code",
   "execution_count": null,
   "id": "4441e8b4",
   "metadata": {},
   "outputs": [],
   "source": [
    "metrics.accuracy_score(y_test, y_pred)"
   ]
  },
  {
   "cell_type": "markdown",
   "id": "b3320f22",
   "metadata": {},
   "source": [
    "## Cross validation"
   ]
  },
  {
   "cell_type": "markdown",
   "id": "a9772704",
   "metadata": {},
   "source": [
    "Opet se suocavamo sa istim problemom - rezultati, kako mera kvaliteta tako i izbora parametara, zavise od nasumicne podele podataka na skupove za trening, validaciju i test."
   ]
  },
  {
   "cell_type": "markdown",
   "id": "9c5db4b7",
   "metadata": {},
   "source": [
    "### Kada znamo optimalne parametre:"
   ]
  },
  {
   "cell_type": "code",
   "execution_count": null,
   "id": "c7ab916f",
   "metadata": {},
   "outputs": [],
   "source": [
    "model_with_best_params = neighbors.KNeighborsClassifier(n_neighbors=best_params['k'])"
   ]
  },
  {
   "cell_type": "markdown",
   "id": "a18c1919",
   "metadata": {},
   "source": [
    "Radimo k-Fold validaciju na isti nacin kao i u skripti *KFoldValidation*:"
   ]
  },
  {
   "cell_type": "code",
   "execution_count": null,
   "id": "d9e9b269",
   "metadata": {},
   "outputs": [],
   "source": [
    "scaler = preprocessing.StandardScaler()"
   ]
  },
  {
   "cell_type": "code",
   "execution_count": null,
   "id": "b9863845",
   "metadata": {},
   "outputs": [],
   "source": [
    "from sklearn import pipeline\n",
    "knn_pipeline =  pipeline.make_pipeline(scaler, model_with_best_params)"
   ]
  },
  {
   "cell_type": "code",
   "execution_count": null,
   "id": "0458c1cf",
   "metadata": {},
   "outputs": [],
   "source": [
    "scores = model_selection.cross_val_score(knn_pipeline, X, y, scoring='accuracy', cv = 10) # 10 slojeva"
   ]
  },
  {
   "cell_type": "code",
   "execution_count": null,
   "id": "e1abdf61",
   "metadata": {},
   "outputs": [],
   "source": [
    "scores"
   ]
  },
  {
   "cell_type": "code",
   "execution_count": null,
   "id": "2c4c0fef",
   "metadata": {},
   "outputs": [],
   "source": [
    "scores.mean()"
   ]
  },
  {
   "cell_type": "markdown",
   "id": "f0b06fcb",
   "metadata": {},
   "source": [
    "### Kada biramo optimalne parametre:"
   ]
  },
  {
   "cell_type": "markdown",
   "id": "509aeb19",
   "metadata": {},
   "source": [
    "Koristimo klasu `GridSearchCV` kojoj prosledjujemo:\n",
    "* Model za koji treba odrediti vrednosti parametara (odnosno ceo pipeline modela)\n",
    "* Sve parametare koje treba razmotriti (dictionary struktura)\n",
    "* Funkciju za ocenu modela\n",
    "* Broj slojeva "
   ]
  },
  {
   "cell_type": "code",
   "execution_count": null,
   "id": "03f18b49",
   "metadata": {},
   "outputs": [],
   "source": [
    "grid_model = pipeline.Pipeline(steps=[('scaler', preprocessing.StandardScaler()), \n",
    "                                      ('knn', neighbors.KNeighborsClassifier())])\n",
    "params = {\n",
    "    'knn__n_neighbors': np.arange(20) + 1   # key oblika model__parametar\n",
    "}"
   ]
  },
  {
   "cell_type": "code",
   "execution_count": null,
   "id": "cd5587d8",
   "metadata": {},
   "outputs": [],
   "source": [
    "grid = model_selection.GridSearchCV(grid_model, param_grid=params, scoring='accuracy', cv=10)"
   ]
  },
  {
   "cell_type": "markdown",
   "id": "dd94a16b",
   "metadata": {},
   "source": [
    "<img src='kfold_validation.png'>"
   ]
  },
  {
   "cell_type": "markdown",
   "id": "95f7fef6",
   "metadata": {},
   "source": [
    "### Bitno: k-Fold validaciju za izbor parametara radimo za ceo trening + validacioni skup!"
   ]
  },
  {
   "cell_type": "code",
   "execution_count": null,
   "id": "a76535c4",
   "metadata": {},
   "outputs": [],
   "source": [
    "grid.fit(X_train_validation, y_train_validation)"
   ]
  },
  {
   "cell_type": "markdown",
   "id": "d38a9d4a",
   "metadata": {},
   "source": [
    "`GridSearchCV` ima svojstva `best_score_` i `best_params_` koja citamo:"
   ]
  },
  {
   "cell_type": "code",
   "execution_count": null,
   "id": "53fadc18",
   "metadata": {},
   "outputs": [],
   "source": [
    "grid.best_score_"
   ]
  },
  {
   "cell_type": "code",
   "execution_count": null,
   "id": "fbe0c929",
   "metadata": {},
   "outputs": [],
   "source": [
    "grid.best_params_  # dobili smo novu optimalnu vrednost broja suseda k"
   ]
  },
  {
   "cell_type": "markdown",
   "id": "bf6c1151",
   "metadata": {},
   "source": [
    "Informacije o svakom koraku unakrsne validacije za svaku kombinaciju vrednosti hiperparametara sadrzane su u `cv_results_`:"
   ]
  },
  {
   "cell_type": "code",
   "execution_count": null,
   "id": "dc3252b4",
   "metadata": {},
   "outputs": [],
   "source": [
    "cv_results = pd.DataFrame(grid.cv_results_)"
   ]
  },
  {
   "cell_type": "code",
   "execution_count": null,
   "id": "278b075e",
   "metadata": {},
   "outputs": [],
   "source": [
    "cv_results.shape # 20 kombinacija/vrednosti hiperparametra i 19 svojstava za svaku od njih"
   ]
  },
  {
   "cell_type": "code",
   "execution_count": null,
   "id": "07faba30",
   "metadata": {},
   "outputs": [],
   "source": [
    "cv_results"
   ]
  },
  {
   "cell_type": "code",
   "execution_count": null,
   "id": "7b4a9c0d",
   "metadata": {},
   "outputs": [],
   "source": [
    "cv_results.columns"
   ]
  },
  {
   "cell_type": "code",
   "execution_count": null,
   "id": "430a26d3",
   "metadata": {},
   "outputs": [],
   "source": [
    "cv_results['mean_test_score'] \n",
    "# ocena, odnosno tacnost, za svaku vrednost parametra k kao prosek svih ocena dobijenih na k-slojeva unakrsne validacije"
   ]
  },
  {
   "cell_type": "code",
   "execution_count": null,
   "id": "5dd2050e",
   "metadata": {},
   "outputs": [],
   "source": [
    "plt.plot(ks, cv_results['mean_test_score'])\n",
    "plt.xlabel('Parametar k')\n",
    "plt.ylabel('Tacnost')\n",
    "plt.show()"
   ]
  },
  {
   "cell_type": "markdown",
   "id": "d1afafcd",
   "metadata": {},
   "source": [
    "## Finalni model i evaluacija"
   ]
  },
  {
   "cell_type": "markdown",
   "id": "09c1d1e7",
   "metadata": {},
   "source": [
    "Nakon izbora najboljih parametara unakrnom validacijom, kao meru kvaliteta modela prijavljujemo njegovu ocenu na test skupu. Zato ga prvo treniramo na ostatku svih podataka koristeci izabrane parametre:"
   ]
  },
  {
   "cell_type": "code",
   "execution_count": null,
   "id": "339b7390",
   "metadata": {},
   "outputs": [],
   "source": [
    "model_best_grid = neighbors.KNeighborsClassifier(n_neighbors=grid.best_params_['knn__n_neighbors'])"
   ]
  },
  {
   "cell_type": "code",
   "execution_count": null,
   "id": "94b8446b",
   "metadata": {},
   "outputs": [],
   "source": [
    "model_best_grid.fit(X_train_validation, y_train_validation)"
   ]
  },
  {
   "cell_type": "code",
   "execution_count": null,
   "id": "288124bd",
   "metadata": {},
   "outputs": [],
   "source": [
    "y_pred = model_best_grid.predict(X_test)"
   ]
  },
  {
   "cell_type": "code",
   "execution_count": null,
   "id": "d020dc57",
   "metadata": {},
   "outputs": [],
   "source": [
    "metrics.accuracy_score(y_test, y_pred) # ovo je vrednost koju prijavljujemo kao meru kvaliteta modela"
   ]
  },
  {
   "cell_type": "markdown",
   "id": "c85ad75a",
   "metadata": {},
   "source": [
    "Ako imamo veliki broj podataka, ovde zavrsavamo, ali ako to nije slucaj i ne zelimo da gubimo informacije, model cemo jos jednom trenirati na celom skupu podataka i to sacuvati kao nas finalni model:"
   ]
  },
  {
   "cell_type": "code",
   "execution_count": null,
   "id": "37508566",
   "metadata": {},
   "outputs": [],
   "source": [
    "final_scaler = preprocessing.StandardScaler()\n",
    "X = final_scaler.fit_transform(X)"
   ]
  },
  {
   "cell_type": "code",
   "execution_count": null,
   "id": "f825d52b",
   "metadata": {},
   "outputs": [],
   "source": [
    "final_model = neighbors.KNeighborsClassifier(n_neighbors=grid.best_params_['knn__n_neighbors'])"
   ]
  },
  {
   "cell_type": "code",
   "execution_count": null,
   "id": "fd2c7a17",
   "metadata": {},
   "outputs": [],
   "source": [
    "final_model.fit(X, y)"
   ]
  },
  {
   "cell_type": "code",
   "execution_count": null,
   "id": "f5e997b2",
   "metadata": {},
   "outputs": [],
   "source": []
  },
  {
   "cell_type": "code",
   "execution_count": null,
   "id": "15538137",
   "metadata": {},
   "outputs": [],
   "source": []
  }
 ],
 "metadata": {
  "kernelspec": {
   "display_name": "Python 3 (ipykernel)",
   "language": "python",
   "name": "python3"
  },
  "language_info": {
   "codemirror_mode": {
    "name": "ipython",
    "version": 3
   },
   "file_extension": ".py",
   "mimetype": "text/x-python",
   "name": "python",
   "nbconvert_exporter": "python",
   "pygments_lexer": "ipython3",
   "version": "3.9.7"
  }
 },
 "nbformat": 4,
 "nbformat_minor": 5
}

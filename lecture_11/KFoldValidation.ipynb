{
 "cells": [
  {
   "cell_type": "markdown",
   "id": "a4c15f2d",
   "metadata": {},
   "source": [
    "## Cross validation odnosno unakrsna validacija"
   ]
  },
  {
   "cell_type": "markdown",
   "id": "eefffa99",
   "metadata": {},
   "source": [
    "**Problem:** Mere kvaliteta modela zavise tj. variraju od podele na trening i test skup koja je nasumicna. <br>\n",
    "**Cilj:** Da svaka od instanci dobije priliku da bude i u jednom i u drugom skupu. <br>\n",
    "**Resenje:** Unakrsna validacija, kadgod to skupovi podataka i modeli dozvoljavaju, vise puta deli polazni skup podataka na skup za treniranje i testiranje.  <br> <br>\n",
    "**k-Fold** je metod unakrsne validacije koji se ubedljivo najcesce korsiti: <img src='kfold.ppm'>"
   ]
  },
  {
   "cell_type": "markdown",
   "id": "f5ec2992",
   "metadata": {},
   "source": [
    "Na slici je prikazana k-Fold validacija sa 10 slojeva, drugim recima k je jednako 10. Imamo 10 krugova treniranja i evaluiranja naseg modela. U svakom *i*-tom krugu treniranja i evaluacije, sloj *i* se koristi za testiranje, a preostalih $k-1$ slojeva se koristi za treniranje modela. <br> Specijalan slucaj, kada je k jednako broju instanci u skupu, jeste `leave-one-out` metoda unakrsne validacije. Nju koristimo u slucaju malih skupova podataka kada nam je u cilju da iskoristimo sto vise instanci za treniranje."
   ]
  },
  {
   "cell_type": "markdown",
   "id": "b0ef943a",
   "metadata": {},
   "source": [
    "Radi poredjenja koristimo iste podatke kao iz skripte za kNN algoritam komandom:"
   ]
  },
  {
   "cell_type": "code",
   "execution_count": null,
   "id": "76d7bb16",
   "metadata": {},
   "outputs": [],
   "source": [
    "%run kNN.ipynb"
   ]
  },
  {
   "cell_type": "markdown",
   "id": "1890fe6d",
   "metadata": {},
   "source": [
    "Klasu `KFold` koristimo za gore opisano particionisanje: "
   ]
  },
  {
   "cell_type": "code",
   "execution_count": null,
   "id": "d3565caf",
   "metadata": {},
   "outputs": [],
   "source": [
    "kfold = model_selection.KFold(n_splits=10) # broj slojeva preko parametra `n_splits`"
   ]
  },
  {
   "cell_type": "code",
   "execution_count": null,
   "id": "4d177d81",
   "metadata": {},
   "outputs": [],
   "source": [
    "accuracy_scores = []"
   ]
  },
  {
   "cell_type": "code",
   "execution_count": null,
   "id": "cad87ac5",
   "metadata": {},
   "outputs": [],
   "source": [
    "# metodom `split` se generise se niz particija skupa koje sadrze indekse instanci\n",
    "for train_indexes, test_indexes in kfold.split(X, y):\n",
    "    # trening skup\n",
    "    X_train = X.iloc[train_indexes]\n",
    "    y_train = y[train_indexes]\n",
    "    print(X_train.shape)\n",
    "    # test skup\n",
    "    X_test = X.iloc[test_indexes]\n",
    "    y_test = y[test_indexes]\n",
    "    print(X_test.shape)\n",
    "    #priprema podataka za treniranje\n",
    "    scaler = preprocessing.StandardScaler()\n",
    "    scaler.fit(X_train)\n",
    "    X_train_transformed = scaler.transform(X_train)\n",
    "    X_test_transformed = scaler.transform(X_test)\n",
    "    \n",
    "    # treniranje\n",
    "    model = neighbors.KNeighborsClassifier(n_neighbors=3)\n",
    "    model.fit(X_train_transformed, y_train)\n",
    "    \n",
    "    # evaluacija\n",
    "    score = model.score(X_test_transformed, y_test)\n",
    "    \n",
    "    accuracy_scores.append(score)"
   ]
  },
  {
   "cell_type": "code",
   "execution_count": null,
   "id": "c1aa40b8",
   "metadata": {},
   "outputs": [],
   "source": [
    "accuracy_scores # evaluacija svakog sloja"
   ]
  },
  {
   "cell_type": "markdown",
   "id": "11a12528",
   "metadata": {},
   "source": [
    "Tacnost naseg modela racunamo kao prosek svih tacnosti dobijenih unakrsnom validacijom:"
   ]
  },
  {
   "cell_type": "code",
   "execution_count": null,
   "id": "a732c4dc",
   "metadata": {},
   "outputs": [],
   "source": [
    "accuracy = np.array(accuracy_scores).mean()"
   ]
  },
  {
   "cell_type": "code",
   "execution_count": null,
   "id": "f83983ce",
   "metadata": {},
   "outputs": [],
   "source": [
    "print('Tacnost modela je: ', accuracy)"
   ]
  },
  {
   "cell_type": "markdown",
   "id": "3b93cf47",
   "metadata": {},
   "source": [
    "**Napomena:** Ne moze se svaka mera uproseciti!"
   ]
  },
  {
   "cell_type": "markdown",
   "id": "44d0cbcc",
   "metadata": {},
   "source": [
    "### Sve na jednom mestu"
   ]
  },
  {
   "cell_type": "markdown",
   "id": "dcb8c928",
   "metadata": {},
   "source": [
    "Biblioteka `scikit-learn` nam daje `cross_val_score` koja vrsi unakrsnu validaciju. Ova funkcija od argumenata ocekuje model koji se evaluira, ceo skup podataka, funkciju za ocenu modela i broj slojeva, a za uzvrat vraca listu ocena modela na svakom sloju."
   ]
  },
  {
   "cell_type": "code",
   "execution_count": null,
   "id": "8770560d",
   "metadata": {},
   "outputs": [],
   "source": [
    "accuracy_scores = model_selection.cross_val_score(neighbors.KNeighborsClassifier(n_neighbors=3), X, y, scoring='accuracy', cv=10)"
   ]
  },
  {
   "cell_type": "code",
   "execution_count": null,
   "id": "6bab1227",
   "metadata": {},
   "outputs": [],
   "source": [
    "accuracy_scores"
   ]
  },
  {
   "cell_type": "code",
   "execution_count": null,
   "id": "a89a25f3",
   "metadata": {},
   "outputs": [],
   "source": [
    "accuracy_scores.mean()"
   ]
  },
  {
   "cell_type": "markdown",
   "id": "2e227e48",
   "metadata": {},
   "source": [
    "**Paznja!!!** Dobili smo nizu tacnost modela."
   ]
  },
  {
   "cell_type": "markdown",
   "id": "fa3f965c",
   "metadata": {},
   "source": [
    "**Zasto se to desava?** <br> To je posledica treniranja i testiranja modela na nestandardizovanim skupovima. "
   ]
  },
  {
   "cell_type": "markdown",
   "id": "82a79415",
   "metadata": {},
   "source": [
    "Uvodimo novi pojam, pipeline, koji definise sve korake u procesu pripreme i treniranja modela."
   ]
  },
  {
   "cell_type": "code",
   "execution_count": null,
   "id": "bf08077a",
   "metadata": {},
   "outputs": [],
   "source": [
    "from sklearn import pipeline "
   ]
  },
  {
   "cell_type": "code",
   "execution_count": null,
   "id": "a3553d37",
   "metadata": {},
   "outputs": [],
   "source": [
    "knn_pipeline =  pipeline.make_pipeline(preprocessing.StandardScaler(), neighbors.KNeighborsClassifier(n_neighbors=3))"
   ]
  },
  {
   "cell_type": "code",
   "execution_count": null,
   "id": "b5c2f030",
   "metadata": {},
   "outputs": [],
   "source": [
    "# umesto modela pisemo pipeline\n",
    "accuracy_scores_with_pipeline = model_selection.cross_val_score(knn_pipeline, X, y, scoring='accuracy', cv=10)"
   ]
  },
  {
   "cell_type": "code",
   "execution_count": null,
   "id": "7fb31809",
   "metadata": {},
   "outputs": [],
   "source": [
    "accuracy_scores_with_pipeline"
   ]
  },
  {
   "cell_type": "code",
   "execution_count": null,
   "id": "5f782422",
   "metadata": {},
   "outputs": [],
   "source": [
    "accuracy_scores_with_pipeline.mean()"
   ]
  },
  {
   "cell_type": "markdown",
   "id": "2980d00b",
   "metadata": {},
   "source": [
    "Tacnost i dalje blago odstupa. **Zasto?**\n",
    "Nismo koristili bas identicno particionisanje skupa (pogledati dokumentaciju). Iako nije greska, da bismo reprodukovali, odnosno uporedili rezultate, mozemo parametru `cv` dati vrednost malocas napravljene klase `kfold`."
   ]
  },
  {
   "cell_type": "code",
   "execution_count": null,
   "id": "16a6b1cf",
   "metadata": {},
   "outputs": [],
   "source": [
    "accuracy_scores_with_cv = model_selection.cross_val_score(knn_pipeline, X, y, scoring='accuracy', cv=kfold)"
   ]
  },
  {
   "cell_type": "code",
   "execution_count": null,
   "id": "aea2482b",
   "metadata": {},
   "outputs": [],
   "source": [
    "accuracy_scores_with_cv"
   ]
  },
  {
   "cell_type": "code",
   "execution_count": null,
   "id": "57d990c2",
   "metadata": {},
   "outputs": [],
   "source": [
    "accuracy_scores_with_cv.mean()"
   ]
  },
  {
   "cell_type": "markdown",
   "id": "44021fd2",
   "metadata": {},
   "source": [
    "### Finalni model"
   ]
  },
  {
   "cell_type": "markdown",
   "id": "3a42d89f",
   "metadata": {},
   "source": [
    "Finalni model je onaj model koji je dobijen treniranjem nad celim skupom podataka, a kao njegovu meru kvaliteta prijavljujemo gore izracunatu prosecnu tacnost i dalje ne evaluiramo."
   ]
  },
  {
   "cell_type": "code",
   "execution_count": null,
   "id": "9f141941",
   "metadata": {},
   "outputs": [],
   "source": [
    "final_scaler = preprocessing.StandardScaler()\n",
    "X = final_scaler.fit_transform(X) # obratite paznju na skup na kom se fituje skaliranje"
   ]
  },
  {
   "cell_type": "code",
   "execution_count": null,
   "id": "c0f47cf3",
   "metadata": {},
   "outputs": [],
   "source": [
    "import pickle\n",
    "with open('knn_scaler.scaler', 'wb') as pickle_file:\n",
    "    pickle.dump(final_scaler, pickle_file)"
   ]
  },
  {
   "cell_type": "code",
   "execution_count": null,
   "id": "65b67ef6",
   "metadata": {},
   "outputs": [],
   "source": [
    "final_model = neighbors.KNeighborsClassifier(n_neighbors=3)"
   ]
  },
  {
   "cell_type": "code",
   "execution_count": null,
   "id": "a7a93a3a",
   "metadata": {},
   "outputs": [],
   "source": [
    "final_model.fit(X, y)"
   ]
  },
  {
   "cell_type": "code",
   "execution_count": null,
   "id": "2434e0ce",
   "metadata": {},
   "outputs": [],
   "source": [
    "with open('knn_model.model', 'wb') as pickle_file:\n",
    "    pickle.dump(final_model, pickle_file)"
   ]
  },
  {
   "cell_type": "code",
   "execution_count": null,
   "id": "58b071bb",
   "metadata": {},
   "outputs": [],
   "source": []
  }
 ],
 "metadata": {
  "kernelspec": {
   "display_name": "Python 3 (ipykernel)",
   "language": "python",
   "name": "python3"
  },
  "language_info": {
   "codemirror_mode": {
    "name": "ipython",
    "version": 3
   },
   "file_extension": ".py",
   "mimetype": "text/x-python",
   "name": "python",
   "nbconvert_exporter": "python",
   "pygments_lexer": "ipython3",
   "version": "3.9.7"
  }
 },
 "nbformat": 4,
 "nbformat_minor": 5
}

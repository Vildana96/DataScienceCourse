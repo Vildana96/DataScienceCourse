{
 "cells": [
  {
   "cell_type": "markdown",
   "id": "f4bfe764",
   "metadata": {},
   "source": [
    "### Installation in Anaconda: pip install matplotlib"
   ]
  },
  {
   "cell_type": "markdown",
   "id": "0854b733",
   "metadata": {},
   "source": [
    "[Koristan tutorijal](https://matplotlib.org/stable/index.html)"
   ]
  },
  {
   "cell_type": "code",
   "execution_count": null,
   "id": "28b36c0c",
   "metadata": {},
   "outputs": [],
   "source": [
    "import matplotlib.pyplot as plt"
   ]
  },
  {
   "cell_type": "markdown",
   "id": "5f9f4a19",
   "metadata": {},
   "source": [
    "### Load data"
   ]
  },
  {
   "cell_type": "code",
   "execution_count": null,
   "id": "d5580bae",
   "metadata": {},
   "outputs": [],
   "source": [
    "import pandas as pd"
   ]
  },
  {
   "cell_type": "code",
   "execution_count": null,
   "id": "4905ea7c",
   "metadata": {},
   "outputs": [],
   "source": [
    "download_url = (\n",
    "   ...:     'https://raw.githubusercontent.com/fivethirtyeight/'\n",
    "   ...:     'data/master/college-majors/recent-grads.csv'\n",
    "   ...: )\n",
    "\n",
    "df = pd.read_csv(download_url)"
   ]
  },
  {
   "cell_type": "code",
   "execution_count": null,
   "id": "51e25649",
   "metadata": {},
   "outputs": [],
   "source": [
    "type(df)"
   ]
  },
  {
   "cell_type": "markdown",
   "id": "6c765b22",
   "metadata": {},
   "source": [
    "### About data"
   ]
  },
  {
   "cell_type": "code",
   "execution_count": null,
   "id": "78001777",
   "metadata": {},
   "outputs": [],
   "source": [
    "df.info()"
   ]
  },
  {
   "cell_type": "code",
   "execution_count": null,
   "id": "b422d64c",
   "metadata": {},
   "outputs": [],
   "source": [
    "df.head()"
   ]
  },
  {
   "cell_type": "code",
   "execution_count": null,
   "id": "cbdab570",
   "metadata": {},
   "outputs": [],
   "source": [
    "df.shape"
   ]
  },
  {
   "cell_type": "code",
   "execution_count": null,
   "id": "c7f4abfb",
   "metadata": {},
   "outputs": [],
   "source": [
    "df.describe()"
   ]
  },
  {
   "cell_type": "markdown",
   "id": "51787e9d",
   "metadata": {},
   "source": [
    "### Important columns:\n",
    "* 'Median' is the median earnings of full-time, year-round workers.\n",
    "* 'P25th' is the 25th percentile of earnings.\n",
    "* 'P75th' is the 75th percentile of earnings.\n",
    "* 'Rank' is the major’s rank (rank of each institution)"
   ]
  },
  {
   "cell_type": "markdown",
   "id": "0b9c1aee",
   "metadata": {},
   "source": [
    "### First graph"
   ]
  },
  {
   "cell_type": "code",
   "execution_count": null,
   "id": "3ec67d4e",
   "metadata": {},
   "outputs": [],
   "source": [
    "# The %matplotlib magic command sets up your Jupyter Notebook for displaying plots with Matplotlib \n",
    "%matplotlib"
   ]
  },
  {
   "cell_type": "code",
   "execution_count": null,
   "id": "b4a209a9",
   "metadata": {},
   "outputs": [],
   "source": [
    "df.plot(x='Rank', y=['P25th', 'Median', 'P75th'])"
   ]
  },
  {
   "cell_type": "code",
   "execution_count": null,
   "id": "16968a20",
   "metadata": {},
   "outputs": [],
   "source": [
    "plt.show()"
   ]
  },
  {
   "cell_type": "code",
   "execution_count": null,
   "id": "742b34d5",
   "metadata": {},
   "outputs": [],
   "source": [
    "%matplotlib inline # display plots in notebook"
   ]
  },
  {
   "cell_type": "code",
   "execution_count": null,
   "id": "231d0643",
   "metadata": {},
   "outputs": [],
   "source": [
    "df.plot(x='Rank', y=['P25th', 'Median', 'P75th'])"
   ]
  },
  {
   "cell_type": "markdown",
   "id": "a521df81",
   "metadata": {},
   "source": [
    "### Plot kind:\n",
    "\n",
    "The default value is 'line'.\n",
    "\n",
    "* 'area' is for area plots.\n",
    "* 'bar' is for vertical bar charts.\n",
    "* 'barh' is for horizontal bar charts.\n",
    "* 'box' is for box plots.\n",
    "* 'hexbin' is for hexbin plots.\n",
    "* 'hist' is for histograms.\n",
    "* 'kde' is for kernel density estimate charts.\n",
    "* 'density' is an alias for 'kde'.\n",
    "* 'line' is for line graphs.\n",
    "* 'pie' is for pie charts.\n",
    "* 'scatter' is for scatter plots."
   ]
  },
  {
   "cell_type": "code",
   "execution_count": null,
   "id": "ae6da6f0",
   "metadata": {},
   "outputs": [],
   "source": [
    "df.plot(x='Rank', y=['P25th', 'Median', 'P75th'], kind='bar')"
   ]
  },
  {
   "cell_type": "markdown",
   "id": "c7a31db1",
   "metadata": {},
   "source": [
    "### Equivalent way"
   ]
  },
  {
   "cell_type": "code",
   "execution_count": null,
   "id": "ed001113",
   "metadata": {},
   "outputs": [],
   "source": [
    "# For DataFrame"
   ]
  },
  {
   "cell_type": "code",
   "execution_count": null,
   "id": "33bdc2a7",
   "metadata": {},
   "outputs": [],
   "source": [
    "df.plot.bar(x='Rank', y=['P25th', 'Median', 'P75th'])"
   ]
  },
  {
   "cell_type": "code",
   "execution_count": null,
   "id": "1fe73bd3",
   "metadata": {},
   "outputs": [],
   "source": [
    "# Како ради??"
   ]
  },
  {
   "cell_type": "code",
   "execution_count": null,
   "id": "b9fc43c9",
   "metadata": {},
   "outputs": [],
   "source": [
    "plt.plot(df['Rank'], df['P75th'])"
   ]
  },
  {
   "cell_type": "code",
   "execution_count": null,
   "id": "ee87c67a",
   "metadata": {},
   "outputs": [],
   "source": [
    "# pandas .plot() is a wrapper for pyplot.plot()\n",
    "# and the result is a graph identical to the one you produced with Matplotlib"
   ]
  },
  {
   "cell_type": "markdown",
   "id": "d3157cd6",
   "metadata": {},
   "source": [
    "[Wrapper functions](https://www.pythonpool.com/python-wrappers/#:~:text=Trending%20Python%20Articles-,What%20are%20Wrappers%20in%20Python%3F,are%20also%20known%20as%20decorators.)"
   ]
  },
  {
   "cell_type": "code",
   "execution_count": null,
   "id": "ca541e6a",
   "metadata": {},
   "outputs": [],
   "source": [
    "df.plot(x='Rank', y='P75th')"
   ]
  },
  {
   "cell_type": "code",
   "execution_count": null,
   "id": "77afa88c",
   "metadata": {},
   "outputs": [],
   "source": [
    "df.plot??"
   ]
  },
  {
   "cell_type": "code",
   "execution_count": null,
   "id": "180e7c5b",
   "metadata": {},
   "outputs": [],
   "source": [
    "# For Series"
   ]
  },
  {
   "cell_type": "code",
   "execution_count": null,
   "id": "4874b13b",
   "metadata": {},
   "outputs": [],
   "source": [
    "s = df['Median']"
   ]
  },
  {
   "cell_type": "code",
   "execution_count": null,
   "id": "ac16c21d",
   "metadata": {},
   "outputs": [],
   "source": [
    "s"
   ]
  },
  {
   "cell_type": "code",
   "execution_count": null,
   "id": "09846535",
   "metadata": {},
   "outputs": [],
   "source": [
    "type(s)"
   ]
  },
  {
   "cell_type": "code",
   "execution_count": null,
   "id": "5c516cdb",
   "metadata": {},
   "outputs": [],
   "source": [
    "s.plot(kind='hist')"
   ]
  },
  {
   "cell_type": "code",
   "execution_count": null,
   "id": "5829cbbd",
   "metadata": {},
   "outputs": [],
   "source": [
    "plt.hist(s)"
   ]
  },
  {
   "cell_type": "markdown",
   "id": "64ad888f",
   "metadata": {},
   "source": [
    "## Data analysis using matplotlib"
   ]
  },
  {
   "cell_type": "markdown",
   "id": "57da3a58",
   "metadata": {},
   "source": [
    "### Detect outliers"
   ]
  },
  {
   "cell_type": "markdown",
   "id": "42dfb051",
   "metadata": {},
   "source": [
    "Незванична дефиниција: <br> Статистички аутлајер (одударајући податак) је било која тачка у скупу података која је ван предефинисане расподеле података. Обично представља абнормалне вредности података који би требало да буду изузете, било да је због нетачне вредности или пак јаког утицаја при анализи података."
   ]
  },
  {
   "cell_type": "code",
   "execution_count": null,
   "id": "3f1afe85",
   "metadata": {},
   "outputs": [],
   "source": [
    "df_outliers = df.loc[df['Median']>70000]"
   ]
  },
  {
   "cell_type": "code",
   "execution_count": null,
   "id": "0bbc61fb",
   "metadata": {},
   "outputs": [],
   "source": [
    "df_outliers.shape"
   ]
  },
  {
   "cell_type": "code",
   "execution_count": null,
   "id": "ed6d5d5a",
   "metadata": {},
   "outputs": [],
   "source": [
    "df_outliers.plot(x='Major', y='Median', kind='bar', rot=5, fontsize=4)"
   ]
  },
  {
   "cell_type": "code",
   "execution_count": null,
   "id": "65dbbae0",
   "metadata": {},
   "outputs": [],
   "source": [
    "df_outliers['Major']"
   ]
  },
  {
   "cell_type": "markdown",
   "id": "6cf3fcc4",
   "metadata": {},
   "source": [
    "### Check correlation"
   ]
  },
  {
   "cell_type": "code",
   "execution_count": null,
   "id": "36ac6a91",
   "metadata": {},
   "outputs": [],
   "source": [
    "df.plot(x='Median', y='Unemployment_rate', kind='scatter')"
   ]
  },
  {
   "cell_type": "code",
   "execution_count": null,
   "id": "34cb513d",
   "metadata": {},
   "outputs": [],
   "source": [
    "df.corr()  # Pearson correlation"
   ]
  },
  {
   "cell_type": "markdown",
   "id": "8706d376",
   "metadata": {},
   "source": [
    "$$\n",
    "  r =\n",
    "  \\frac{ \\sum_{i=1}^{n}(x_i-\\bar{x})(y_i-\\bar{y}) }{%\n",
    "        \\sqrt{\\sum_{i=1}^{n}(x_i-\\bar{x})^2}\\sqrt{\\sum_{i=1}^{n}(y_i-\\bar{y})^2}}\n",
    "$$"
   ]
  },
  {
   "cell_type": "code",
   "execution_count": null,
   "id": "1fff944b",
   "metadata": {},
   "outputs": [],
   "source": [
    "corr_matrix = df.corr()"
   ]
  },
  {
   "cell_type": "code",
   "execution_count": null,
   "id": "935fdb1e",
   "metadata": {},
   "outputs": [],
   "source": [
    "corr_matrix.style.background_gradient(cmap='coolwarm')"
   ]
  },
  {
   "cell_type": "code",
   "execution_count": null,
   "id": "48f29eac",
   "metadata": {},
   "outputs": [],
   "source": [
    "import seaborn as sn"
   ]
  },
  {
   "cell_type": "markdown",
   "id": "ea2108c7",
   "metadata": {},
   "source": [
    "[Seaborn vs Matplotlib](https://www.geeksforgeeks.org/difference-between-matplotlib-vs-seaborn/#:~:text=Seaborn%20is%20more%20comfortable%20in,provide%20beautiful%20graphics%20in%20python.&text=Matplotlib%20works%20efficiently%20with%20data,various%20stateful%20APIs%20for%20plotting.)"
   ]
  },
  {
   "cell_type": "code",
   "execution_count": null,
   "id": "237f7bdb",
   "metadata": {},
   "outputs": [],
   "source": [
    "sn.heatmap(corr_matrix)"
   ]
  },
  {
   "cell_type": "markdown",
   "id": "70ee82e9",
   "metadata": {},
   "source": [
    "### Group categorical data"
   ]
  },
  {
   "cell_type": "code",
   "execution_count": null,
   "id": "ee3c5b20",
   "metadata": {},
   "outputs": [],
   "source": [
    "df['Major_category'].unique()"
   ]
  },
  {
   "cell_type": "code",
   "execution_count": null,
   "id": "5c52b590",
   "metadata": {},
   "outputs": [],
   "source": [
    "major_totals = df.groupby('Major_category')['Total'].sum().sort_values()"
   ]
  },
  {
   "cell_type": "code",
   "execution_count": null,
   "id": "77461ea0",
   "metadata": {},
   "outputs": [],
   "source": [
    "major_totals"
   ]
  },
  {
   "cell_type": "code",
   "execution_count": null,
   "id": "90b1fea9",
   "metadata": {},
   "outputs": [],
   "source": [
    "len(major_totals)"
   ]
  },
  {
   "cell_type": "code",
   "execution_count": null,
   "id": "723e5f99",
   "metadata": {},
   "outputs": [],
   "source": [
    "major_totals.plot(kind='barh', fontsize=4)"
   ]
  },
  {
   "cell_type": "code",
   "execution_count": null,
   "id": "833ac6f6",
   "metadata": {},
   "outputs": [],
   "source": [
    "# Plot only Engineering"
   ]
  },
  {
   "cell_type": "code",
   "execution_count": null,
   "id": "b66844c5",
   "metadata": {},
   "outputs": [],
   "source": [
    "df_Engineering = df[df['Major_category']=='Engineering']"
   ]
  },
  {
   "cell_type": "code",
   "execution_count": null,
   "id": "edf49119",
   "metadata": {},
   "outputs": [],
   "source": [
    "df_Engineering['Total'].plot(kind='hist')"
   ]
  },
  {
   "cell_type": "code",
   "execution_count": null,
   "id": "b10956c0",
   "metadata": {},
   "outputs": [],
   "source": [
    "df_Engineering.head()"
   ]
  },
  {
   "cell_type": "markdown",
   "id": "e36471d1",
   "metadata": {},
   "source": [
    "[Dummy variables](https://www.geeksforgeeks.org/how-to-create-dummy-variables-in-python-with-pandas/)"
   ]
  },
  {
   "cell_type": "code",
   "execution_count": null,
   "id": "5e6eee16",
   "metadata": {},
   "outputs": [],
   "source": [
    "pd.get_dummies(df['Major_category'])"
   ]
  },
  {
   "cell_type": "code",
   "execution_count": null,
   "id": "9ffa74fa",
   "metadata": {},
   "outputs": [],
   "source": []
  }
 ],
 "metadata": {
  "kernelspec": {
   "display_name": "Python 3 (ipykernel)",
   "language": "python",
   "name": "python3"
  },
  "language_info": {
   "codemirror_mode": {
    "name": "ipython",
    "version": 3
   },
   "file_extension": ".py",
   "mimetype": "text/x-python",
   "name": "python",
   "nbconvert_exporter": "python",
   "pygments_lexer": "ipython3",
   "version": "3.9.7"
  }
 },
 "nbformat": 4,
 "nbformat_minor": 5
}

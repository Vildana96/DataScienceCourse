{
 "cells": [
  {
   "cell_type": "markdown",
   "id": "35c26401",
   "metadata": {},
   "source": [
    "### Boosting\n",
    "Osnovna ideja pojacavanja je da se ansambl gradi rekurzivno, dodajuci model po model, pri cemu se svaki od modela trenira tako da sto bolje nadomesti greske trenutnog modela,odnosno da ga pojaca. <br>\n",
    "Boosting pomaze u smanjenju greske pristrasnosti koja nastaje kada modeli ne uspevaju da uhvate sve relevantne trendove u podacima. Na primer, jedan klasifikator mozda nece moci tacno da predvidi klasu objekta, ali kada grupisemo vise slabih klasifikatora od kojih svaki progresivno uci od pogresno klasifikovanih instanci drugih, mozemo izgraditi jedan jak model."
   ]
  },
  {
   "cell_type": "markdown",
   "id": "6c5fa0d8",
   "metadata": {},
   "source": [
    "<img src='boost.png'>"
   ]
  },
  {
   "cell_type": "markdown",
   "id": "045e2f19",
   "metadata": {},
   "source": [
    "[AdaBoost](https://blog.paperspace.com/adaboost-optimizer/#:~:text=AdaBoost%20is%20an%20ensemble%20learning,turn%20them%20into%20strong%20ones.) ((Adaptive Boosting) je prvi i najpoznatiji algoritam pojacavanja."
   ]
  },
  {
   "cell_type": "markdown",
   "id": "c7c2a918",
   "metadata": {},
   "source": [
    "AdaBoost ima za cilj kombinovanje vise slabih baznih modela da bi se napravio jedan jak. Bazni model moze biti bilo koji od osnovnih klasifikatora ili regresionih modela.\n",
    "<br>\n",
    "Sta je \"slab\" bazni model? <br>\n",
    "Slab bazni model je onaj koji radi bolje od slucajnog pogadjanja, ali i dalje ima lose mere kvaliteta.\n",
    "### Kako radi?\n",
    "AdaBoost koristi sumu panjeva (Decision Stumps), a ne stabla. Panjevi su stabla koja imaju samo jedan cvor i dva lista.\n",
    "Panj moze koristiti samo jedan atribut da donese odluku."
   ]
  },
  {
   "cell_type": "markdown",
   "id": "1ff3f592",
   "metadata": {},
   "source": [
    "<img src='adaboost.png' width=900\\>"
   ]
  },
  {
   "cell_type": "markdown",
   "id": "cecdf316",
   "metadata": {},
   "source": [
    "Slab bazni model (npr. panj odluke) se pravi nad trening skupom na osnovu ponderisanih uzoraka. Na pocetku, svim uzorcima dajemo jednaku tezinu. Na primer, ako u skupu za treniranje postoji M instanci mogu im se pridruziti tezine 1/M. <br>\n",
    "Kreiramo panj odluke za svaku varijablu i analiziramo greske koje je bazni model napravio i proporcionalno njima dajemo nove tezine instancama. Na ovaj nacin se model usmerava da obrati vise paznje na instance sa vecim greskama ne bi li postao precizniji. <br>\n",
    "Ceo postupak se ponavlja dok se ne dosegne zadati broj modela ansambla. "
   ]
  },
  {
   "cell_type": "markdown",
   "id": "42bf8c4d",
   "metadata": {},
   "source": [
    "### Implementacija"
   ]
  },
  {
   "cell_type": "markdown",
   "id": "c6188c42",
   "metadata": {},
   "source": [
    "Implementiracemo AdaBoost boosting algoritam za predikciju cena nekretnina u Boston bazi podataka sto znaci da cemo koristiti regresioni bazni model kako imamo kontinualnu ciljnu promenljivu."
   ]
  },
  {
   "cell_type": "code",
   "execution_count": null,
   "id": "c5acf1fd",
   "metadata": {},
   "outputs": [],
   "source": [
    "import numpy as np\n",
    "import pandas as pd\n",
    "import matplotlib.pyplot as plt"
   ]
  },
  {
   "cell_type": "code",
   "execution_count": null,
   "id": "e1b738a9",
   "metadata": {
    "colab": {},
    "colab_type": "code",
    "id": "H1DDOMEVHom_"
   },
   "outputs": [],
   "source": [
    "from sklearn import model_selection\n",
    "from sklearn import datasets\n",
    "from sklearn import preprocessing\n",
    "from sklearn import metrics"
   ]
  },
  {
   "cell_type": "code",
   "execution_count": null,
   "id": "eae01099",
   "metadata": {},
   "outputs": [],
   "source": [
    "data = datasets.load_boston()"
   ]
  },
  {
   "cell_type": "code",
   "execution_count": null,
   "id": "d41f2447",
   "metadata": {},
   "outputs": [],
   "source": [
    "print(data.DESCR)"
   ]
  },
  {
   "cell_type": "code",
   "execution_count": null,
   "id": "295861f2",
   "metadata": {},
   "outputs": [],
   "source": [
    "X = data.data\n",
    "y = data.target"
   ]
  },
  {
   "cell_type": "code",
   "execution_count": null,
   "id": "43262e5e",
   "metadata": {},
   "outputs": [],
   "source": [
    "X_train, X_test, y_train, y_test = model_selection.train_test_split(X, y, test_size=0.33, random_state=42)"
   ]
  },
  {
   "cell_type": "code",
   "execution_count": null,
   "id": "bbd76a51",
   "metadata": {},
   "outputs": [],
   "source": [
    "scaler = preprocessing.StandardScaler()\n",
    "scaler.fit(X_train)\n",
    "X_train = scaler.transform(X_train)\n",
    "X_test = scaler.transform(X_test)"
   ]
  },
  {
   "cell_type": "code",
   "execution_count": null,
   "id": "f19b2072",
   "metadata": {},
   "outputs": [],
   "source": [
    "from sklearn import tree\n",
    "from sklearn import ensemble"
   ]
  },
  {
   "cell_type": "markdown",
   "id": "1abfb0d4",
   "metadata": {
    "colab_type": "text",
    "id": "ulCqrQxPNVGy"
   },
   "source": [
    "Kao bazni model AdaBoost algoritma koristimo regresiono stablo sa maksimalnom dubinom 3. <br>\n",
    "U ansamblu imamo 100 stabala. <br>"
   ]
  },
  {
   "cell_type": "code",
   "execution_count": null,
   "id": "c9d5d005",
   "metadata": {
    "colab": {
     "base_uri": "https://localhost:8080/",
     "height": 153
    },
    "colab_type": "code",
    "id": "dlT1EZxPLvSN",
    "outputId": "abc5e07d-109e-4812-9365-d7ea67b953a8"
   },
   "outputs": [],
   "source": [
    "model_adaboost= ensemble.AdaBoostRegressor(base_estimator=tree.DecisionTreeRegressor(max_depth=3), n_estimators=100, random_state=42)"
   ]
  },
  {
   "cell_type": "code",
   "execution_count": null,
   "id": "63a6ddf7",
   "metadata": {
    "colab": {},
    "colab_type": "code",
    "id": "x_x_mzReLzU0"
   },
   "outputs": [],
   "source": [
    "model_adaboost.fit(X_train, y_train)"
   ]
  },
  {
   "cell_type": "code",
   "execution_count": null,
   "id": "8873e62c",
   "metadata": {},
   "outputs": [],
   "source": [
    "y_pred = model_adaboost.predict(X_test)"
   ]
  },
  {
   "cell_type": "code",
   "execution_count": null,
   "id": "3e995164",
   "metadata": {},
   "outputs": [],
   "source": [
    "metrics.mean_squared_error(y_test, y_pred) # uporediti sa linearnom regresijom"
   ]
  },
  {
   "cell_type": "code",
   "execution_count": null,
   "id": "3e327397",
   "metadata": {},
   "outputs": [],
   "source": [
    "metrics.r2_score(y_test, y_pred)"
   ]
  },
  {
   "cell_type": "markdown",
   "id": "00bc6968",
   "metadata": {},
   "source": [
    "Grafik promene gresaka baznih modela:"
   ]
  },
  {
   "cell_type": "code",
   "execution_count": null,
   "id": "c1ff92c8",
   "metadata": {},
   "outputs": [],
   "source": [
    "plt.plot(range(0, model_adaboost.n_estimators), model_adaboost.estimator_errors_)\n",
    "plt.show()"
   ]
  },
  {
   "cell_type": "markdown",
   "id": "34602f96",
   "metadata": {},
   "source": [
    "Grafik promene tezina baznih modela (sto je bolji model on daje vece tezine pogresnim predikcijama tj. manje tacnim):"
   ]
  },
  {
   "cell_type": "code",
   "execution_count": null,
   "id": "6f178c42",
   "metadata": {},
   "outputs": [],
   "source": [
    "plt.plot(range(0, model_adaboost.n_estimators), model_adaboost.estimator_weights_)\n",
    "plt.show()"
   ]
  },
  {
   "cell_type": "code",
   "execution_count": null,
   "id": "b2c5d9a2",
   "metadata": {},
   "outputs": [],
   "source": [
    "scores= []\n",
    "for estimator in model_adaboost.estimators_:\n",
    "    score = estimator.score(X_train, y_train)\n",
    "    scores.append(score)"
   ]
  },
  {
   "cell_type": "code",
   "execution_count": null,
   "id": "6f2cc8e2",
   "metadata": {},
   "outputs": [],
   "source": [
    "plt.title('Promena koeficijenta determinacije u toku treniranja')\n",
    "plt.xlabel('Redni broj estimatora')\n",
    "plt.ylabel('R2')\n",
    "plt.plot(range(0, model_adaboost.n_estimators), scores)\n",
    "plt.show()"
   ]
  },
  {
   "cell_type": "markdown",
   "id": "2cbeeb0c",
   "metadata": {},
   "source": [
    "Znacajnost atributa:"
   ]
  },
  {
   "cell_type": "code",
   "execution_count": null,
   "id": "0b991c25",
   "metadata": {},
   "outputs": [],
   "source": [
    "plt.barh(data.feature_names, model_adaboost.feature_importances_, color='orange') # uporediti sa linearnom regresijom\n",
    "plt.show()"
   ]
  },
  {
   "cell_type": "code",
   "execution_count": null,
   "id": "608e5ec2",
   "metadata": {},
   "outputs": [],
   "source": []
  }
 ],
 "metadata": {
  "kernelspec": {
   "display_name": "Python 3 (ipykernel)",
   "language": "python",
   "name": "python3"
  },
  "language_info": {
   "codemirror_mode": {
    "name": "ipython",
    "version": 3
   },
   "file_extension": ".py",
   "mimetype": "text/x-python",
   "name": "python",
   "nbconvert_exporter": "python",
   "pygments_lexer": "ipython3",
   "version": "3.9.7"
  }
 },
 "nbformat": 4,
 "nbformat_minor": 5
}

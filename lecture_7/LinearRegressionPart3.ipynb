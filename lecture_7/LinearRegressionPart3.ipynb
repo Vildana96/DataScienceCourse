{
 "cells": [
  {
   "cell_type": "code",
   "execution_count": null,
   "id": "7325ecdf",
   "metadata": {},
   "outputs": [],
   "source": [
    "import warnings\n",
    "warnings.filterwarnings('ignore')"
   ]
  },
  {
   "cell_type": "code",
   "execution_count": null,
   "id": "d13900ee",
   "metadata": {},
   "outputs": [],
   "source": [
    "import pandas as pd\n",
    "import numpy as np\n",
    "import seaborn as sns\n",
    "import matplotlib.pyplot as plt"
   ]
  },
  {
   "cell_type": "code",
   "execution_count": null,
   "id": "622cfcf4",
   "metadata": {},
   "outputs": [],
   "source": [
    "from sklearn import model_selection\n",
    "from sklearn import linear_model\n",
    "from sklearn import preprocessing\n",
    "from sklearn import metrics"
   ]
  },
  {
   "cell_type": "code",
   "execution_count": null,
   "id": "2016b659",
   "metadata": {},
   "outputs": [],
   "source": [
    "df = pd.read_excel('salary.xlsx', sheet_name='Sheet2')\n",
    "df.head()"
   ]
  },
  {
   "cell_type": "code",
   "execution_count": null,
   "id": "b02aa473",
   "metadata": {},
   "outputs": [],
   "source": [
    "df.info()"
   ]
  },
  {
   "cell_type": "code",
   "execution_count": null,
   "id": "46b6339a",
   "metadata": {},
   "outputs": [],
   "source": [
    "df.shape"
   ]
  },
  {
   "cell_type": "code",
   "execution_count": null,
   "id": "f92ba5fc",
   "metadata": {},
   "outputs": [],
   "source": [
    "df.dtypes"
   ]
  },
  {
   "cell_type": "code",
   "execution_count": null,
   "id": "cbbf39d8",
   "metadata": {},
   "outputs": [],
   "source": [
    "df.isna().sum()"
   ]
  },
  {
   "cell_type": "code",
   "execution_count": null,
   "id": "14455793",
   "metadata": {},
   "outputs": [],
   "source": [
    "df.describe()"
   ]
  },
  {
   "cell_type": "code",
   "execution_count": null,
   "id": "b3ee560b",
   "metadata": {},
   "outputs": [],
   "source": [
    "df['Gender'].value_counts()"
   ]
  },
  {
   "cell_type": "code",
   "execution_count": null,
   "id": "a4337bd9",
   "metadata": {},
   "outputs": [],
   "source": [
    "df.groupby('Gender').agg(['mean', 'median'])"
   ]
  },
  {
   "cell_type": "code",
   "execution_count": null,
   "id": "cfddf239",
   "metadata": {},
   "outputs": [],
   "source": [
    "sns.boxplot(y='Age', x='Gender', data=df)"
   ]
  },
  {
   "cell_type": "code",
   "execution_count": null,
   "id": "20b5d3a6",
   "metadata": {},
   "outputs": [],
   "source": [
    "sns.boxplot(y='YearsExperience', x='Gender', data=df)"
   ]
  },
  {
   "cell_type": "code",
   "execution_count": null,
   "id": "9b07eb86",
   "metadata": {},
   "outputs": [],
   "source": [
    "sns.pairplot(df, x_vars=['Age', 'YearsExperience'], y_vars=['Salary'], hue='Gender')"
   ]
  },
  {
   "cell_type": "code",
   "execution_count": null,
   "id": "53e3bd4a",
   "metadata": {},
   "outputs": [],
   "source": [
    "df.corr()"
   ]
  },
  {
   "cell_type": "code",
   "execution_count": null,
   "id": "8c52ef3a",
   "metadata": {},
   "outputs": [],
   "source": [
    "sns.heatmap(df.corr(), annot=True, lw=1)"
   ]
  },
  {
   "cell_type": "code",
   "execution_count": null,
   "id": "6dfb47f5",
   "metadata": {},
   "outputs": [],
   "source": [
    "sns.boxplot(y='Salary', x='Classification', data=df)"
   ]
  },
  {
   "cell_type": "code",
   "execution_count": null,
   "id": "9382f283",
   "metadata": {},
   "outputs": [],
   "source": [
    "sns.boxplot(y='Salary', x='Job', data=df)"
   ]
  },
  {
   "cell_type": "markdown",
   "id": "4a008027",
   "metadata": {},
   "source": [
    "### Dummy variables"
   ]
  },
  {
   "cell_type": "code",
   "execution_count": null,
   "id": "31166adc",
   "metadata": {},
   "outputs": [],
   "source": [
    "X = df[['Age', 'YearsExperience', 'Gender', 'Classification', 'Job']]"
   ]
  },
  {
   "cell_type": "code",
   "execution_count": null,
   "id": "25e7595b",
   "metadata": {},
   "outputs": [],
   "source": [
    "X.shape"
   ]
  },
  {
   "cell_type": "code",
   "execution_count": null,
   "id": "9ca98b07",
   "metadata": {},
   "outputs": [],
   "source": [
    "y = df['Salary']"
   ]
  },
  {
   "cell_type": "code",
   "execution_count": null,
   "id": "73eaef60",
   "metadata": {},
   "outputs": [],
   "source": [
    "X = pd.get_dummies(data=X, drop_first=True)\n",
    "X.head()"
   ]
  },
  {
   "cell_type": "code",
   "execution_count": null,
   "id": "0b8740c6",
   "metadata": {},
   "outputs": [],
   "source": [
    "df['Classification'].value_counts()"
   ]
  },
  {
   "cell_type": "code",
   "execution_count": null,
   "id": "d4cf94be",
   "metadata": {},
   "outputs": [],
   "source": [
    "X.shape"
   ]
  },
  {
   "cell_type": "code",
   "execution_count": null,
   "id": "b49e42e6",
   "metadata": {},
   "outputs": [],
   "source": [
    "X_train, X_test, y_train, y_test = model_selection.train_test_split(X, y, test_size=0.4, random_state=101)\n",
    "print(X_train.shape)\n",
    "print(X_test.shape)\n",
    "print(y_train.shape)\n",
    "print(y_test.shape)"
   ]
  },
  {
   "cell_type": "code",
   "execution_count": null,
   "id": "77fbfb13",
   "metadata": {},
   "outputs": [],
   "source": [
    "X_train"
   ]
  },
  {
   "cell_type": "code",
   "execution_count": null,
   "id": "e8bac849",
   "metadata": {},
   "outputs": [],
   "source": [
    "model = linear_model.LinearRegression()\n",
    "model.fit(X_train, y_train)"
   ]
  },
  {
   "cell_type": "code",
   "execution_count": null,
   "id": "402a523e",
   "metadata": {},
   "outputs": [],
   "source": [
    "model.coef_, model.intercept_"
   ]
  },
  {
   "cell_type": "code",
   "execution_count": null,
   "id": "d1a9b561",
   "metadata": {},
   "outputs": [],
   "source": [
    "for feature, coef in zip(X.columns, model.coef_.ravel()):\n",
    "    print (feature, coef)"
   ]
  },
  {
   "cell_type": "markdown",
   "id": "c51560eb",
   "metadata": {},
   "source": [
    "### Interpretacija:\n",
    "Koeficijent koji je vezan za *Gender* je oznacen kao \"Gender_Male\", jer smo napravili dummy varijablu koja je 1 ukoliko je Gender \"Male\", u suprotnom 0. Za vrednost \"Female\" ne pravi posebnu promenljivu jer je jednoznacno odredjena, kao i njen koeficijent. <br>\n",
    "**Interpretacija ovog koeficijenta je:** <br> Ako imamo dve instance za koje je vrednost ostalih prediktora ista, dok je prva zenskog, a druga muskog pola, tada ce vrednost druge ciljne promenljive Salary biti za ~655 (koeficijent uz \"Gender_Male\" je -655) manja. U sustini, ovime pravimo dve regresione prave, jednu za \"Female\"  i jednu za \"Male\", koje su paralelne."
   ]
  },
  {
   "cell_type": "code",
   "execution_count": null,
   "id": "7b7ebf1c",
   "metadata": {},
   "outputs": [],
   "source": [
    "predictions = model.predict(X_test)\n",
    "predictions"
   ]
  },
  {
   "cell_type": "code",
   "execution_count": null,
   "id": "2bba3b81",
   "metadata": {},
   "outputs": [],
   "source": [
    "sns.regplot(x=y_test, y=predictions)"
   ]
  },
  {
   "cell_type": "code",
   "execution_count": null,
   "id": "fbb3fc70",
   "metadata": {},
   "outputs": [],
   "source": [
    "plt.scatter(y_test, predictions, c=X_test.Gender_Male, label=\"Male\")\n",
    "plt.legend(loc=\"upper left\")"
   ]
  },
  {
   "cell_type": "code",
   "execution_count": null,
   "id": "b74bd7ea",
   "metadata": {},
   "outputs": [],
   "source": [
    "sns.regplot(x=y_test, y=predictions)"
   ]
  },
  {
   "cell_type": "markdown",
   "id": "55594b91",
   "metadata": {},
   "source": [
    "### Statisticke mere znacajnosti"
   ]
  },
  {
   "cell_type": "markdown",
   "id": "c7e65f49",
   "metadata": {},
   "source": [
    "[OLS](https://www.statsmodels.org/dev/generated/statsmodels.regression.linear_model.OLS.html)"
   ]
  },
  {
   "cell_type": "code",
   "execution_count": null,
   "id": "8d5293aa",
   "metadata": {},
   "outputs": [],
   "source": [
    "import statsmodels.api as sm"
   ]
  },
  {
   "cell_type": "code",
   "execution_count": null,
   "id": "24d07cc3",
   "metadata": {},
   "outputs": [],
   "source": [
    "ls = sm.OLS(y_train, sm.add_constant(X_train)).fit()\n",
    "print(ls.summary())"
   ]
  },
  {
   "cell_type": "markdown",
   "id": "473d4eec",
   "metadata": {},
   "source": [
    "### P-value\n"
   ]
  },
  {
   "cell_type": "markdown",
   "id": "60d8d706",
   "metadata": {},
   "source": [
    "*Definition:* A p-value is a statistical measurement used to validate a hypothesis against observed data. A p-value measures the probability of obtaining the observed results, assuming that the null hypothesis is true. The lower the p-value, the greater the statistical significance of the observed difference. If the p-value is below your threshold of significance (typically p < 0.05), then you can reject the null hypothesis, but this does not necessarily mean that your alternative hypothesis is true."
   ]
  },
  {
   "cell_type": "markdown",
   "id": "1227c479",
   "metadata": {},
   "source": [
    "<img src='p-value.jpg'>"
   ]
  },
  {
   "cell_type": "markdown",
   "id": "3322f6f9",
   "metadata": {},
   "source": [
    "### T-test\n",
    "Testiramo hipotezu $$H0: b_1 = 0$$ protiv alternative $$H1: b_1 \\neq 0$$ tj. testiramo da li postoji nekakva linearna vezaizmedju x i y."
   ]
  },
  {
   "cell_type": "markdown",
   "id": "a6918a3a",
   "metadata": {},
   "source": [
    "### F-test\n",
    "Testiramo hipotezu $$H0: b_1,b_2,...,b_n = 0,$$ protiv $$H1: \\text{bar  jedan  od  njih}  \\neq 0$$ tj. testiramo ukupnu znacajnost svih prediktora."
   ]
  },
  {
   "cell_type": "markdown",
   "id": "d7d662bf",
   "metadata": {},
   "source": [
    "### Adjusted R-squared\n",
    "We use **adjusted R-squared** to compare the goodness-of-fit for regression models that contain different numbers of independent variables.\n",
    "\n",
    "Let’s say you are comparing a model with five independent variables to a model with one variable and the five variable model has a higher R-squared. Is the model with five variables actually a better model, or does it just have more variables? To determine this, just compare the adjusted R-squared values!"
   ]
  },
  {
   "cell_type": "markdown",
   "id": "07101d86",
   "metadata": {},
   "source": [
    "### Zakljucak iz primera:\n",
    "* Koeficijent determinacije nam kaze da smo objasnili 97% varijanse u podacima\n",
    "* p-vrednost F-testa (mera `Prob (F-statistic)`) je jako mala pa nam govori da odbacimo nultu hipotezu i da postoje neki znacajni prediktori u nasim podacima\n",
    "* posmatrajuci p-vrednost T-testa (`P>|t|`) za svaki prediktor vidimo da je *YearsOfExperince* statisticki ubedljivo najznacajnini\n",
    "* *Gender* nam nije statisticki znacajan prediktor, kada bi bio ili kada bismo ga zadrzali, imali bismo dva linearna modela, za svaki pol posebno, koja znamo da interpretiramo"
   ]
  },
  {
   "cell_type": "code",
   "execution_count": null,
   "id": "235990a9",
   "metadata": {},
   "outputs": [],
   "source": []
  }
 ],
 "metadata": {
  "kernelspec": {
   "display_name": "Python 3 (ipykernel)",
   "language": "python",
   "name": "python3"
  },
  "language_info": {
   "codemirror_mode": {
    "name": "ipython",
    "version": 3
   },
   "file_extension": ".py",
   "mimetype": "text/x-python",
   "name": "python",
   "nbconvert_exporter": "python",
   "pygments_lexer": "ipython3",
   "version": "3.9.7"
  }
 },
 "nbformat": 4,
 "nbformat_minor": 5
}

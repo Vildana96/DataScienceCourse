{
 "cells": [
  {
   "cell_type": "markdown",
   "id": "b5de3f1b",
   "metadata": {},
   "source": [
    "## Introduction"
   ]
  },
  {
   "cell_type": "markdown",
   "id": "12cd74c3",
   "metadata": {},
   "source": [
    "### Print and format"
   ]
  },
  {
   "cell_type": "code",
   "execution_count": 1,
   "id": "352b5a1e",
   "metadata": {},
   "outputs": [
    {
     "name": "stdout",
     "output_type": "stream",
     "text": [
      "10\n"
     ]
    }
   ],
   "source": [
    "print(10)"
   ]
  },
  {
   "cell_type": "code",
   "execution_count": 2,
   "id": "673b386f",
   "metadata": {},
   "outputs": [
    {
     "name": "stdout",
     "output_type": "stream",
     "text": [
      "NISKA\n"
     ]
    }
   ],
   "source": [
    "print(\"NISKA\")"
   ]
  },
  {
   "cell_type": "code",
   "execution_count": 3,
   "id": "9f3b75aa",
   "metadata": {},
   "outputs": [
    {
     "name": "stdout",
     "output_type": "stream",
     "text": [
      "10\n"
     ]
    }
   ],
   "source": [
    "a = 10\n",
    "print(10)"
   ]
  },
  {
   "cell_type": "code",
   "execution_count": 4,
   "id": "1a68f8af",
   "metadata": {},
   "outputs": [
    {
     "name": "stdout",
     "output_type": "stream",
     "text": [
      "2\n",
      "2\n"
     ]
    }
   ],
   "source": [
    "a = input()\n",
    "print(a)"
   ]
  },
  {
   "cell_type": "code",
   "execution_count": 5,
   "id": "f10432cf",
   "metadata": {},
   "outputs": [
    {
     "name": "stdout",
     "output_type": "stream",
     "text": [
      "Unesite vrednost n: 123\n"
     ]
    }
   ],
   "source": [
    "n = input('Unesite vrednost n: ')"
   ]
  },
  {
   "cell_type": "code",
   "execution_count": 6,
   "id": "9c4354a0",
   "metadata": {},
   "outputs": [
    {
     "name": "stdout",
     "output_type": "stream",
     "text": [
      "Vrednost promenljive n je 10\n"
     ]
    }
   ],
   "source": [
    "n = 10\n",
    "print('Vrednost promenljive n je {}'.format(n))"
   ]
  },
  {
   "cell_type": "code",
   "execution_count": 7,
   "id": "997fa2d1",
   "metadata": {},
   "outputs": [
    {
     "name": "stdout",
     "output_type": "stream",
     "text": [
      "a = 5, b = 6\n"
     ]
    }
   ],
   "source": [
    "a = 5\n",
    "b = 6\n",
    "print('a = {}, b = {}'.format(a, b))"
   ]
  },
  {
   "cell_type": "markdown",
   "id": "7a8934b9",
   "metadata": {},
   "source": [
    "### Read & write"
   ]
  },
  {
   "cell_type": "code",
   "execution_count": 8,
   "id": "0e835ba2",
   "metadata": {},
   "outputs": [
    {
     "name": "stdout",
     "output_type": "stream",
     "text": [
      "Point,x,y,Color\n",
      "A,37,34,red\n",
      "B,1,12,NaN\n",
      "C,6,37,NaN\n",
      "D,32,11,yellow\n",
      "E,8,30,yellow\n",
      "F,19,10,NaN\n",
      "G,21,44,yellow\n",
      "H,21,43,NaN\n",
      "I,2,5,yellow\n",
      "J,14,33,red\n",
      "K,1,31,red\n",
      "L,13,25,blue\n",
      "M,0,4,NaN\n",
      "N,11,16,blue\n",
      "O,43,28,red\n",
      "P,5,40,NaN\n",
      "Q,1,41,red\n",
      "R,45,49,yellow\n",
      "S,2,37,red\n",
      "T,37,45,red\n",
      "U,18,40,NaN\n",
      "V,43,24,red\n",
      "W,0,9,NaN\n",
      "X,16,2,red\n",
      "Y,46,25,red\n",
      "Z,36,9,blue\n"
     ]
    }
   ],
   "source": [
    "with open('points.txt') as f:\n",
    "    print(f.read())"
   ]
  },
  {
   "cell_type": "code",
   "execution_count": 9,
   "id": "c89ba5fd",
   "metadata": {},
   "outputs": [
    {
     "name": "stdout",
     "output_type": "stream",
     "text": [
      "Point,x,y,Color\n",
      "\n"
     ]
    }
   ],
   "source": [
    "with open('points.txt') as f:\n",
    "    print(f.readline())"
   ]
  },
  {
   "cell_type": "code",
   "execution_count": 10,
   "id": "c777fbc9",
   "metadata": {},
   "outputs": [
    {
     "name": "stdout",
     "output_type": "stream",
     "text": [
      "Greska prilikom ucitavanja datoteke!\n"
     ]
    }
   ],
   "source": [
    "try:\n",
    "    with open('ne_postojim.txt') as f:\n",
    "        print(f.read())\n",
    "except:\n",
    "    print('Greska prilikom ucitavanja datoteke!')"
   ]
  },
  {
   "cell_type": "code",
   "execution_count": 11,
   "id": "7ae50750",
   "metadata": {},
   "outputs": [],
   "source": [
    "try:\n",
    "    with open('upisi.txt', 'w') as f:\n",
    "        f.write('Ovo je prva lekcija na Data Science kursu')\n",
    "except:\n",
    "    print('Doslo je do greske!')"
   ]
  },
  {
   "cell_type": "markdown",
   "id": "3a67796a",
   "metadata": {},
   "source": [
    "### If-else, for & while"
   ]
  },
  {
   "cell_type": "code",
   "execution_count": 12,
   "id": "91052d53",
   "metadata": {},
   "outputs": [
    {
     "name": "stdout",
     "output_type": "stream",
     "text": [
      "Godina 2022 je prosta\n"
     ]
    }
   ],
   "source": [
    "godina = 2022\n",
    "if (godina % 4 == 0 and godina % 100 != 0) or (godina % 400 == 0):\n",
    "    print('Godina {} je prestupna'.format(godina))\n",
    "else:\n",
    "    print('Godina {} je prosta'.format(godina))"
   ]
  },
  {
   "cell_type": "code",
   "execution_count": 13,
   "id": "cd1e5474",
   "metadata": {},
   "outputs": [
    {
     "name": "stdout",
     "output_type": "stream",
     "text": [
      "0\n",
      "1\n",
      "2\n",
      "3\n",
      "4\n"
     ]
    }
   ],
   "source": [
    "for i in range(0,5):\n",
    "    print(i)"
   ]
  },
  {
   "cell_type": "code",
   "execution_count": 14,
   "id": "c2c8207a",
   "metadata": {},
   "outputs": [
    {
     "name": "stdout",
     "output_type": "stream",
     "text": [
      "0\n",
      "1\n",
      "2\n",
      "3\n",
      "4\n"
     ]
    }
   ],
   "source": [
    "i = 0\n",
    "while i < 5:\n",
    "    print(i)\n",
    "    i += 1"
   ]
  },
  {
   "cell_type": "markdown",
   "id": "c06eae31",
   "metadata": {},
   "source": [
    "### Lists"
   ]
  },
  {
   "cell_type": "markdown",
   "id": "528004a2",
   "metadata": {},
   "source": [
    "A list is of an ordered collection data type that is mutable which means it can be easily modified and we can change its data values and a list can be indexed, sliced, and changed and each element can be accessed using its index value in the list. The following are the main characteristics of a List:\n",
    "</br>\n",
    "* The list is an ordered collection of data types.\n",
    "* The list is mutable.\n",
    "* List are dynamic and can contain objects of different data types.\n",
    "* List elements can be accessed by index number."
   ]
  },
  {
   "cell_type": "code",
   "execution_count": 15,
   "id": "e6fba492",
   "metadata": {},
   "outputs": [
    {
     "name": "stdout",
     "output_type": "stream",
     "text": [
      "[1, 2, 3, 4]\n"
     ]
    }
   ],
   "source": [
    "l = [1, 2, 3, 4]\n",
    "print(l)"
   ]
  },
  {
   "cell_type": "code",
   "execution_count": 16,
   "id": "dde819b8",
   "metadata": {},
   "outputs": [
    {
     "name": "stdout",
     "output_type": "stream",
     "text": [
      "1 4\n"
     ]
    }
   ],
   "source": [
    "print(l[0], l[-1])"
   ]
  },
  {
   "cell_type": "code",
   "execution_count": 17,
   "id": "711a05f8",
   "metadata": {},
   "outputs": [
    {
     "name": "stdout",
     "output_type": "stream",
     "text": [
      "Length: 4\n"
     ]
    }
   ],
   "source": [
    "n = len(l)\n",
    "print('Length: {}'.format(n))"
   ]
  },
  {
   "cell_type": "code",
   "execution_count": 18,
   "id": "d7a8f322",
   "metadata": {},
   "outputs": [
    {
     "name": "stdout",
     "output_type": "stream",
     "text": [
      "1\n",
      "2\n",
      "3\n",
      "4\n"
     ]
    }
   ],
   "source": [
    "for elem in l:\n",
    "    print(elem)"
   ]
  },
  {
   "cell_type": "code",
   "execution_count": 19,
   "id": "1fe0efff",
   "metadata": {},
   "outputs": [
    {
     "data": {
      "text/plain": [
       "[1, 4, 9, 16]"
      ]
     },
     "execution_count": 19,
     "metadata": {},
     "output_type": "execute_result"
    }
   ],
   "source": [
    "[elem**2 for elem in l]"
   ]
  },
  {
   "cell_type": "code",
   "execution_count": 20,
   "id": "d179fea9",
   "metadata": {},
   "outputs": [
    {
     "name": "stdout",
     "output_type": "stream",
     "text": [
      "[1, 2, 3, 4, 5]\n"
     ]
    }
   ],
   "source": [
    "l = [1, 5, 2, 4, 3]\n",
    "l.sort()\n",
    "print(l)"
   ]
  },
  {
   "cell_type": "code",
   "execution_count": 21,
   "id": "5561ae76",
   "metadata": {},
   "outputs": [
    {
     "name": "stdout",
     "output_type": "stream",
     "text": [
      "[1, 2, 3, 4, 5, 6]\n"
     ]
    }
   ],
   "source": [
    "l.append(6)\n",
    "print(l)"
   ]
  },
  {
   "cell_type": "code",
   "execution_count": 22,
   "id": "c0fbd86a",
   "metadata": {},
   "outputs": [],
   "source": [
    "list1 = [1, 2, 3, 4]\n",
    "list2 = ['a', 'b', 'c', 'd']\n",
    "zip_list = zip(list1, list2)"
   ]
  },
  {
   "cell_type": "code",
   "execution_count": 23,
   "id": "c2e74126",
   "metadata": {},
   "outputs": [
    {
     "data": {
      "text/plain": [
       "[(1, 'a'), (2, 'b'), (3, 'c'), (4, 'd')]"
      ]
     },
     "execution_count": 23,
     "metadata": {},
     "output_type": "execute_result"
    }
   ],
   "source": [
    "list(zip_list)"
   ]
  },
  {
   "cell_type": "code",
   "execution_count": 24,
   "id": "aef80efc",
   "metadata": {},
   "outputs": [
    {
     "name": "stdout",
     "output_type": "stream",
     "text": [
      "[1, 2, 3, 4, 5, 6, 7, 8]\n"
     ]
    }
   ],
   "source": [
    "list1 = [1, 2, 3, 4]\n",
    "list2 = [5, 6, 7, 8]\n",
    "print(list1 + list2)"
   ]
  },
  {
   "cell_type": "markdown",
   "id": "806cfa55",
   "metadata": {},
   "source": [
    "### Matrices"
   ]
  },
  {
   "cell_type": "code",
   "execution_count": 25,
   "id": "b083ef3a",
   "metadata": {},
   "outputs": [
    {
     "name": "stdout",
     "output_type": "stream",
     "text": [
      "[[1, 2, 3], [4, 5, 6], [7, 8, 9]]\n"
     ]
    }
   ],
   "source": [
    "matrix = [[1, 2, 3],\n",
    "           [4, 5, 6],\n",
    "           [7, 8, 9]]\n",
    "print(matrix)"
   ]
  },
  {
   "cell_type": "code",
   "execution_count": 26,
   "id": "eef97990",
   "metadata": {},
   "outputs": [
    {
     "name": "stdout",
     "output_type": "stream",
     "text": [
      "9\n"
     ]
    }
   ],
   "source": [
    "print(matrix[2][2])"
   ]
  },
  {
   "cell_type": "markdown",
   "id": "a2ec88dd",
   "metadata": {},
   "source": [
    "### Strings"
   ]
  },
  {
   "cell_type": "code",
   "execution_count": 27,
   "id": "badfad4c",
   "metadata": {},
   "outputs": [
    {
     "name": "stdout",
     "output_type": "stream",
     "text": [
      "A\n",
      "B\n",
      "C\n",
      "D\n",
      "E\n"
     ]
    }
   ],
   "source": [
    "text = 'ABCDE'\n",
    "\n",
    "for c in text:\n",
    "    print(c)"
   ]
  },
  {
   "cell_type": "code",
   "execution_count": 28,
   "id": "4a96685b",
   "metadata": {},
   "outputs": [
    {
     "data": {
      "text/plain": [
       "'ABCDEF'"
      ]
     },
     "execution_count": 28,
     "metadata": {},
     "output_type": "execute_result"
    }
   ],
   "source": [
    "text + 'F'"
   ]
  },
  {
   "cell_type": "code",
   "execution_count": 29,
   "id": "5cf1737b",
   "metadata": {},
   "outputs": [
    {
     "data": {
      "text/plain": [
       "'ABCDE'"
      ]
     },
     "execution_count": 29,
     "metadata": {},
     "output_type": "execute_result"
    }
   ],
   "source": [
    "text"
   ]
  },
  {
   "cell_type": "code",
   "execution_count": 30,
   "id": "3a7bcea0",
   "metadata": {},
   "outputs": [
    {
     "data": {
      "text/plain": [
       "'A'"
      ]
     },
     "execution_count": 30,
     "metadata": {},
     "output_type": "execute_result"
    }
   ],
   "source": [
    "text[0]"
   ]
  },
  {
   "cell_type": "code",
   "execution_count": 31,
   "id": "8ff23d38",
   "metadata": {},
   "outputs": [
    {
     "data": {
      "text/plain": [
       "'Data Science'"
      ]
     },
     "execution_count": 31,
     "metadata": {},
     "output_type": "execute_result"
    }
   ],
   "source": [
    "' '.join(['Data', 'Science'])"
   ]
  },
  {
   "cell_type": "markdown",
   "id": "14c94098",
   "metadata": {},
   "source": [
    "### Tuples"
   ]
  },
  {
   "cell_type": "markdown",
   "id": "5f9d9c4e",
   "metadata": {},
   "source": [
    " A tuple is an ordered and an immutable data type which means we cannot change its values and tuples are written in round brackets. We can access tuple by referring to the index number inside the square brackets.  The following are the main characteristics of a Tuple:\n",
    "</br>\n",
    "* Tuples are immutable and can store any type of data type.\n",
    "* it is defined using ().\n",
    "* it cannot be changed or replaced as it is an immutable data type."
   ]
  },
  {
   "cell_type": "code",
   "execution_count": 32,
   "id": "e24c6db2",
   "metadata": {},
   "outputs": [
    {
     "name": "stdout",
     "output_type": "stream",
     "text": [
      "(1, 2, 3, 4)\n"
     ]
    }
   ],
   "source": [
    "t = (1, 2, 3, 4)\n",
    "print(t)"
   ]
  },
  {
   "cell_type": "code",
   "execution_count": 33,
   "id": "d685127c",
   "metadata": {},
   "outputs": [
    {
     "data": {
      "text/plain": [
       "1"
      ]
     },
     "execution_count": 33,
     "metadata": {},
     "output_type": "execute_result"
    }
   ],
   "source": [
    "t[0]"
   ]
  },
  {
   "cell_type": "markdown",
   "id": "30c29d8c",
   "metadata": {},
   "source": [
    "### Sets"
   ]
  },
  {
   "cell_type": "code",
   "execution_count": 34,
   "id": "2a162c49",
   "metadata": {},
   "outputs": [
    {
     "name": "stdout",
     "output_type": "stream",
     "text": [
      "{1, 2, 3, 4}\n"
     ]
    }
   ],
   "source": [
    "s = set([1, 2, 3, 4])\n",
    "print(s)"
   ]
  },
  {
   "cell_type": "markdown",
   "id": "9452c46c",
   "metadata": {},
   "source": [
    "### Dictionaries"
   ]
  },
  {
   "cell_type": "code",
   "execution_count": 35,
   "id": "e60cead0",
   "metadata": {},
   "outputs": [
    {
     "name": "stdout",
     "output_type": "stream",
     "text": [
      "{'a': 1, 'b': 2}\n"
     ]
    }
   ],
   "source": [
    "dict = {\n",
    "    'a': 1,\n",
    "    'b': 2\n",
    "}\n",
    "\n",
    "print(dict)"
   ]
  },
  {
   "cell_type": "code",
   "execution_count": 36,
   "id": "5e97e5df",
   "metadata": {},
   "outputs": [
    {
     "data": {
      "text/plain": [
       "1"
      ]
     },
     "execution_count": 36,
     "metadata": {},
     "output_type": "execute_result"
    }
   ],
   "source": [
    "dict['a']"
   ]
  },
  {
   "cell_type": "code",
   "execution_count": 37,
   "id": "855b4e46",
   "metadata": {},
   "outputs": [
    {
     "name": "stdout",
     "output_type": "stream",
     "text": [
      "{'a': 1, 'b': 2, 'c': 3}\n"
     ]
    }
   ],
   "source": [
    "dict['c'] = 3\n",
    "print(dict)"
   ]
  },
  {
   "cell_type": "markdown",
   "id": "4355a026",
   "metadata": {},
   "source": [
    "### Functions"
   ]
  },
  {
   "cell_type": "code",
   "execution_count": 38,
   "id": "d79801d9",
   "metadata": {},
   "outputs": [],
   "source": [
    "def minimum_maximum(a, b):\n",
    "    minimum = min(a,b)\n",
    "    maximum = max(a,b)\n",
    "    return (minimum, maximum)"
   ]
  },
  {
   "cell_type": "code",
   "execution_count": 39,
   "id": "37c7a420",
   "metadata": {},
   "outputs": [
    {
     "name": "stdout",
     "output_type": "stream",
     "text": [
      "6.7 10\n"
     ]
    }
   ],
   "source": [
    "a = 10\n",
    "b = 6.7\n",
    "\n",
    "(minimum, maximum) = minimum_maximum(a, b)\n",
    "print(minimum, maximum)"
   ]
  },
  {
   "cell_type": "markdown",
   "id": "a0b6f9d1",
   "metadata": {},
   "source": [
    "## Numpy"
   ]
  },
  {
   "cell_type": "markdown",
   "id": "0aad9aa9",
   "metadata": {},
   "source": [
    "### Works with multidimensional arrays and performs mathematical operations on vectors"
   ]
  },
  {
   "cell_type": "markdown",
   "id": "c344731b",
   "metadata": {},
   "source": [
    "[Koristan tutorijal](https://numpy.org/doc/stable/user/quickstart.html)"
   ]
  },
  {
   "cell_type": "markdown",
   "id": "9f7f1a6d",
   "metadata": {},
   "source": [
    "An array is a collection of items stored at contiguous memory locations. The idea is to store multiple items of the same type together. This makes it easier to calculate the position of each element by simply adding an offset to a base value, i.e., the memory location of the first element of the array (generally denoted by the name of the array). The following are the main characteristics of an Array:\n",
    "</br>\n",
    "* An array is an ordered collection of the similar data types.\n",
    "* An array is mutable.\n",
    "* An array can be accessed by using its index number."
   ]
  },
  {
   "cell_type": "code",
   "execution_count": 40,
   "id": "8c24a705",
   "metadata": {},
   "outputs": [],
   "source": [
    "import numpy as np"
   ]
  },
  {
   "cell_type": "code",
   "execution_count": 41,
   "id": "8e3bb4cd",
   "metadata": {},
   "outputs": [
    {
     "name": "stdout",
     "output_type": "stream",
     "text": [
      "Array a:\n",
      "[1 2 3]\n",
      "shape = (3,)\n",
      "size = 3\n",
      "ndim = 1\n",
      "dtype = int32\n",
      "\n",
      "Matrix M:\n",
      "[[1. 2. 3.]\n",
      " [4. 5. 6.]]\n",
      "shape = (2, 3)\n",
      "size = 6\n",
      "ndim = 2\n",
      "dtype = float32\n"
     ]
    }
   ],
   "source": [
    "a = np.array([1, 2, 3])\n",
    "M = np.array([[1, 2, 3], [4, 5, 6]], dtype='float32')\n",
    "\n",
    "print('Array a:')\n",
    "print(a)\n",
    "print('shape =', a.shape)\n",
    "print('size =', a.size)\n",
    "print('ndim =', a.ndim)\n",
    "print('dtype =', a.dtype, end='\\n\\n')\n",
    "\n",
    "print('Matrix M:')\n",
    "print(M)\n",
    "print('shape =', M.shape)\n",
    "print('size =', M.size)\n",
    "print('ndim =', M.ndim)\n",
    "print('dtype =', M.dtype)"
   ]
  },
  {
   "cell_type": "code",
   "execution_count": 42,
   "id": "5b7964f7",
   "metadata": {},
   "outputs": [
    {
     "name": "stdout",
     "output_type": "stream",
     "text": [
      "a1 = [1 3 5 7 9]\n",
      "a2 = [1.  1.1 1.2 1.3 1.4 1.5 1.6 1.7 1.8 1.9 2.  2.1 2.2 2.3 2.4 2.5 2.6 2.7\n",
      " 2.8 2.9 3. ]\n",
      "a3 = [0. 0. 0. 0. 0. 0.]\n",
      "a4 = [4.77570051 3.85507862 3.89099555 4.06623583 2.88051962]\n",
      "M1 =\n",
      " [[1. 1. 1.]\n",
      " [1. 1. 1.]]\n",
      "M2 =\n",
      " [[1. 0. 0.]\n",
      " [0. 1. 0.]\n",
      " [0. 0. 1.]]\n",
      "M3 =\n",
      " [[4 0 0 0]\n",
      " [0 3 0 0]\n",
      " [0 0 2 0]\n",
      " [0 0 0 1]]\n",
      "M4 =\n",
      " [[-0.05856912  0.71104533 -0.95627551]\n",
      " [ 1.26814759  0.75203713  1.259807  ]\n",
      " [ 0.7950739  -0.81703996  1.0150581 ]\n",
      " [ 0.09270409 -1.0606544   2.70192705]]\n"
     ]
    }
   ],
   "source": [
    "a1 = np.arange(1, 10, 2)\n",
    "a2 = np.linspace(1, 3, 21)\n",
    "a3 = np.zeros(6)\n",
    "a4 = np.random.uniform(2, 5, 5)\n",
    "\n",
    "print('a1 =', a1)\n",
    "print('a2 =', a2)\n",
    "print('a3 =', a3)\n",
    "print('a4 =', a4)\n",
    "\n",
    "M1 = np.ones((2, 3))\n",
    "M2 = np.eye(3)\n",
    "M3 = np.diag([4, 3, 2, 1])\n",
    "M4 = np.random.randn(4, 3)\n",
    "\n",
    "print('M1 =\\n', M1)\n",
    "print('M2 =\\n', M2)\n",
    "print('M3 =\\n', M3)\n",
    "print('M4 =\\n', M4)"
   ]
  },
  {
   "cell_type": "code",
   "execution_count": 43,
   "id": "064c3f2a",
   "metadata": {},
   "outputs": [
    {
     "name": "stdout",
     "output_type": "stream",
     "text": [
      "[[1 2 3]\n",
      " [4 5 6]]\n",
      "[1 2 3 4 5 6]\n",
      "32\n",
      "1\n",
      "6\n",
      "[2 3]\n",
      "[5 7 9]\n",
      "[0.84147098 0.90929743 0.14112001]\n"
     ]
    }
   ],
   "source": [
    "x = np.array([1, 2, 3])\n",
    "y = np.array([4, 5, 6])\n",
    "print(np.vstack((x, y)))\n",
    "print(np.hstack((x, y)))\n",
    "print(np.sum(x * y))\n",
    "print(np.min(x))\n",
    "print(y.max())\n",
    "print(x[x > 1.5])\n",
    "print(x+y)\n",
    "print(np.sin(x))"
   ]
  },
  {
   "cell_type": "code",
   "execution_count": 44,
   "id": "8a6a740a",
   "metadata": {},
   "outputs": [
    {
     "name": "stdout",
     "output_type": "stream",
     "text": [
      "M1 + M2 =\n",
      " [[ 3  7 11]\n",
      " [15 19 23]\n",
      " [27 31 35]]\n",
      "M1 * M2 =\n",
      " [[  2  12  30]\n",
      " [ 56  90 132]\n",
      " [182 240 306]]\n",
      "M1 x M2 =\n",
      " [[ 96 114 132]\n",
      " [240 294 348]\n",
      " [384 474 564]] =\n",
      " [[ 96 114 132]\n",
      " [240 294 348]\n",
      " [384 474 564]]\n",
      "transpose(M1) =\n",
      " [[ 1  7 13]\n",
      " [ 3  9 15]\n",
      " [ 5 11 17]] =\n",
      " [[ 1  7 13]\n",
      " [ 3  9 15]\n",
      " [ 5 11 17]]\n",
      "sin(M1) =\n",
      " [[ 0.84147098  0.14112001 -0.95892427]\n",
      " [ 0.6569866   0.41211849 -0.99999021]\n",
      " [ 0.42016704  0.65028784 -0.96139749]]\n",
      "exp(M2) =\n",
      " [[7.38905610e+00 5.45981500e+01 4.03428793e+02]\n",
      " [2.98095799e+03 2.20264658e+04 1.62754791e+05]\n",
      " [1.20260428e+06 8.88611052e+06 6.56599691e+07]]\n"
     ]
    }
   ],
   "source": [
    "M1 = np.array([[1, 3, 5], [7, 9, 11], [13, 15, 17]])\n",
    "M2 = np.array([[2, 4, 6], [8, 10, 12], [14, 16, 18]])\n",
    "print('M1 + M2 =\\n', M1 + M2)\n",
    "print('M1 * M2 =\\n', M1 * M2)\n",
    "print('M1 x M2 =\\n', M1.dot(M2), '=\\n', np.dot(M1, M2))\n",
    "print('transpose(M1) =\\n', M1.T, '=\\n', M1.transpose())\n",
    "print('sin(M1) =\\n', np.sin(M1))\n",
    "print('exp(M2) =\\n', np.exp(M2))"
   ]
  },
  {
   "cell_type": "code",
   "execution_count": 45,
   "id": "219b9251",
   "metadata": {},
   "outputs": [
    {
     "name": "stdout",
     "output_type": "stream",
     "text": [
      "[[11 22 33]\n",
      " [14 25 36]]\n"
     ]
    }
   ],
   "source": [
    "#Broadcasting\n",
    "M = np.array([[1, 2, 3], [4, 5, 6]])\n",
    "x = np.array([10, 20, 30])\n",
    "print(M + x)"
   ]
  },
  {
   "cell_type": "code",
   "execution_count": 46,
   "id": "42640cb1",
   "metadata": {},
   "outputs": [
    {
     "name": "stdout",
     "output_type": "stream",
     "text": [
      "False\n",
      "[[ True  True  True]\n",
      " [ True False  True]]\n",
      "[[1 2]\n",
      " [3 4]\n",
      " [5 6]]\n",
      "[1 2 3 4 5 6]\n",
      "12\n"
     ]
    }
   ],
   "source": [
    "A = np.array([[1, 2, 3], [4, 5, 6]])\n",
    "B = np.array([[1, 2, 3], [4, 6, 6]])\n",
    "\n",
    "print(np.array_equal(A, B))\n",
    "print(A == B)\n",
    "\n",
    "print(A.reshape(3, 2))\n",
    "\n",
    "print(A.flatten())\n",
    "\n",
    "print(np.sum(B[B == 6]))"
   ]
  },
  {
   "cell_type": "markdown",
   "id": "66531ae9",
   "metadata": {},
   "source": [
    "## Pandas"
   ]
  },
  {
   "cell_type": "markdown",
   "id": "6802f31c",
   "metadata": {},
   "source": [
    "### Works with data frames and series and performs data analysis"
   ]
  },
  {
   "cell_type": "markdown",
   "id": "4f1532a1",
   "metadata": {},
   "source": [
    "[Koristan tutorijal](https://pandas.pydata.org/pandas-docs/dev/user_guide/index.html)"
   ]
  },
  {
   "cell_type": "code",
   "execution_count": 47,
   "id": "83f485b3",
   "metadata": {},
   "outputs": [],
   "source": [
    "import pandas as pd"
   ]
  },
  {
   "cell_type": "code",
   "execution_count": 48,
   "id": "0635e199",
   "metadata": {},
   "outputs": [
    {
     "data": {
      "text/html": [
       "<div>\n",
       "<style scoped>\n",
       "    .dataframe tbody tr th:only-of-type {\n",
       "        vertical-align: middle;\n",
       "    }\n",
       "\n",
       "    .dataframe tbody tr th {\n",
       "        vertical-align: top;\n",
       "    }\n",
       "\n",
       "    .dataframe thead th {\n",
       "        text-align: right;\n",
       "    }\n",
       "</style>\n",
       "<table border=\"1\" class=\"dataframe\">\n",
       "  <thead>\n",
       "    <tr style=\"text-align: right;\">\n",
       "      <th></th>\n",
       "      <th>Point</th>\n",
       "      <th>x</th>\n",
       "      <th>y</th>\n",
       "      <th>Color</th>\n",
       "    </tr>\n",
       "  </thead>\n",
       "  <tbody>\n",
       "    <tr>\n",
       "      <th>0</th>\n",
       "      <td>A</td>\n",
       "      <td>37</td>\n",
       "      <td>34</td>\n",
       "      <td>red</td>\n",
       "    </tr>\n",
       "    <tr>\n",
       "      <th>1</th>\n",
       "      <td>B</td>\n",
       "      <td>1</td>\n",
       "      <td>12</td>\n",
       "      <td>NaN</td>\n",
       "    </tr>\n",
       "    <tr>\n",
       "      <th>2</th>\n",
       "      <td>C</td>\n",
       "      <td>6</td>\n",
       "      <td>37</td>\n",
       "      <td>NaN</td>\n",
       "    </tr>\n",
       "    <tr>\n",
       "      <th>3</th>\n",
       "      <td>D</td>\n",
       "      <td>32</td>\n",
       "      <td>11</td>\n",
       "      <td>yellow</td>\n",
       "    </tr>\n",
       "    <tr>\n",
       "      <th>4</th>\n",
       "      <td>E</td>\n",
       "      <td>8</td>\n",
       "      <td>30</td>\n",
       "      <td>yellow</td>\n",
       "    </tr>\n",
       "    <tr>\n",
       "      <th>5</th>\n",
       "      <td>F</td>\n",
       "      <td>19</td>\n",
       "      <td>10</td>\n",
       "      <td>NaN</td>\n",
       "    </tr>\n",
       "    <tr>\n",
       "      <th>6</th>\n",
       "      <td>G</td>\n",
       "      <td>21</td>\n",
       "      <td>44</td>\n",
       "      <td>yellow</td>\n",
       "    </tr>\n",
       "    <tr>\n",
       "      <th>7</th>\n",
       "      <td>H</td>\n",
       "      <td>21</td>\n",
       "      <td>43</td>\n",
       "      <td>NaN</td>\n",
       "    </tr>\n",
       "    <tr>\n",
       "      <th>8</th>\n",
       "      <td>I</td>\n",
       "      <td>2</td>\n",
       "      <td>5</td>\n",
       "      <td>yellow</td>\n",
       "    </tr>\n",
       "    <tr>\n",
       "      <th>9</th>\n",
       "      <td>J</td>\n",
       "      <td>14</td>\n",
       "      <td>33</td>\n",
       "      <td>red</td>\n",
       "    </tr>\n",
       "    <tr>\n",
       "      <th>10</th>\n",
       "      <td>K</td>\n",
       "      <td>1</td>\n",
       "      <td>31</td>\n",
       "      <td>red</td>\n",
       "    </tr>\n",
       "    <tr>\n",
       "      <th>11</th>\n",
       "      <td>L</td>\n",
       "      <td>13</td>\n",
       "      <td>25</td>\n",
       "      <td>blue</td>\n",
       "    </tr>\n",
       "    <tr>\n",
       "      <th>12</th>\n",
       "      <td>M</td>\n",
       "      <td>0</td>\n",
       "      <td>4</td>\n",
       "      <td>NaN</td>\n",
       "    </tr>\n",
       "    <tr>\n",
       "      <th>13</th>\n",
       "      <td>N</td>\n",
       "      <td>11</td>\n",
       "      <td>16</td>\n",
       "      <td>blue</td>\n",
       "    </tr>\n",
       "    <tr>\n",
       "      <th>14</th>\n",
       "      <td>O</td>\n",
       "      <td>43</td>\n",
       "      <td>28</td>\n",
       "      <td>red</td>\n",
       "    </tr>\n",
       "    <tr>\n",
       "      <th>15</th>\n",
       "      <td>P</td>\n",
       "      <td>5</td>\n",
       "      <td>40</td>\n",
       "      <td>NaN</td>\n",
       "    </tr>\n",
       "    <tr>\n",
       "      <th>16</th>\n",
       "      <td>Q</td>\n",
       "      <td>1</td>\n",
       "      <td>41</td>\n",
       "      <td>red</td>\n",
       "    </tr>\n",
       "    <tr>\n",
       "      <th>17</th>\n",
       "      <td>R</td>\n",
       "      <td>45</td>\n",
       "      <td>49</td>\n",
       "      <td>yellow</td>\n",
       "    </tr>\n",
       "    <tr>\n",
       "      <th>18</th>\n",
       "      <td>S</td>\n",
       "      <td>2</td>\n",
       "      <td>37</td>\n",
       "      <td>red</td>\n",
       "    </tr>\n",
       "    <tr>\n",
       "      <th>19</th>\n",
       "      <td>T</td>\n",
       "      <td>37</td>\n",
       "      <td>45</td>\n",
       "      <td>red</td>\n",
       "    </tr>\n",
       "    <tr>\n",
       "      <th>20</th>\n",
       "      <td>U</td>\n",
       "      <td>18</td>\n",
       "      <td>40</td>\n",
       "      <td>NaN</td>\n",
       "    </tr>\n",
       "    <tr>\n",
       "      <th>21</th>\n",
       "      <td>V</td>\n",
       "      <td>43</td>\n",
       "      <td>24</td>\n",
       "      <td>red</td>\n",
       "    </tr>\n",
       "    <tr>\n",
       "      <th>22</th>\n",
       "      <td>W</td>\n",
       "      <td>0</td>\n",
       "      <td>9</td>\n",
       "      <td>NaN</td>\n",
       "    </tr>\n",
       "    <tr>\n",
       "      <th>23</th>\n",
       "      <td>X</td>\n",
       "      <td>16</td>\n",
       "      <td>2</td>\n",
       "      <td>red</td>\n",
       "    </tr>\n",
       "    <tr>\n",
       "      <th>24</th>\n",
       "      <td>Y</td>\n",
       "      <td>46</td>\n",
       "      <td>25</td>\n",
       "      <td>red</td>\n",
       "    </tr>\n",
       "    <tr>\n",
       "      <th>25</th>\n",
       "      <td>Z</td>\n",
       "      <td>36</td>\n",
       "      <td>9</td>\n",
       "      <td>blue</td>\n",
       "    </tr>\n",
       "  </tbody>\n",
       "</table>\n",
       "</div>"
      ],
      "text/plain": [
       "   Point   x   y   Color\n",
       "0      A  37  34     red\n",
       "1      B   1  12     NaN\n",
       "2      C   6  37     NaN\n",
       "3      D  32  11  yellow\n",
       "4      E   8  30  yellow\n",
       "5      F  19  10     NaN\n",
       "6      G  21  44  yellow\n",
       "7      H  21  43     NaN\n",
       "8      I   2   5  yellow\n",
       "9      J  14  33     red\n",
       "10     K   1  31     red\n",
       "11     L  13  25    blue\n",
       "12     M   0   4     NaN\n",
       "13     N  11  16    blue\n",
       "14     O  43  28     red\n",
       "15     P   5  40     NaN\n",
       "16     Q   1  41     red\n",
       "17     R  45  49  yellow\n",
       "18     S   2  37     red\n",
       "19     T  37  45     red\n",
       "20     U  18  40     NaN\n",
       "21     V  43  24     red\n",
       "22     W   0   9     NaN\n",
       "23     X  16   2     red\n",
       "24     Y  46  25     red\n",
       "25     Z  36   9    blue"
      ]
     },
     "execution_count": 48,
     "metadata": {},
     "output_type": "execute_result"
    }
   ],
   "source": [
    "pd.read_csv('points.csv')"
   ]
  },
  {
   "cell_type": "code",
   "execution_count": 49,
   "id": "b86cbac0",
   "metadata": {},
   "outputs": [],
   "source": [
    "pd.DataFrame({'kolona_1': ['Ovo je prva lekcija na Data Science kursu']}).to_csv('upisi.csv')"
   ]
  },
  {
   "cell_type": "code",
   "execution_count": null,
   "id": "079edf44",
   "metadata": {},
   "outputs": [],
   "source": []
  }
 ],
 "metadata": {
  "kernelspec": {
   "display_name": "Python 3 (ipykernel)",
   "language": "python",
   "name": "python3"
  },
  "language_info": {
   "codemirror_mode": {
    "name": "ipython",
    "version": 3
   },
   "file_extension": ".py",
   "mimetype": "text/x-python",
   "name": "python",
   "nbconvert_exporter": "python",
   "pygments_lexer": "ipython3",
   "version": "3.9.7"
  }
 },
 "nbformat": 4,
 "nbformat_minor": 5
}

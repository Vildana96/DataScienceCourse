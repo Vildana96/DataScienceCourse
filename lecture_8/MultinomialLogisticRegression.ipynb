{
 "cells": [
  {
   "cell_type": "markdown",
   "id": "3b0c3e86",
   "metadata": {},
   "source": [
    "### Multinomial Logistic Regression\n",
    "Multinomial logistic regression is a form of logistic regression used to predict a target variable have more than 2 classes. It is a modification of logistic regression using the **softmax function** instead of the sigmoid function: \n",
    "$$\\frac{e^{-\\beta_i^T X}}{\\sum_{k=1}^{K} e^{-\\beta_k^T X}}$$ and **cross entropy loss function**: \n",
    "$$ J(\\theta) = -\\left[ \\sum_{i=1}^{m} \\sum_{k=1}^{K} 1\\left\\{y^{(i)} = k\\right\\} \\log P(y^{(i)} = k | x^{(i)} ; \\theta) \\right]$$"
   ]
  },
  {
   "cell_type": "code",
   "execution_count": null,
   "id": "d7983c93",
   "metadata": {},
   "outputs": [],
   "source": [
    "import numpy as np \n",
    "import matplotlib.pyplot as plt\n",
    "import seaborn as sns"
   ]
  },
  {
   "cell_type": "code",
   "execution_count": null,
   "id": "aa018000",
   "metadata": {},
   "outputs": [],
   "source": [
    "from sklearn import linear_model\n",
    "from sklearn import model_selection\n",
    "from sklearn import metrics\n",
    "from sklearn import preprocessing\n",
    "from sklearn import datasets"
   ]
  },
  {
   "cell_type": "markdown",
   "id": "03d395d8",
   "metadata": {},
   "source": [
    "### Part 1"
   ]
  },
  {
   "cell_type": "code",
   "execution_count": null,
   "id": "8671117d",
   "metadata": {},
   "outputs": [],
   "source": [
    "from sklearn.datasets import load_digits\n",
    "digits = load_digits()"
   ]
  },
  {
   "cell_type": "code",
   "execution_count": null,
   "id": "6f806658",
   "metadata": {},
   "outputs": [],
   "source": [
    "print(digits.DESCR)"
   ]
  },
  {
   "cell_type": "code",
   "execution_count": null,
   "id": "9df95477",
   "metadata": {},
   "outputs": [],
   "source": [
    "# 1797 images of size 8x8 and 1797 labels in the dataset\n",
    "digits.data.shape, digits.target.shape"
   ]
  },
  {
   "cell_type": "code",
   "execution_count": null,
   "id": "391d8f7e",
   "metadata": {},
   "outputs": [],
   "source": [
    "digits.data[0]"
   ]
  },
  {
   "cell_type": "code",
   "execution_count": null,
   "id": "e31f10fa",
   "metadata": {},
   "outputs": [],
   "source": [
    "list(digits.target)"
   ]
  },
  {
   "cell_type": "code",
   "execution_count": null,
   "id": "213afdc8",
   "metadata": {},
   "outputs": [],
   "source": [
    "from collections import Counter"
   ]
  },
  {
   "cell_type": "code",
   "execution_count": null,
   "id": "14e421e7",
   "metadata": {},
   "outputs": [],
   "source": [
    "Counter(digits.target) # balanced target value"
   ]
  },
  {
   "cell_type": "code",
   "execution_count": null,
   "id": "e5e985bb",
   "metadata": {},
   "outputs": [],
   "source": [
    "plt.figure(figsize=(20,4))\n",
    "for index, (image, label) in enumerate(zip(digits.data[:10], digits.target[:10])):\n",
    "    plt.subplot(1, 10, index + 1)\n",
    "    plt.imshow(np.reshape(image, (8,8)), cmap=plt.cm.gray)\n",
    "    plt.title(label, fontsize = 20)"
   ]
  },
  {
   "cell_type": "code",
   "execution_count": null,
   "id": "8aee511e",
   "metadata": {},
   "outputs": [],
   "source": [
    "X_train, X_test, y_train, y_test = model_selection.train_test_split(digits.data, digits.target, test_size=0.3, random_state=42, stratify=digits.target)"
   ]
  },
  {
   "cell_type": "code",
   "execution_count": null,
   "id": "56550baa",
   "metadata": {},
   "outputs": [],
   "source": [
    "scaler = preprocessing.StandardScaler()\n",
    "scaler.fit(X_train)\n",
    "X_train_scaled = scaler.transform(X_train)\n",
    "X_test_scaled = scaler.transform(X_test)"
   ]
  },
  {
   "cell_type": "code",
   "execution_count": null,
   "id": "02a66961",
   "metadata": {},
   "outputs": [],
   "source": [
    "model = linear_model.LogisticRegression()"
   ]
  },
  {
   "cell_type": "code",
   "execution_count": null,
   "id": "55f90b90",
   "metadata": {},
   "outputs": [],
   "source": [
    "model.fit(X_train_scaled, y_train)"
   ]
  },
  {
   "cell_type": "code",
   "execution_count": null,
   "id": "b7ebf1d6",
   "metadata": {},
   "outputs": [],
   "source": [
    "# Jedna predikcija"
   ]
  },
  {
   "cell_type": "code",
   "execution_count": null,
   "id": "5e9f0f63",
   "metadata": {},
   "outputs": [],
   "source": [
    "plt.imshow(np.reshape(X_test[0], (8,8)), cmap=plt.cm.gray)"
   ]
  },
  {
   "cell_type": "code",
   "execution_count": null,
   "id": "b4e79c5e",
   "metadata": {},
   "outputs": [],
   "source": [
    "model.predict(X_test_scaled[0].reshape(1,-1))"
   ]
  },
  {
   "cell_type": "code",
   "execution_count": null,
   "id": "758b7c2e",
   "metadata": {},
   "outputs": [],
   "source": [
    "# Sve predikcije na testnom skupu"
   ]
  },
  {
   "cell_type": "code",
   "execution_count": null,
   "id": "a4b015db",
   "metadata": {},
   "outputs": [],
   "source": [
    "predictions = model.predict(X_test_scaled)"
   ]
  },
  {
   "cell_type": "code",
   "execution_count": null,
   "id": "b567d6f0",
   "metadata": {},
   "outputs": [],
   "source": [
    "predictions"
   ]
  },
  {
   "cell_type": "code",
   "execution_count": null,
   "id": "1c5f8fad",
   "metadata": {},
   "outputs": [],
   "source": [
    "score = metrics.accuracy_score(y_test, predictions)\n",
    "score"
   ]
  },
  {
   "cell_type": "code",
   "execution_count": null,
   "id": "de60314c",
   "metadata": {},
   "outputs": [],
   "source": [
    "metrics.precision_score(y_test, predictions, average='macro')"
   ]
  },
  {
   "cell_type": "code",
   "execution_count": null,
   "id": "ae6a8ccc",
   "metadata": {},
   "outputs": [],
   "source": [
    "metrics.recall_score(y_test, predictions, average='macro')"
   ]
  },
  {
   "cell_type": "code",
   "execution_count": null,
   "id": "bde2d5d3",
   "metadata": {},
   "outputs": [],
   "source": [
    "# sve mere na jednom mestu\n",
    "print(metrics.classification_report(y_test, predictions))"
   ]
  },
  {
   "cell_type": "code",
   "execution_count": null,
   "id": "0067d943",
   "metadata": {},
   "outputs": [],
   "source": [
    "# Matrica konfuzije\n",
    "cm = metrics.confusion_matrix(y_test, predictions)\n",
    "print(cm)"
   ]
  },
  {
   "cell_type": "code",
   "execution_count": null,
   "id": "a4543e65",
   "metadata": {},
   "outputs": [],
   "source": [
    "# Vizualizacija \n",
    "plt.figure(figsize=(9,9))\n",
    "sns.heatmap(cm, annot=True, fmt=\".3f\", linewidths=.5, square = True, cmap = 'Blues_r')\n",
    "plt.ylabel('Actual label')\n",
    "plt.xlabel('Predicted label')\n",
    "plt.title('Accuracy Score: {0}'.format(score), size = 15)"
   ]
  },
  {
   "cell_type": "markdown",
   "id": "026456e2",
   "metadata": {},
   "source": [
    "### Part 2"
   ]
  },
  {
   "cell_type": "markdown",
   "id": "9a610a0a",
   "metadata": {},
   "source": [
    "[MNIST Dataset Of Handwritten Digits](http://yann.lecun.com/exdb/mnist/)"
   ]
  },
  {
   "cell_type": "code",
   "execution_count": null,
   "id": "8872a51a",
   "metadata": {},
   "outputs": [],
   "source": [
    "from sklearn.datasets import fetch_openml\n",
    "mnist = fetch_openml('mnist_784')"
   ]
  },
  {
   "cell_type": "code",
   "execution_count": null,
   "id": "33c92e5d",
   "metadata": {},
   "outputs": [],
   "source": [
    "mnist.data"
   ]
  },
  {
   "cell_type": "code",
   "execution_count": null,
   "id": "553fdbc4",
   "metadata": {},
   "outputs": [],
   "source": [
    "# There are 70,000 images (28x28 images for a dimensionality of 784)\n",
    "print(mnist.data.shape)\n",
    "# These are the labels\n",
    "print(mnist.target.shape)"
   ]
  },
  {
   "cell_type": "code",
   "execution_count": null,
   "id": "b122e44e",
   "metadata": {},
   "outputs": [],
   "source": [
    "plt.figure(figsize=(20,4))\n",
    "for index, (image, label) in enumerate(zip(mnist.data.iloc[:10,].values, mnist.target.iloc[:10,].values)):\n",
    "    plt.subplot(1, 10, index + 1)\n",
    "    plt.imshow(np.reshape(image, (28, 28)), cmap=plt.cm.gray)\n",
    "    plt.title(label, fontsize = 20)"
   ]
  },
  {
   "cell_type": "code",
   "execution_count": null,
   "id": "0f763f22",
   "metadata": {},
   "outputs": [],
   "source": [
    "X_train, X_test, y_train, y_test = model_selection.train_test_split(mnist.data, mnist.target, test_size=0.3, random_state=42, stratify=mnist.target)"
   ]
  },
  {
   "cell_type": "code",
   "execution_count": null,
   "id": "b7580df5",
   "metadata": {},
   "outputs": [],
   "source": [
    "y_test"
   ]
  },
  {
   "cell_type": "code",
   "execution_count": null,
   "id": "dc142856",
   "metadata": {},
   "outputs": [],
   "source": [
    "scaler = preprocessing.StandardScaler()\n",
    "scaler.fit(X_train)\n",
    "X_train_scaled = scaler.transform(X_train)\n",
    "X_test_scaled = scaler.transform(X_test)"
   ]
  },
  {
   "cell_type": "code",
   "execution_count": null,
   "id": "0961a66c",
   "metadata": {},
   "outputs": [],
   "source": [
    "model = linear_model.LogisticRegression(max_iter=1000) # max_iter=1000 for covergence"
   ]
  },
  {
   "cell_type": "code",
   "execution_count": null,
   "id": "559ad9cd",
   "metadata": {},
   "outputs": [],
   "source": [
    "model.fit(X_train_scaled, y_train)"
   ]
  },
  {
   "cell_type": "code",
   "execution_count": null,
   "id": "2c948868",
   "metadata": {},
   "outputs": [],
   "source": [
    "predictions = model.predict(X_test_scaled)"
   ]
  },
  {
   "cell_type": "code",
   "execution_count": null,
   "id": "ce18f605",
   "metadata": {},
   "outputs": [],
   "source": [
    "predictions"
   ]
  },
  {
   "cell_type": "code",
   "execution_count": null,
   "id": "46b97837",
   "metadata": {},
   "outputs": [],
   "source": [
    "score = metrics.accuracy_score(y_test, predictions)\n",
    "score"
   ]
  },
  {
   "cell_type": "code",
   "execution_count": null,
   "id": "f399aa31",
   "metadata": {},
   "outputs": [],
   "source": [
    "metrics.precision_score(y_test, predictions, average='macro')"
   ]
  },
  {
   "cell_type": "code",
   "execution_count": null,
   "id": "fa196ecd",
   "metadata": {},
   "outputs": [],
   "source": [
    "metrics.recall_score(y_test, predictions, average='macro')"
   ]
  },
  {
   "cell_type": "code",
   "execution_count": null,
   "id": "3b9a2352",
   "metadata": {},
   "outputs": [],
   "source": [
    "# sve mere na jednom mestu\n",
    "print(metrics.classification_report(y_test, predictions))"
   ]
  },
  {
   "cell_type": "code",
   "execution_count": null,
   "id": "b043e9fd",
   "metadata": {},
   "outputs": [],
   "source": [
    "# Matrica konfuzije\n",
    "cm = metrics.confusion_matrix(y_test, predictions)\n",
    "print(cm)"
   ]
  },
  {
   "cell_type": "code",
   "execution_count": null,
   "id": "63e1dd97",
   "metadata": {},
   "outputs": [],
   "source": [
    "# Vizualizacija \n",
    "plt.figure(figsize=(9,9))\n",
    "sns.heatmap(cm, annot=True, fmt=\".3f\", linewidths=.5, square = True, cmap = 'Blues_r')\n",
    "plt.ylabel('Actual label')\n",
    "plt.xlabel('Predicted label')\n",
    "plt.title('Accuracy Score: {0}'.format(score), size = 15)"
   ]
  },
  {
   "cell_type": "code",
   "execution_count": null,
   "id": "8e3cd0b8",
   "metadata": {},
   "outputs": [],
   "source": [
    "np.array(y_test.values)"
   ]
  },
  {
   "cell_type": "code",
   "execution_count": null,
   "id": "1d884937",
   "metadata": {},
   "outputs": [],
   "source": [
    "# Misclassification\n",
    "index = 0\n",
    "misclassifiedIndices = []\n",
    "for label, predict in zip(np.array(y_test.values), predictions):\n",
    "    if label != predict: \n",
    "        misclassifiedIndices.append(index)\n",
    "    index +=1"
   ]
  },
  {
   "cell_type": "code",
   "execution_count": null,
   "id": "df93836c",
   "metadata": {},
   "outputs": [],
   "source": [
    "misclassifiedIndices"
   ]
  },
  {
   "cell_type": "code",
   "execution_count": null,
   "id": "11455565",
   "metadata": {},
   "outputs": [],
   "source": [
    "plt.figure(figsize=(20,4))\n",
    "for index, misclassifiedIndex in enumerate(misclassifiedIndices[5:10]):\n",
    "    plt.subplot(1, 5, index + 1)\n",
    "    plt.imshow(np.reshape(X_test.iloc[misclassifiedIndex].values, (28,28)), cmap=plt.cm.gray)\n",
    "    plt.title('Predicted: {}, Actual: {}'.format(predictions[misclassifiedIndex], y_test.iloc[misclassifiedIndex]), fontsize = 15)"
   ]
  },
  {
   "cell_type": "code",
   "execution_count": null,
   "id": "8a1557d6",
   "metadata": {},
   "outputs": [],
   "source": [
    "# New mnist dataset"
   ]
  },
  {
   "cell_type": "code",
   "execution_count": null,
   "id": "8348c967",
   "metadata": {},
   "outputs": [],
   "source": [
    "mnist_new = []\n",
    "for index, row in mnist.data.iterrows():\n",
    "    row_new = row.values.reshape(28, 28)\n",
    "    row_new = row_new[2:-2][:,2:-2][::3].reshape(8*24)[::3]\n",
    "    mnist_new.append(row_new)"
   ]
  },
  {
   "cell_type": "code",
   "execution_count": null,
   "id": "39b8263c",
   "metadata": {},
   "outputs": [],
   "source": [
    "plt.figure(figsize=(20,4))\n",
    "for index, (image, label) in enumerate(zip(mnist_new[10:20], mnist.target.iloc[10:20,].values)):\n",
    "    plt.subplot(1, 10, index + 1)\n",
    "    plt.imshow(np.reshape(image, (8,8)), cmap=plt.cm.gray)\n",
    "    plt.title(label, fontsize = 20)"
   ]
  },
  {
   "cell_type": "code",
   "execution_count": null,
   "id": "af59bd8f",
   "metadata": {},
   "outputs": [],
   "source": [
    "predictions = model.predict(mnist_new)"
   ]
  },
  {
   "cell_type": "code",
   "execution_count": null,
   "id": "ede4b283",
   "metadata": {},
   "outputs": [],
   "source": [
    "len(predictions)"
   ]
  },
  {
   "cell_type": "code",
   "execution_count": null,
   "id": "ba2a81e5",
   "metadata": {},
   "outputs": [],
   "source": [
    "predictions"
   ]
  },
  {
   "cell_type": "code",
   "execution_count": null,
   "id": "30732f80",
   "metadata": {},
   "outputs": [],
   "source": [
    "print(metrics.classification_report(mnist.target.astype('int').values, predictions))"
   ]
  },
  {
   "cell_type": "code",
   "execution_count": null,
   "id": "5f005738",
   "metadata": {},
   "outputs": [],
   "source": []
  }
 ],
 "metadata": {
  "kernelspec": {
   "display_name": "Python 3 (ipykernel)",
   "language": "python",
   "name": "python3"
  },
  "language_info": {
   "codemirror_mode": {
    "name": "ipython",
    "version": 3
   },
   "file_extension": ".py",
   "mimetype": "text/x-python",
   "name": "python",
   "nbconvert_exporter": "python",
   "pygments_lexer": "ipython3",
   "version": "3.9.7"
  }
 },
 "nbformat": 4,
 "nbformat_minor": 5
}

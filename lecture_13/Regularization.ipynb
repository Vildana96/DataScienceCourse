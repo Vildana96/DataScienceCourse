{
 "cells": [
  {
   "cell_type": "markdown",
   "id": "9cee5c73",
   "metadata": {},
   "source": [
    "# Regularizacija "
   ]
  },
  {
   "cell_type": "markdown",
   "id": "ff4a0a5b",
   "metadata": {},
   "source": [
    "Regularizacija je tehnika masinskog ucenja koja se koristi za kontrolu:\n",
    "* preprilagodjavanja (overfitting) modela\n",
    "* multikolinearnosti atributa\n",
    "* kompleksnosti i interpretacije modela (nekad izbora atributa) \n",
    "\n",
    "<br>**I na taj nacin, u nekom smislu, kontrolise, odnosno popravlja model.**"
   ]
  },
  {
   "cell_type": "markdown",
   "id": "af799da3",
   "metadata": {},
   "source": [
    "### Linearna regresija sa regularizacijom"
   ]
  },
  {
   "cell_type": "markdown",
   "id": "d19732eb",
   "metadata": {},
   "source": [
    "### Ridge regresija:"
   ]
  },
  {
   "cell_type": "markdown",
   "id": "8bf7751d",
   "metadata": {},
   "source": [
    "[Dokumentacija](https://scikit-learn.org/stable/modules/generated/sklearn.linear_model.Ridge.html)"
   ]
  },
  {
   "cell_type": "markdown",
   "id": "483421e5",
   "metadata": {},
   "source": [
    "Funkcija greske: \n",
    "$$L_{ridge}(\\beta) = ||\\beta X -y||^2 + \\lambda ||\\beta||^2$$"
   ]
  },
  {
   "cell_type": "markdown",
   "id": "3d0dd21f",
   "metadata": {},
   "source": [
    "### LASSO regresija:"
   ]
  },
  {
   "cell_type": "markdown",
   "id": "914208c4",
   "metadata": {},
   "source": [
    "[Dokumentacija](https://scikit-learn.org/stable/modules/generated/sklearn.linear_model.Lasso.html)"
   ]
  },
  {
   "cell_type": "markdown",
   "id": "949296e9",
   "metadata": {},
   "source": [
    "Funkcija greske: \n",
    "$$L_{lasso}(\\beta) = ||\\beta X -y||^2 + \\lambda |\\beta|$$"
   ]
  },
  {
   "cell_type": "markdown",
   "id": "5473885c",
   "metadata": {},
   "source": [
    "### Regularizacioni hiperparametar $\\lambda$ kontrolise vrednosti koeficijenata $\\beta$ - sto je vece $\\lambda$ vise smo kaznili, odnosno smanjili koeficijente linearne regresije tj. redukovali kompleksnost modela, multikolinearnost i overfitting."
   ]
  },
  {
   "cell_type": "markdown",
   "id": "ca0c6d52",
   "metadata": {},
   "source": [
    "<img src='lasso.png'>"
   ]
  },
  {
   "cell_type": "markdown",
   "id": "0063cb10",
   "metadata": {},
   "source": [
    "### Razlika: Samo u LASSO regresiji koeficijenti se mogu anulirati! <br> Zato LASSO regresiju mozemo koristiti za selekciju atributa, samim tim i redukciju dimenzije, dok Ridge regresiju ne mozemo."
   ]
  },
  {
   "cell_type": "code",
   "execution_count": null,
   "id": "5a850573",
   "metadata": {},
   "outputs": [],
   "source": [
    "import numpy as np\n",
    "import pandas as pd\n",
    "from matplotlib import pyplot as plt"
   ]
  },
  {
   "cell_type": "code",
   "execution_count": null,
   "id": "b8de5eda",
   "metadata": {},
   "outputs": [],
   "source": [
    "from sklearn import preprocessing\n",
    "from sklearn import model_selection\n",
    "from sklearn import linear_model\n",
    "from sklearn import metrics\n",
    "from sklearn import datasets"
   ]
  },
  {
   "cell_type": "markdown",
   "id": "350df1d3",
   "metadata": {},
   "source": [
    "Koristicemo poznati Boston skup podataka za predikciju cena nekretnina (koji smo koristili za samu linearnu regresiju):"
   ]
  },
  {
   "cell_type": "code",
   "execution_count": null,
   "id": "1e58e583",
   "metadata": {},
   "outputs": [],
   "source": [
    "data = datasets.load_boston()"
   ]
  },
  {
   "cell_type": "code",
   "execution_count": null,
   "id": "3d71d981",
   "metadata": {},
   "outputs": [],
   "source": [
    "X = data.data\n",
    "y = data.target"
   ]
  },
  {
   "cell_type": "markdown",
   "id": "fe4bfe69",
   "metadata": {},
   "source": [
    "Kratka analiza podataka:"
   ]
  },
  {
   "cell_type": "code",
   "execution_count": null,
   "id": "3156c474",
   "metadata": {},
   "outputs": [],
   "source": [
    "data.feature_names"
   ]
  },
  {
   "cell_type": "code",
   "execution_count": null,
   "id": "58452b7a",
   "metadata": {},
   "outputs": [],
   "source": [
    "number_of_features = len(data.feature_names)\n",
    "number_of_features"
   ]
  },
  {
   "cell_type": "code",
   "execution_count": null,
   "id": "b8079dfe",
   "metadata": {},
   "outputs": [],
   "source": [
    "X = data.data # features"
   ]
  },
  {
   "cell_type": "code",
   "execution_count": null,
   "id": "7d19788d",
   "metadata": {},
   "outputs": [],
   "source": [
    "X.shape"
   ]
  },
  {
   "cell_type": "code",
   "execution_count": null,
   "id": "35a49b70",
   "metadata": {},
   "outputs": [],
   "source": [
    "y = data.target # target variable"
   ]
  },
  {
   "cell_type": "code",
   "execution_count": null,
   "id": "06625ee8",
   "metadata": {},
   "outputs": [],
   "source": [
    "y.shape"
   ]
  },
  {
   "cell_type": "code",
   "execution_count": null,
   "id": "ae7b7242",
   "metadata": {},
   "outputs": [],
   "source": [
    "X = pd.DataFrame(data.data, columns=data.feature_names) # za dalji rad nam treba DataFrame\n",
    "y = pd.DataFrame(data.target, columns=['MEDV'])"
   ]
  },
  {
   "cell_type": "code",
   "execution_count": null,
   "id": "218db2db",
   "metadata": {},
   "outputs": [],
   "source": [
    "X.head()"
   ]
  },
  {
   "cell_type": "code",
   "execution_count": null,
   "id": "ca1a768a",
   "metadata": {},
   "outputs": [],
   "source": [
    "y.head()"
   ]
  },
  {
   "cell_type": "code",
   "execution_count": null,
   "id": "e87186c3",
   "metadata": {},
   "outputs": [],
   "source": [
    "X.info() # all float columns and no missing data"
   ]
  },
  {
   "cell_type": "markdown",
   "id": "2e18b1df",
   "metadata": {},
   "source": [
    "Priprema za treniranje modela:"
   ]
  },
  {
   "cell_type": "code",
   "execution_count": null,
   "id": "496a1f75",
   "metadata": {},
   "outputs": [],
   "source": [
    "X_train, X_test, y_train, y_test = model_selection.train_test_split(X, y, test_size=0.33, random_state = 23)"
   ]
  },
  {
   "cell_type": "code",
   "execution_count": null,
   "id": "4b281cb1",
   "metadata": {},
   "outputs": [],
   "source": [
    "scaler = preprocessing.StandardScaler()\n",
    "scaler.fit(X_train)\n",
    "X_train = scaler.transform(X_train)\n",
    "X_test = scaler.transform(X_test)"
   ]
  },
  {
   "cell_type": "markdown",
   "id": "f0be6f32",
   "metadata": {},
   "source": [
    "### Linearna regresija"
   ]
  },
  {
   "cell_type": "markdown",
   "id": "450b0b4c",
   "metadata": {},
   "source": [
    "Prvo cemo napraviti bazni model linearne regresije kao i do sada:"
   ]
  },
  {
   "cell_type": "code",
   "execution_count": null,
   "id": "a91e02f1",
   "metadata": {},
   "outputs": [],
   "source": [
    "linear = linear_model.LinearRegression()"
   ]
  },
  {
   "cell_type": "code",
   "execution_count": null,
   "id": "9757044d",
   "metadata": {},
   "outputs": [],
   "source": [
    "linear.fit(X_train, y_train)"
   ]
  },
  {
   "cell_type": "code",
   "execution_count": null,
   "id": "8bc7c282",
   "metadata": {},
   "outputs": [],
   "source": [
    "linear.coef_"
   ]
  },
  {
   "cell_type": "code",
   "execution_count": null,
   "id": "6d24bfde",
   "metadata": {},
   "outputs": [],
   "source": [
    "for feature, coef in zip(data.feature_names, linear.coef_.ravel()):\n",
    "    print (feature, coef)"
   ]
  },
  {
   "cell_type": "code",
   "execution_count": null,
   "id": "0625b1e8",
   "metadata": {},
   "outputs": [],
   "source": [
    "linear.intercept_"
   ]
  },
  {
   "cell_type": "code",
   "execution_count": null,
   "id": "a675d14b",
   "metadata": {},
   "outputs": [],
   "source": [
    "y_pred = linear.predict(X_test)"
   ]
  },
  {
   "cell_type": "code",
   "execution_count": null,
   "id": "ccb9cb71",
   "metadata": {},
   "outputs": [],
   "source": [
    "linear_test_score = linear.score(X_test, y_test) # koeficijent determinacije na test skupu"
   ]
  },
  {
   "cell_type": "code",
   "execution_count": null,
   "id": "264097d1",
   "metadata": {},
   "outputs": [],
   "source": [
    "linear_train_score = linear.score(X_train, y_train) # koeficijent determinacije na train skupu"
   ]
  },
  {
   "cell_type": "code",
   "execution_count": null,
   "id": "8211a298",
   "metadata": {},
   "outputs": [],
   "source": [
    "print('Ocena na skupu za treniranje: ', linear_train_score)\n",
    "print('Ocena na skupu za testiranje: ', linear_test_score)"
   ]
  },
  {
   "cell_type": "markdown",
   "id": "73b797e0",
   "metadata": {},
   "source": [
    "**Primetimo da postoji razlika u meri kvaliteta modela na testnom i trening skupu. Sto je veca razlika sa vise sigurnosti zakljucujemo da smo preprilagodili model trening podacima. Zato primenjujemo tehnike regularizacije koeficijenata.**"
   ]
  },
  {
   "cell_type": "markdown",
   "id": "3e92be56",
   "metadata": {},
   "source": [
    "### Ridge regresija"
   ]
  },
  {
   "cell_type": "markdown",
   "id": "af46b1e9",
   "metadata": {},
   "source": [
    "Implementiramo model pomocu `scikit-learn` biblioteke preko klase `Ridge`. Ulogu regularizacionog hiperparametra $\\lambda$ ima `alpha`."
   ]
  },
  {
   "cell_type": "code",
   "execution_count": null,
   "id": "a52b7461",
   "metadata": {},
   "outputs": [],
   "source": [
    "ridge = linear_model.Ridge(alpha = 10)"
   ]
  },
  {
   "cell_type": "code",
   "execution_count": null,
   "id": "a3d187ea",
   "metadata": {},
   "outputs": [],
   "source": [
    "ridge.fit(X_train, y_train)"
   ]
  },
  {
   "cell_type": "code",
   "execution_count": null,
   "id": "936f80ce",
   "metadata": {},
   "outputs": [],
   "source": [
    "ridge.coef_"
   ]
  },
  {
   "cell_type": "code",
   "execution_count": null,
   "id": "0fa27f00",
   "metadata": {},
   "outputs": [],
   "source": [
    "for feature, coef in zip(data.feature_names, ridge.coef_.ravel()):\n",
    "    print (feature, coef)"
   ]
  },
  {
   "cell_type": "code",
   "execution_count": null,
   "id": "058b6f4d",
   "metadata": {},
   "outputs": [],
   "source": [
    "ridge.intercept_  # slobodni koeficijent ne ulazi u regularizaciju"
   ]
  },
  {
   "cell_type": "code",
   "execution_count": null,
   "id": "58f6a1f4",
   "metadata": {},
   "outputs": [],
   "source": [
    "ridge_train_score = ridge.score(X_train, y_train) "
   ]
  },
  {
   "cell_type": "code",
   "execution_count": null,
   "id": "808608e0",
   "metadata": {},
   "outputs": [],
   "source": [
    "ridge_test_score = ridge.score(X_test, y_test) "
   ]
  },
  {
   "cell_type": "code",
   "execution_count": null,
   "id": "be0b4395",
   "metadata": {},
   "outputs": [],
   "source": [
    "print('Ocena na skupu za treniranje: ', ridge_train_score)\n",
    "print('Ocena na skupu za testiranje: ', ridge_test_score)"
   ]
  },
  {
   "cell_type": "markdown",
   "id": "2e248a5e",
   "metadata": {},
   "source": [
    "### LASSO regresija"
   ]
  },
  {
   "cell_type": "markdown",
   "id": "db49ad22",
   "metadata": {},
   "source": [
    "Implementiramo model pomocu `scikit-learn` biblioteke preko klase `Lasso`. Ulogu regularizacionog hiperparametra $\\lambda$ ima `alpha`."
   ]
  },
  {
   "cell_type": "code",
   "execution_count": null,
   "id": "c7577cde",
   "metadata": {},
   "outputs": [],
   "source": [
    "lasso = linear_model.Lasso(alpha=1) # probati sa drugim vrednostima regularizacionog hiperparametra"
   ]
  },
  {
   "cell_type": "code",
   "execution_count": null,
   "id": "fb050075",
   "metadata": {},
   "outputs": [],
   "source": [
    "lasso.fit(X_train, y_train)"
   ]
  },
  {
   "cell_type": "code",
   "execution_count": null,
   "id": "cb891263",
   "metadata": {},
   "outputs": [],
   "source": [
    "lasso.coef_"
   ]
  },
  {
   "cell_type": "code",
   "execution_count": null,
   "id": "f3c0b0d6",
   "metadata": {},
   "outputs": [],
   "source": [
    "for feature, coef in zip(data.feature_names, lasso.coef_.ravel()):\n",
    "    print (feature, coef)"
   ]
  },
  {
   "cell_type": "code",
   "execution_count": null,
   "id": "84c8afe7",
   "metadata": {},
   "outputs": [],
   "source": [
    "lasso.intercept_  # slobodni koeficijent ne ulazi u regularizaciju"
   ]
  },
  {
   "cell_type": "code",
   "execution_count": null,
   "id": "8b334bd5",
   "metadata": {},
   "outputs": [],
   "source": [
    "lasso_train_score = lasso.score(X_train, y_train) "
   ]
  },
  {
   "cell_type": "code",
   "execution_count": null,
   "id": "28982ffb",
   "metadata": {},
   "outputs": [],
   "source": [
    "lasso_test_score = lasso.score(X_test, y_test) "
   ]
  },
  {
   "cell_type": "code",
   "execution_count": null,
   "id": "0c1edfc6",
   "metadata": {},
   "outputs": [],
   "source": [
    "print('Ocena na skupu za treniranje: ', lasso_train_score)\n",
    "print('Ocena na skupu za testiranje: ', lasso_test_score)"
   ]
  },
  {
   "cell_type": "markdown",
   "id": "3a886d03",
   "metadata": {},
   "source": [
    "### Vizuelizacija koeficijenata modela"
   ]
  },
  {
   "cell_type": "code",
   "execution_count": null,
   "id": "c012cb32",
   "metadata": {},
   "outputs": [],
   "source": [
    "plt.figure(figsize=(10, 5))\n",
    "plt.xticks(np.arange(0, number_of_features), data.feature_names, rotation='90')\n",
    "plt.plot(linear.coef_[0], '^', label='Linearna regresija' )\n",
    "plt.plot(ridge.coef_[0], 'o', label='Ridge regresija (alpha=10)')\n",
    "plt.plot(lasso.coef_, 'v', label='Lasso regresija (alpha=0.1)')\n",
    "plt.plot(np.arange(0, number_of_features), np.zeros(number_of_features), color='gray', linestyle='--')\n",
    "plt.legend(loc='best')\n",
    "plt.show()"
   ]
  },
  {
   "cell_type": "code",
   "execution_count": null,
   "id": "09def622",
   "metadata": {},
   "outputs": [],
   "source": []
  },
  {
   "cell_type": "code",
   "execution_count": null,
   "id": "821db13c",
   "metadata": {},
   "outputs": [],
   "source": []
  }
 ],
 "metadata": {
  "kernelspec": {
   "display_name": "Python 3 (ipykernel)",
   "language": "python",
   "name": "python3"
  },
  "language_info": {
   "codemirror_mode": {
    "name": "ipython",
    "version": 3
   },
   "file_extension": ".py",
   "mimetype": "text/x-python",
   "name": "python",
   "nbconvert_exporter": "python",
   "pygments_lexer": "ipython3",
   "version": "3.9.7"
  }
 },
 "nbformat": 4,
 "nbformat_minor": 5
}

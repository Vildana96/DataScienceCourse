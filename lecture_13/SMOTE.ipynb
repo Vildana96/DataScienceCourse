{
 "cells": [
  {
   "cell_type": "markdown",
   "id": "bcce6e36",
   "metadata": {},
   "source": [
    "### Nebalansirani skupovi podataka"
   ]
  },
  {
   "cell_type": "markdown",
   "id": "8dc6094e",
   "metadata": {},
   "source": [
    "Problem u masinskom ucenju nastaje kada imamo nabalansirane klase ciljne promenljive u nasim podacima. Tada dobijamo mere kvaliteta koje nisu pouzdane ako se ne koriste pravilno. <br>\n",
    "Neki tehnike resavanja tog problema su sledece:\n",
    "1. undersampling \n",
    "2. oversampling \n",
    "3. SMOTE (Synthetic Minority Oversampling Technique) \n",
    "\n",
    "<br>\n",
    "U prvom slucaju dolazi do gubitka informacija, u drugom do stvaranja duplikata, zato se ovde upoznajemo sa trecom tehnikom:"
   ]
  },
  {
   "cell_type": "markdown",
   "id": "7d4381ff",
   "metadata": {},
   "source": [
    "### SMOTE"
   ]
  },
  {
   "cell_type": "markdown",
   "id": "fb3ab683",
   "metadata": {},
   "source": [
    "**Kako radi?**"
   ]
  },
  {
   "cell_type": "markdown",
   "id": "3af7a306",
   "metadata": {},
   "source": [
    "1. Generisati nasumicni uzorak iz manjinske klase\n",
    "2. Odrediti k najblizih suseda za instance iz tog uzorka\n",
    "3. Uzeti vektor izmedju instance i jednog najblizeg suseda\n",
    "4. Pomnoziti taj vektor skalarom izmedju 0 i 1 tj. uzeti neku tacku na njemu\n",
    "5. Nova sinteticka tacka se dobija kada se to doda na trenutnu instancu"
   ]
  },
  {
   "cell_type": "markdown",
   "id": "796d0343",
   "metadata": {},
   "source": [
    "<img src='smote.png'>"
   ]
  },
  {
   "cell_type": "markdown",
   "id": "327fc091",
   "metadata": {},
   "source": [
    "**Sta dobijamo?**"
   ]
  },
  {
   "cell_type": "markdown",
   "id": "935fd397",
   "metadata": {},
   "source": [
    "Kako tacnost kao mera kvaliteta nije reprezentativna, vise paznje posvecujemo preciznosti (Precision) i odzivu (Recall). Upotrebom SMOTE algoritma dobijamo vise pozitivnih (manjinska klasa) predikcija, tako da povecavamo i TP i FP, odnosno povecavamo odziv po cenu preciznosti. Zato ovu tehniku koristimo u slucajevima upotrebe gde nam je takav odnos vazniji."
   ]
  },
  {
   "cell_type": "code",
   "execution_count": null,
   "id": "504915d5",
   "metadata": {},
   "outputs": [],
   "source": [
    "import pandas as pd\n",
    "from sklearn.model_selection import train_test_split\n",
    "from sklearn.linear_model import LogisticRegression\n",
    "from sklearn.metrics import confusion_matrix\n",
    "from sklearn.metrics import classification_report"
   ]
  },
  {
   "cell_type": "code",
   "execution_count": null,
   "id": "ca11b10d",
   "metadata": {},
   "outputs": [],
   "source": [
    "data = pd.read_csv('https://raw.githubusercontent.com/JoosKorstanje/datasets/main/sales_data.csv')\n",
    "data.head()"
   ]
  },
  {
   "cell_type": "markdown",
   "id": "8753179a",
   "metadata": {},
   "source": [
    "### Paznja: Ove podatke mozete koristiti da proverite kako svaki od do sada predjenih algoritama radi sa nebalansiranim skupom podataka"
   ]
  },
  {
   "cell_type": "code",
   "execution_count": null,
   "id": "be1d1966",
   "metadata": {},
   "outputs": [],
   "source": [
    "data.shape"
   ]
  },
  {
   "cell_type": "markdown",
   "id": "fe8d6858",
   "metadata": {},
   "source": [
    "### SMOTE bez"
   ]
  },
  {
   "cell_type": "code",
   "execution_count": null,
   "id": "b9f1b958",
   "metadata": {},
   "outputs": [],
   "source": [
    "data['buy'].value_counts().plot(kind='bar') # ocigledno imamo nebalansiran skup podataka"
   ]
  },
  {
   "cell_type": "code",
   "execution_count": null,
   "id": "05044d76",
   "metadata": {},
   "outputs": [],
   "source": [
    "train, test = train_test_split(data, test_size = 0.3, stratify=data.buy) # obavezno uzeti stratifikovane uzorke"
   ]
  },
  {
   "cell_type": "code",
   "execution_count": null,
   "id": "317b69fe",
   "metadata": {},
   "outputs": [],
   "source": [
    "model = LogisticRegression()\n",
    "\n",
    "model.fit(train[['time_on_page', 'pages_viewed', 'interest_ski', 'interest_climb']], train['buy'])"
   ]
  },
  {
   "cell_type": "code",
   "execution_count": null,
   "id": "30df8b21",
   "metadata": {},
   "outputs": [],
   "source": [
    "preds = model.predict(test[['time_on_page', 'pages_viewed', 'interest_ski', 'interest_climb']])"
   ]
  },
  {
   "cell_type": "code",
   "execution_count": null,
   "id": "fb0d3161",
   "metadata": {},
   "outputs": [],
   "source": [
    "confusion_matrix(test['buy'], preds)"
   ]
  },
  {
   "cell_type": "code",
   "execution_count": null,
   "id": "03552fb0",
   "metadata": {},
   "outputs": [],
   "source": [
    "print(classification_report(test['buy'], preds))"
   ]
  },
  {
   "cell_type": "markdown",
   "id": "d53e51b2",
   "metadata": {},
   "source": [
    "### SMOTE"
   ]
  },
  {
   "cell_type": "code",
   "execution_count": null,
   "id": "ccc8c745",
   "metadata": {},
   "outputs": [],
   "source": [
    "from imblearn.over_sampling import SMOTE"
   ]
  },
  {
   "cell_type": "markdown",
   "id": "5d602b4e",
   "metadata": {},
   "source": [
    "### Napomena: Prvo podelimo podatke na skup za treniranje i testiranje, pa onda generisemo nove sinteticke instance koristeci samo trening skup. Test skup treba da ostane nepromenjen, u smislu novih instanci, kako bi testirali na nevidjenim i reprezentativnim podacima."
   ]
  },
  {
   "cell_type": "code",
   "execution_count": null,
   "id": "58085aa0",
   "metadata": {},
   "outputs": [],
   "source": [
    "train, test = train_test_split(data, test_size = 0.3, stratify=data.buy) # obavezno uzeti stratifikovane uzorke"
   ]
  },
  {
   "cell_type": "code",
   "execution_count": null,
   "id": "7f101335",
   "metadata": {},
   "outputs": [],
   "source": [
    "X_resampled, y_resampled = SMOTE(random_state=25).fit_resample(train[['time_on_page', 'pages_viewed', 'interest_ski', 'interest_climb']], train['buy'])"
   ]
  },
  {
   "cell_type": "code",
   "execution_count": null,
   "id": "c5b0395a",
   "metadata": {},
   "outputs": [],
   "source": [
    "y_resampled.value_counts().plot(kind='bar') # ocigledno imamo nebalansiran skup podataka"
   ]
  },
  {
   "cell_type": "code",
   "execution_count": null,
   "id": "469fde22",
   "metadata": {},
   "outputs": [],
   "source": [
    "model = LogisticRegression()\n",
    "\n",
    "model.fit(X_resampled, y_resampled)"
   ]
  },
  {
   "cell_type": "code",
   "execution_count": null,
   "id": "b751792f",
   "metadata": {},
   "outputs": [],
   "source": [
    "preds = model.predict(test[['time_on_page', 'pages_viewed', 'interest_ski', 'interest_climb']])"
   ]
  },
  {
   "cell_type": "code",
   "execution_count": null,
   "id": "822e71ea",
   "metadata": {},
   "outputs": [],
   "source": [
    "confusion_matrix(test['buy'], preds)"
   ]
  },
  {
   "cell_type": "code",
   "execution_count": null,
   "id": "8e7244e8",
   "metadata": {},
   "outputs": [],
   "source": [
    "print(classification_report(test['buy'], preds))"
   ]
  },
  {
   "cell_type": "code",
   "execution_count": null,
   "id": "3b7dde89",
   "metadata": {},
   "outputs": [],
   "source": []
  }
 ],
 "metadata": {
  "kernelspec": {
   "display_name": "Python 3 (ipykernel)",
   "language": "python",
   "name": "python3"
  },
  "language_info": {
   "codemirror_mode": {
    "name": "ipython",
    "version": 3
   },
   "file_extension": ".py",
   "mimetype": "text/x-python",
   "name": "python",
   "nbconvert_exporter": "python",
   "pygments_lexer": "ipython3",
   "version": "3.9.7"
  }
 },
 "nbformat": 4,
 "nbformat_minor": 5
}

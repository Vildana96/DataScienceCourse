{
 "cells": [
  {
   "cell_type": "markdown",
   "id": "9a9f971b",
   "metadata": {},
   "source": [
    "## Linearna regresija"
   ]
  },
  {
   "cell_type": "markdown",
   "id": "c6753317",
   "metadata": {},
   "source": [
    "Parametri: $\\beta_0$, $\\beta_1$, ..., $\\beta_m$ <br>\n",
    "Atributi/prediktori: $X_1$, $X_2$, ..., $X_m$ <br> \n",
    "Ciljna promenljiva: $y$ koja je oblika $$y = \\beta_0 + \\beta_1X_1 + \\beta_2X_2 + \\ldots + \\beta_mX_m$$ "
   ]
  },
  {
   "cell_type": "markdown",
   "id": "d3327365",
   "metadata": {},
   "source": [
    "**Prosta linearna regresija (Simple linear regression)**: $f(x) = \\beta_0 + \\beta_1x$. "
   ]
  },
  {
   "cell_type": "markdown",
   "id": "12005c83",
   "metadata": {},
   "source": [
    "<img src='linearna_regresija.png'>"
   ]
  },
  {
   "cell_type": "markdown",
   "id": "ab37a410",
   "metadata": {},
   "source": [
    "### scikit-learn "
   ]
  },
  {
   "cell_type": "markdown",
   "id": "7800248a",
   "metadata": {},
   "source": [
    "Installation: **pip install -U scikit-learn**"
   ]
  },
  {
   "cell_type": "markdown",
   "id": "59eacba2",
   "metadata": {},
   "source": [
    "Python bibloteka koja se specijalno koristi za zadatke masinskog ucenja."
   ]
  },
  {
   "cell_type": "markdown",
   "id": "3868b725",
   "metadata": {},
   "source": [
    "[Koristan tutorijal](https://scikit-learn.org/)"
   ]
  },
  {
   "cell_type": "code",
   "execution_count": 1,
   "id": "527335c9",
   "metadata": {},
   "outputs": [],
   "source": [
    "import numpy as np\n",
    "from matplotlib import pyplot as plt"
   ]
  },
  {
   "cell_type": "code",
   "execution_count": 2,
   "id": "b092a7d6",
   "metadata": {},
   "outputs": [],
   "source": [
    "from sklearn import linear_model\n",
    "from sklearn import model_selection\n",
    "from sklearn import metrics"
   ]
  },
  {
   "cell_type": "markdown",
   "id": "0a77c592",
   "metadata": {},
   "source": [
    "* `linear_model` je modul za rad sa linearnim modelima kao sto su linearna regresija, linearna regresija sa regularizacijama, logisticka regresija... \n",
    "* `model_selection` je modul koristimo za podelu skupa podataka na skupove za treniranje i testiranje, unakrsne validacije, generisanja stratifikovanih skupova, ... \n",
    "* Modul `metrics` daje nam razlicite metrike koje se mogu koristiti u evaluaciji. "
   ]
  },
  {
   "cell_type": "markdown",
   "id": "ac0a125d",
   "metadata": {},
   "source": [
    "### Izmislila sam je"
   ]
  },
  {
   "cell_type": "code",
   "execution_count": 3,
   "id": "e1999b21",
   "metadata": {},
   "outputs": [],
   "source": [
    "np.random.seed(7)"
   ]
  },
  {
   "cell_type": "code",
   "execution_count": 4,
   "id": "61d7192d",
   "metadata": {},
   "outputs": [],
   "source": [
    "N = 100"
   ]
  },
  {
   "cell_type": "code",
   "execution_count": 5,
   "id": "a325db3e",
   "metadata": {},
   "outputs": [],
   "source": [
    "x = np.linspace(1, 5, N).reshape(N, 1)"
   ]
  },
  {
   "cell_type": "code",
   "execution_count": 6,
   "id": "8e1b6ca2",
   "metadata": {},
   "outputs": [],
   "source": [
    "y = 11*np.sin(x) + 1.5* np.random.randn(N, 1)"
   ]
  },
  {
   "cell_type": "code",
   "execution_count": 7,
   "id": "8a01548b",
   "metadata": {},
   "outputs": [
    {
     "data": {
      "image/png": "[encoded data removed]",
      "text/plain": [
       "<Figure size 432x288 with 1 Axes>"
      ]
     },
     "metadata": {
      "needs_background": "light"
     },
     "output_type": "display_data"
    }
   ],
   "source": [
    "plt.title('Sinteticki skup podataka')\n",
    "plt.plot(x, y, 'o')\n",
    "plt.show()"
   ]
  },
  {
   "cell_type": "markdown",
   "id": "418ac011",
   "metadata": {},
   "source": [
    "Metod `train_test_split` se koristi za podelu skupa podataka na skup za treniranje i skup za testiranje srazmerno `train_size` i `test_size`. Kako je ova podela na skupove za treniranje i testiranje nasumicna, parametrom `random_state` se vrsi kontrola podele radi potencijalnog reprodukovanja eksperimenata. "
   ]
  },
  {
   "cell_type": "code",
   "execution_count": 8,
   "id": "12718316",
   "metadata": {},
   "outputs": [],
   "source": [
    "x_train, x_test, y_train, y_test = model_selection.train_test_split(x, y, test_size=0.4, random_state=7)"
   ]
  },
  {
   "cell_type": "code",
   "execution_count": 9,
   "id": "2a138981",
   "metadata": {},
   "outputs": [
    {
     "data": {
      "text/plain": [
       "((60, 1), (40, 1))"
      ]
     },
     "execution_count": 9,
     "metadata": {},
     "output_type": "execute_result"
    }
   ],
   "source": [
    "x_train.shape, x_test.shape"
   ]
  },
  {
   "cell_type": "code",
   "execution_count": 10,
   "id": "55f55176",
   "metadata": {},
   "outputs": [
    {
     "data": {
      "text/plain": [
       "((60, 1), (40, 1))"
      ]
     },
     "execution_count": 10,
     "metadata": {},
     "output_type": "execute_result"
    }
   ],
   "source": [
    "y_train.shape, y_test.shape"
   ]
  },
  {
   "cell_type": "code",
   "execution_count": null,
   "id": "e186b9c7",
   "metadata": {},
   "outputs": [],
   "source": [
    "# Add outlier\n",
    "# y_train[1] = np.array(-100)"
   ]
  },
  {
   "cell_type": "markdown",
   "id": "a5a50ea1",
   "metadata": {},
   "source": [
    "### Pravljenje modela"
   ]
  },
  {
   "cell_type": "markdown",
   "id": "c788d2ad",
   "metadata": {},
   "source": [
    "Trazimo parametre b0 i b1 koji najbolje opisuju ovu zakonitost u nasim podacima: <br>  $f(x) = b_0 + b_1x$."
   ]
  },
  {
   "cell_type": "code",
   "execution_count": null,
   "id": "22bbe280",
   "metadata": {},
   "outputs": [],
   "source": [
    "model = linear_model.LinearRegression()"
   ]
  },
  {
   "cell_type": "markdown",
   "id": "de180c92",
   "metadata": {},
   "source": [
    "`fit` se korisi za treniranje modela **nad skupom za treniranje**"
   ]
  },
  {
   "cell_type": "code",
   "execution_count": null,
   "id": "7a7059be",
   "metadata": {},
   "outputs": [],
   "source": [
    "model.fit(x_train, y_train)"
   ]
  },
  {
   "cell_type": "code",
   "execution_count": null,
   "id": "406e6058",
   "metadata": {},
   "outputs": [],
   "source": [
    "type(model.coef_)"
   ]
  },
  {
   "cell_type": "code",
   "execution_count": null,
   "id": "76e431b8",
   "metadata": {},
   "outputs": [],
   "source": [
    "model.coef_.shape"
   ]
  },
  {
   "cell_type": "code",
   "execution_count": null,
   "id": "f51fcc50",
   "metadata": {},
   "outputs": [],
   "source": [
    "b1 = model.coef_[0][0]\n",
    "b1"
   ]
  },
  {
   "cell_type": "code",
   "execution_count": null,
   "id": "34fdf51b",
   "metadata": {},
   "outputs": [],
   "source": [
    "type(model.intercept_)"
   ]
  },
  {
   "cell_type": "code",
   "execution_count": null,
   "id": "c087be82",
   "metadata": {},
   "outputs": [],
   "source": [
    "model.intercept_.shape"
   ]
  },
  {
   "cell_type": "code",
   "execution_count": null,
   "id": "8e24562d",
   "metadata": {},
   "outputs": [],
   "source": [
    "b0 = model.intercept_[0]\n",
    "b0"
   ]
  },
  {
   "cell_type": "code",
   "execution_count": null,
   "id": "ad2d0e71",
   "metadata": {},
   "outputs": [],
   "source": [
    "plt.title('Model linearne regresije')\n",
    "plt.plot(x, y, 'o')\n",
    "plt.plot(x, b0+b1*x)\n",
    "plt.show()"
   ]
  },
  {
   "cell_type": "code",
   "execution_count": null,
   "id": "3576d34e",
   "metadata": {},
   "outputs": [],
   "source": [
    "# Ako ubacimo outlier iz komentara \n",
    "plt.title('Model linearne regresije sa jednom odudarajucom tackom')\n",
    "plt.plot(x, y, 'o')\n",
    "plt.plot(x, b0+b1*x)\n",
    "plt.show()"
   ]
  },
  {
   "cell_type": "markdown",
   "id": "347bcaaf",
   "metadata": {},
   "source": [
    "### Predvidjanje"
   ]
  },
  {
   "cell_type": "markdown",
   "id": "ceef15c2",
   "metadata": {},
   "source": [
    "Za predikciju vrednosti ciljne promenljive nad novim instancama koristi se funkcija `predict`"
   ]
  },
  {
   "cell_type": "code",
   "execution_count": null,
   "id": "25e753d9",
   "metadata": {},
   "outputs": [],
   "source": [
    "new_instance = 4.7\n",
    "model.predict(np.array([new_instance]).reshape(-1, 1)) # mora da bude u obliku kolone novih vrednosti atributa"
   ]
  },
  {
   "cell_type": "markdown",
   "id": "5ece69a0",
   "metadata": {},
   "source": [
    "### Evaluacija modela"
   ]
  },
  {
   "cell_type": "markdown",
   "id": "51147e21",
   "metadata": {},
   "source": [
    "#### Srednjekvadratna greska $MSE$ (mean squared error) \n",
    "    \n",
    "$MSE = \\frac{1}{n} \\sum_i{(y_i-\\hat{y_i})^2}$"
   ]
  },
  {
   "cell_type": "code",
   "execution_count": null,
   "id": "aa1f60ae",
   "metadata": {},
   "outputs": [],
   "source": [
    "def mean_squared_error(y_true, y_predicted):\n",
    "    return ((y_true - y_predicted)**2).mean()"
   ]
  },
  {
   "cell_type": "markdown",
   "id": "006ba6b7",
   "metadata": {},
   "source": [
    "#### Koeficijent determinacije $R^2$\n",
    "    \n",
    "$R^2 = 1 - \\frac{\\sum_i{(y_i-\\hat{y_i})^2}}{\\sum_i{(y_i - \\bar{y})^2}}$"
   ]
  },
  {
   "cell_type": "code",
   "execution_count": null,
   "id": "b6643deb",
   "metadata": {},
   "outputs": [],
   "source": [
    "def r_squared(y_true, y_predicted):  \n",
    "    u = ((y_true - y_predicted)**2).sum()\n",
    "    y_mean = y_true.mean(); \n",
    "    v = ((y_true - y_mean)**2).sum()\n",
    "    return 1 - u/v"
   ]
  },
  {
   "cell_type": "code",
   "execution_count": null,
   "id": "13572643",
   "metadata": {},
   "outputs": [],
   "source": [
    "# predikcije na testnom skupu podataka"
   ]
  },
  {
   "cell_type": "code",
   "execution_count": null,
   "id": "c4125fd2",
   "metadata": {},
   "outputs": [],
   "source": [
    "y_predicted = model.predict(x_test) "
   ]
  },
  {
   "cell_type": "code",
   "execution_count": null,
   "id": "9de30262",
   "metadata": {},
   "outputs": [],
   "source": [
    "y_predicted"
   ]
  },
  {
   "cell_type": "markdown",
   "id": "917110c0",
   "metadata": {},
   "source": [
    "### Nikad ne raditi evaluaciju na skupu podataka za trening modela!!!"
   ]
  },
  {
   "cell_type": "code",
   "execution_count": null,
   "id": "3bedcd87",
   "metadata": {},
   "outputs": [],
   "source": [
    "mean_squared_error(y_test, y_predicted)"
   ]
  },
  {
   "cell_type": "code",
   "execution_count": null,
   "id": "b96f1abf",
   "metadata": {},
   "outputs": [],
   "source": [
    "r_squared(y_test, y_predicted)"
   ]
  },
  {
   "cell_type": "markdown",
   "id": "64180454",
   "metadata": {},
   "source": [
    "Ugradjene funkcije u paketu `metrics`: `mean_squared_error` i `r2_score`"
   ]
  },
  {
   "cell_type": "code",
   "execution_count": null,
   "id": "8ef23029",
   "metadata": {},
   "outputs": [],
   "source": [
    "mse = metrics.mean_squared_error(y_test, y_predicted)\n",
    "mse"
   ]
  },
  {
   "cell_type": "code",
   "execution_count": null,
   "id": "546a8d69",
   "metadata": {},
   "outputs": [],
   "source": [
    "r2 = metrics.r2_score(y_test, y_predicted)\n",
    "r2"
   ]
  },
  {
   "cell_type": "code",
   "execution_count": null,
   "id": "18e1922b",
   "metadata": {},
   "outputs": [],
   "source": [
    "model.score(x_test, y_test) # default value is R2"
   ]
  },
  {
   "cell_type": "markdown",
   "id": "127724fa",
   "metadata": {},
   "source": [
    "### Funkcija greske / Loss function"
   ]
  },
  {
   "cell_type": "markdown",
   "id": "f345080c",
   "metadata": {},
   "source": [
    "Srednjekvadratna greska (MSE): <BR>$ J(\\beta)  = \\frac{1}{2} \\frac{1}{N} \\sum_{i=1}^{N} (\\beta_0 + \\beta_1x_i -y_i)^2$"
   ]
  },
  {
   "cell_type": "code",
   "execution_count": null,
   "id": "74326851",
   "metadata": {},
   "outputs": [],
   "source": [
    "def error_function(beta, x, y):\n",
    "    beta0 = beta[0]\n",
    "    beta1 = beta[1]\n",
    "    \n",
    "    return 0.5*np.average((beta0 + beta1*x - y)**2)"
   ]
  },
  {
   "cell_type": "markdown",
   "id": "5a51ac8f",
   "metadata": {},
   "source": [
    "### Resavanje problema"
   ]
  },
  {
   "cell_type": "code",
   "execution_count": null,
   "id": "6586f0fe",
   "metadata": {},
   "outputs": [],
   "source": [
    "# Matricni pristup"
   ]
  },
  {
   "cell_type": "markdown",
   "id": "c59b6d22",
   "metadata": {},
   "source": [
    "Resavamo $X\\beta=Y$  tj. $X^TX\\beta=X^TY$ u kojoj je $X$ matrica podataka, a $Y$ kolona sa vrednostima ciljne promenljive. <br> Da bi se ovaj sistem resio potrebno je izračunati `Mur-Penrouzov inverz` tj. matricu $(X^TX)^{-1}X^T$. <br> Matrica $P=X(X^TX)^{-1}X^T$ se zove matrica predikcije jer proizvod $PX$ daje ocene ciljne promenljive $Y$."
   ]
  },
  {
   "cell_type": "code",
   "execution_count": null,
   "id": "a93f5bd4",
   "metadata": {},
   "outputs": [],
   "source": [
    "train_size = x_train.shape[0]\n",
    "train_size"
   ]
  },
  {
   "cell_type": "code",
   "execution_count": null,
   "id": "115f76a6",
   "metadata": {},
   "outputs": [],
   "source": [
    "M = np.vstack([np.ones(train_size), x_train.ravel()]).transpose()"
   ]
  },
  {
   "cell_type": "code",
   "execution_count": null,
   "id": "2c0dd3e6",
   "metadata": {},
   "outputs": [],
   "source": [
    "coef_pseudo = np.linalg.pinv(M).dot(y_train)"
   ]
  },
  {
   "cell_type": "code",
   "execution_count": null,
   "id": "afd4502c",
   "metadata": {},
   "outputs": [],
   "source": [
    "print('Koeficijenti modela: ', coef_pseudo[0][0], coef_pseudo[1][0])"
   ]
  },
  {
   "cell_type": "code",
   "execution_count": null,
   "id": "e6b7c86a",
   "metadata": {},
   "outputs": [],
   "source": [
    "# Optimizacioni pristup "
   ]
  },
  {
   "cell_type": "markdown",
   "id": "431fbeff",
   "metadata": {},
   "source": [
    "`Gradientni spust` je optimizacioni metod kojim se iterativno dolazi do optimuma, minimuma ili maksimuma, funkcije tako sto se prate pravci gradijenta (izvoda) funkcije. \n",
    "\n",
    "<br>\n",
    "\n",
    "Vazna pitanja u vezi sa gradijentnim spustom su: \n",
    "* Pod kojim uslovima algoritam konvergira?\n",
    "* Na koji nacin se bira korak učenja?\n",
    "* Kada zaustaviti algoritam? \n",
    "* Na koji nacin se bira $x_0$?"
   ]
  },
  {
   "cell_type": "markdown",
   "id": "46b2e47b",
   "metadata": {},
   "source": [
    "![alt_text](gradient-descent.png)"
   ]
  },
  {
   "cell_type": "code",
   "execution_count": null,
   "id": "4c1b23bc",
   "metadata": {},
   "outputs": [],
   "source": [
    "def regression_gradient_descent(x, y, error_function, beta, alpha, eps, max_iterations, plot = False):\n",
    "        \n",
    "    result = {} \n",
    "        \n",
    "    beta0_old = beta[0]\n",
    "    beta1_old = beta[1]\n",
    "    \n",
    "    error_old = error_function((beta0_old, beta1_old), x, y)\n",
    "    \n",
    "    errors = np.empty(0)\n",
    "    errors = np.append(errors, error_old)\n",
    "    \n",
    "        \n",
    "    for i in np.arange(0, max_iterations):\n",
    "            \n",
    "        beta0_update = np.average(beta0_old + beta1_old*x -y)\n",
    "        beta1_update = np.average((beta0_old + beta1_old*x -y)*x)\n",
    "                \n",
    "        beta0_new = beta0_old - alpha*beta0_update\n",
    "        beta1_new = beta1_old - alpha*beta1_update\n",
    "            \n",
    "        error_new = error_function((beta0_new, beta1_new), x, y)\n",
    "       \n",
    "        \n",
    "        if np.abs(error_new - error_old) < eps:\n",
    "            break\n",
    "                \n",
    "        beta0_old = beta0_new\n",
    "        beta1_old = beta1_new\n",
    "        \n",
    "        error_old = error_new\n",
    "        \n",
    "        errors = np.append(errors, error_new)\n",
    "    \n",
    "                \n",
    "    result['converge'] = i != max_iterations\n",
    "    result['number_of_iterations'] = i\n",
    "    result['b_min'] = (beta0_old, beta1_old)\n",
    "    \n",
    "    if plot == True:\n",
    "        plt.title('Funkcija greske')\n",
    "        plt.xlabel('Broj iteracija')\n",
    "        plt.ylabel('Srednjekvadratna greska')\n",
    "        plt.plot(np.arange(0, i+1), errors)\n",
    "    \n",
    "    return result\n",
    "            "
   ]
  },
  {
   "cell_type": "code",
   "execution_count": null,
   "id": "bb160f44",
   "metadata": {},
   "outputs": [],
   "source": [
    "beta = (3, 1) # nasumicno pocetno resenje\n",
    "alpha = 0.1 # standardni izbor\n",
    "# kada dostignemo tacnost eps ili max_iterations broj iteracija prestajemo sa trazenjem resenja\n",
    "eps = 0.0001 \n",
    "max_iterations = 1000 "
   ]
  },
  {
   "cell_type": "code",
   "execution_count": null,
   "id": "fa1ade28",
   "metadata": {},
   "outputs": [],
   "source": [
    "result = regression_gradient_descent(x, y, error_function, beta, alpha, 0.0001, max_iterations, plot=True)"
   ]
  },
  {
   "cell_type": "code",
   "execution_count": null,
   "id": "c077e030",
   "metadata": {},
   "outputs": [],
   "source": [
    "result"
   ]
  },
  {
   "cell_type": "code",
   "execution_count": null,
   "id": "f9666e10",
   "metadata": {},
   "outputs": [],
   "source": [
    "print('Koeficijenti linearne regresije dobijeni pomocu gradijentnog spusta su: ', result['b_min'] )"
   ]
  },
  {
   "cell_type": "markdown",
   "id": "a443e0d7",
   "metadata": {},
   "source": [
    "### Standardizacija"
   ]
  },
  {
   "cell_type": "markdown",
   "id": "dfe46384",
   "metadata": {},
   "source": [
    "Standardizacija podrazumevanje centriranje vrednosti pojedinacnih atributa oko nule i njihovo skaliranje na jedinicnu varijansu."
   ]
  },
  {
   "cell_type": "code",
   "execution_count": 11,
   "id": "84756d95",
   "metadata": {},
   "outputs": [],
   "source": [
    "from sklearn import preprocessing"
   ]
  },
  {
   "cell_type": "code",
   "execution_count": 12,
   "id": "22e9737f",
   "metadata": {},
   "outputs": [],
   "source": [
    "scaler = preprocessing.StandardScaler()"
   ]
  },
  {
   "cell_type": "code",
   "execution_count": null,
   "id": "cf2011b5",
   "metadata": {},
   "outputs": [],
   "source": [
    "scaler.fit(x_train.reshape(-1, 1))"
   ]
  },
  {
   "cell_type": "markdown",
   "id": "de166362",
   "metadata": {},
   "source": [
    "### Nikad ne raditi standardizaciju koristeci test skup!!!"
   ]
  },
  {
   "cell_type": "code",
   "execution_count": null,
   "id": "cf5b8b5a",
   "metadata": {},
   "outputs": [],
   "source": [
    "scaler.mean_, scaler.var_ # fitted on x_train "
   ]
  },
  {
   "cell_type": "code",
   "execution_count": null,
   "id": "865af5be",
   "metadata": {},
   "outputs": [],
   "source": [
    "np.mean(x_train), np.var(x_train)"
   ]
  },
  {
   "cell_type": "code",
   "execution_count": null,
   "id": "170b9e22",
   "metadata": {},
   "outputs": [],
   "source": [
    "x_train_correct = scaler.transform(x_train.reshape(-1, 1))\n",
    "x_test_correct = scaler.transform(x_test.reshape(-1, 1))"
   ]
  },
  {
   "cell_type": "code",
   "execution_count": null,
   "id": "d2de3c11",
   "metadata": {},
   "outputs": [],
   "source": [
    "np.mean(x_train_correct), np.var(x_train_correct) # tezi ka mean=0 i var=1"
   ]
  },
  {
   "cell_type": "code",
   "execution_count": null,
   "id": "69d2e5f3",
   "metadata": {},
   "outputs": [],
   "source": [
    "# Pravimo novi model nad standardizovanim podacima"
   ]
  },
  {
   "cell_type": "code",
   "execution_count": null,
   "id": "4b6718c4",
   "metadata": {},
   "outputs": [],
   "source": [
    "model.fit(x_train_correct, y_train)"
   ]
  },
  {
   "cell_type": "code",
   "execution_count": null,
   "id": "a9db8b00",
   "metadata": {},
   "outputs": [],
   "source": [
    "b1 = model.coef_[0][0]\n",
    "b1"
   ]
  },
  {
   "cell_type": "code",
   "execution_count": null,
   "id": "44f469b7",
   "metadata": {},
   "outputs": [],
   "source": [
    "b0 = model.intercept_[0]\n",
    "b0"
   ]
  },
  {
   "cell_type": "code",
   "execution_count": null,
   "id": "e5a53c0e",
   "metadata": {},
   "outputs": [],
   "source": [
    "plt.title('Model linearne regresije nad standardizovanim podacima')\n",
    "plt.plot(x_train_correct, y_train, 'o')\n",
    "plt.plot(x_train_correct, b0+b1*x_train_correct)\n",
    "plt.show()"
   ]
  },
  {
   "cell_type": "code",
   "execution_count": null,
   "id": "6370e563",
   "metadata": {},
   "outputs": [],
   "source": [
    "y_predicted = model.predict(x_test_correct)"
   ]
  },
  {
   "cell_type": "code",
   "execution_count": null,
   "id": "7897e50e",
   "metadata": {},
   "outputs": [],
   "source": [
    "mse = metrics.mean_squared_error(y_test, y_predicted)\n",
    "mse"
   ]
  },
  {
   "cell_type": "code",
   "execution_count": null,
   "id": "c5c561c1",
   "metadata": {},
   "outputs": [],
   "source": [
    "model.score(x_test_correct, y_test)"
   ]
  },
  {
   "cell_type": "markdown",
   "id": "915f13d5",
   "metadata": {},
   "source": [
    "### Primetiti: MSE i R2 se ne menjaju standardizacijom, ali se menjaju znacajnosti/koeficijenti nasih atributa u odnosu na ciljnu promenljivu!"
   ]
  },
  {
   "cell_type": "code",
   "execution_count": null,
   "id": "a8ed7e34",
   "metadata": {},
   "outputs": [],
   "source": []
  }
 ],
 "metadata": {
  "kernelspec": {
   "display_name": "Python 3 (ipykernel)",
   "language": "python",
   "name": "python3"
  },
  "language_info": {
   "codemirror_mode": {
    "name": "ipython",
    "version": 3
   },
   "file_extension": ".py",
   "mimetype": "text/x-python",
   "name": "python",
   "nbconvert_exporter": "python",
   "pygments_lexer": "ipython3",
   "version": "3.9.7"
  }
 },
 "nbformat": 4,
 "nbformat_minor": 5
}

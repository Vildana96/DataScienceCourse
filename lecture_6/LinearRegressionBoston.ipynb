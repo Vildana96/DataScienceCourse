{
 "cells": [
  {
   "cell_type": "code",
   "execution_count": 1,
   "id": "18e608c9",
   "metadata": {},
   "outputs": [],
   "source": [
    "import numpy as np\n",
    "import pandas as pd\n",
    "from matplotlib import pyplot as plt"
   ]
  },
  {
   "cell_type": "code",
   "execution_count": 2,
   "id": "a08b7d17",
   "metadata": {},
   "outputs": [],
   "source": [
    "from sklearn import linear_model\n",
    "from sklearn import model_selection\n",
    "from sklearn import metrics\n",
    "from sklearn import preprocessing"
   ]
  },
  {
   "cell_type": "markdown",
   "id": "98b909c7",
   "metadata": {},
   "source": [
    "### Linearna regresija nad stvarnim podacima"
   ]
  },
  {
   "cell_type": "code",
   "execution_count": 3,
   "id": "7da830d3",
   "metadata": {},
   "outputs": [],
   "source": [
    "from sklearn import datasets"
   ]
  },
  {
   "cell_type": "code",
   "execution_count": 4,
   "id": "c6605830",
   "metadata": {},
   "outputs": [],
   "source": [
    "data = datasets.load_boston()"
   ]
  },
  {
   "cell_type": "markdown",
   "id": "69d24ab2",
   "metadata": {},
   "source": [
    "### Analiza podataka"
   ]
  },
  {
   "cell_type": "code",
   "execution_count": null,
   "id": "9bc877c7",
   "metadata": {},
   "outputs": [],
   "source": [
    "print(data.DESCR)"
   ]
  },
  {
   "cell_type": "code",
   "execution_count": null,
   "id": "3156c474",
   "metadata": {},
   "outputs": [],
   "source": [
    "data.feature_names"
   ]
  },
  {
   "cell_type": "code",
   "execution_count": 29,
   "id": "58452b7a",
   "metadata": {},
   "outputs": [
    {
     "data": {
      "text/plain": [
       "13"
      ]
     },
     "execution_count": 29,
     "metadata": {},
     "output_type": "execute_result"
    }
   ],
   "source": [
    "number_of_features = len(data.feature_names)\n",
    "number_of_features"
   ]
  },
  {
   "cell_type": "code",
   "execution_count": 9,
   "id": "b8079dfe",
   "metadata": {},
   "outputs": [],
   "source": [
    "X = data.data # features"
   ]
  },
  {
   "cell_type": "code",
   "execution_count": 10,
   "id": "7d19788d",
   "metadata": {},
   "outputs": [
    {
     "data": {
      "text/plain": [
       "(506, 13)"
      ]
     },
     "execution_count": 10,
     "metadata": {},
     "output_type": "execute_result"
    }
   ],
   "source": [
    "X.shape"
   ]
  },
  {
   "cell_type": "code",
   "execution_count": 11,
   "id": "35a49b70",
   "metadata": {},
   "outputs": [],
   "source": [
    "y = data.target # target variable"
   ]
  },
  {
   "cell_type": "code",
   "execution_count": 12,
   "id": "06625ee8",
   "metadata": {},
   "outputs": [
    {
     "data": {
      "text/plain": [
       "(506,)"
      ]
     },
     "execution_count": 12,
     "metadata": {},
     "output_type": "execute_result"
    }
   ],
   "source": [
    "y.shape"
   ]
  },
  {
   "cell_type": "code",
   "execution_count": 13,
   "id": "ae7b7242",
   "metadata": {},
   "outputs": [],
   "source": [
    "X = pd.DataFrame(data.data, columns=data.feature_names) # za dalji rad nam treba DataFrame\n",
    "y = pd.DataFrame(data.target, columns=['MEDV'])"
   ]
  },
  {
   "cell_type": "code",
   "execution_count": null,
   "id": "218db2db",
   "metadata": {},
   "outputs": [],
   "source": [
    "X.head()"
   ]
  },
  {
   "cell_type": "code",
   "execution_count": null,
   "id": "ca1a768a",
   "metadata": {},
   "outputs": [],
   "source": [
    "y.head()"
   ]
  },
  {
   "cell_type": "code",
   "execution_count": null,
   "id": "e87186c3",
   "metadata": {},
   "outputs": [],
   "source": [
    "X.info() # all float columns and no missing data"
   ]
  },
  {
   "cell_type": "code",
   "execution_count": null,
   "id": "6498484c",
   "metadata": {},
   "outputs": [],
   "source": [
    "X.dtypes # tipovi podataka"
   ]
  },
  {
   "cell_type": "code",
   "execution_count": null,
   "id": "1ba8f75e",
   "metadata": {},
   "outputs": [],
   "source": [
    "X.isna().sum() # nedostajuci podaci"
   ]
  },
  {
   "cell_type": "code",
   "execution_count": null,
   "id": "978a63a0",
   "metadata": {},
   "outputs": [],
   "source": [
    "X.describe() # primetiti da podaci nisu na istim skalama"
   ]
  },
  {
   "cell_type": "code",
   "execution_count": null,
   "id": "1837e156",
   "metadata": {},
   "outputs": [],
   "source": [
    "X.hist(figsize = [15,15]) # feature distribution"
   ]
  },
  {
   "cell_type": "code",
   "execution_count": null,
   "id": "3f8b1863",
   "metadata": {},
   "outputs": [],
   "source": [
    "y.hist() # target distribution"
   ]
  },
  {
   "cell_type": "markdown",
   "id": "cc46f6df",
   "metadata": {},
   "source": [
    "### Priprema za treniranje modela"
   ]
  },
  {
   "cell_type": "markdown",
   "id": "42ec07f5",
   "metadata": {},
   "source": [
    "Praksa: skup za treniranje i skup za testiranje u razmeri 2:1"
   ]
  },
  {
   "cell_type": "code",
   "execution_count": 14,
   "id": "e650ea07",
   "metadata": {},
   "outputs": [],
   "source": [
    "X_train, X_test, y_train, y_test = model_selection.train_test_split(X, y, test_size = 0.33, random_state = 23)"
   ]
  },
  {
   "cell_type": "code",
   "execution_count": 15,
   "id": "5a23fab9",
   "metadata": {},
   "outputs": [],
   "source": [
    "# Standardizacija\n",
    "scaler = preprocessing.StandardScaler()\n",
    "scaler.fit(X_train)\n",
    "X_train_scaled = scaler.transform(X_train)\n",
    "X_test_scaled = scaler.transform(X_test)"
   ]
  },
  {
   "cell_type": "code",
   "execution_count": 16,
   "id": "c9cefe0b",
   "metadata": {},
   "outputs": [],
   "source": [
    "X_train_scaled_df = pd.DataFrame(X_train_scaled)"
   ]
  },
  {
   "cell_type": "code",
   "execution_count": 17,
   "id": "c58de22c",
   "metadata": {
    "scrolled": true
   },
   "outputs": [
    {
     "data": {
      "text/html": [
       "<div>\n",
       "<style scoped>\n",
       "    .dataframe tbody tr th:only-of-type {\n",
       "        vertical-align: middle;\n",
       "    }\n",
       "\n",
       "    .dataframe tbody tr th {\n",
       "        vertical-align: top;\n",
       "    }\n",
       "\n",
       "    .dataframe thead th {\n",
       "        text-align: right;\n",
       "    }\n",
       "</style>\n",
       "<table border=\"1\" class=\"dataframe\">\n",
       "  <thead>\n",
       "    <tr style=\"text-align: right;\">\n",
       "      <th></th>\n",
       "      <th>0</th>\n",
       "      <th>1</th>\n",
       "      <th>2</th>\n",
       "      <th>3</th>\n",
       "      <th>4</th>\n",
       "      <th>5</th>\n",
       "      <th>6</th>\n",
       "      <th>7</th>\n",
       "      <th>8</th>\n",
       "      <th>9</th>\n",
       "      <th>10</th>\n",
       "      <th>11</th>\n",
       "      <th>12</th>\n",
       "    </tr>\n",
       "  </thead>\n",
       "  <tbody>\n",
       "    <tr>\n",
       "      <th>count</th>\n",
       "      <td>3.390000e+02</td>\n",
       "      <td>3.390000e+02</td>\n",
       "      <td>3.390000e+02</td>\n",
       "      <td>3.390000e+02</td>\n",
       "      <td>3.390000e+02</td>\n",
       "      <td>3.390000e+02</td>\n",
       "      <td>3.390000e+02</td>\n",
       "      <td>3.390000e+02</td>\n",
       "      <td>3.390000e+02</td>\n",
       "      <td>3.390000e+02</td>\n",
       "      <td>3.390000e+02</td>\n",
       "      <td>3.390000e+02</td>\n",
       "      <td>3.390000e+02</td>\n",
       "    </tr>\n",
       "    <tr>\n",
       "      <th>mean</th>\n",
       "      <td>2.389108e-16</td>\n",
       "      <td>1.539247e-17</td>\n",
       "      <td>3.878576e-15</td>\n",
       "      <td>-1.296898e-16</td>\n",
       "      <td>-8.106266e-15</td>\n",
       "      <td>-4.977500e-15</td>\n",
       "      <td>1.590337e-15</td>\n",
       "      <td>1.190460e-15</td>\n",
       "      <td>6.910238e-17</td>\n",
       "      <td>-1.316548e-16</td>\n",
       "      <td>2.273206e-14</td>\n",
       "      <td>8.585070e-15</td>\n",
       "      <td>2.006916e-15</td>\n",
       "    </tr>\n",
       "    <tr>\n",
       "      <th>std</th>\n",
       "      <td>1.001478e+00</td>\n",
       "      <td>1.001478e+00</td>\n",
       "      <td>1.001478e+00</td>\n",
       "      <td>1.001478e+00</td>\n",
       "      <td>1.001478e+00</td>\n",
       "      <td>1.001478e+00</td>\n",
       "      <td>1.001478e+00</td>\n",
       "      <td>1.001478e+00</td>\n",
       "      <td>1.001478e+00</td>\n",
       "      <td>1.001478e+00</td>\n",
       "      <td>1.001478e+00</td>\n",
       "      <td>1.001478e+00</td>\n",
       "      <td>1.001478e+00</td>\n",
       "    </tr>\n",
       "    <tr>\n",
       "      <th>min</th>\n",
       "      <td>-4.097890e-01</td>\n",
       "      <td>-5.172441e-01</td>\n",
       "      <td>-1.545737e+00</td>\n",
       "      <td>-3.000536e-01</td>\n",
       "      <td>-1.407974e+00</td>\n",
       "      <td>-4.090984e+00</td>\n",
       "      <td>-2.219129e+00</td>\n",
       "      <td>-1.338652e+00</td>\n",
       "      <td>-9.661187e-01</td>\n",
       "      <td>-1.295779e+00</td>\n",
       "      <td>-2.774650e+00</td>\n",
       "      <td>-3.823485e+00</td>\n",
       "      <td>-1.491176e+00</td>\n",
       "    </tr>\n",
       "    <tr>\n",
       "      <th>25%</th>\n",
       "      <td>-4.015548e-01</td>\n",
       "      <td>-5.172441e-01</td>\n",
       "      <td>-8.498142e-01</td>\n",
       "      <td>-3.000536e-01</td>\n",
       "      <td>-8.911120e-01</td>\n",
       "      <td>-5.921381e-01</td>\n",
       "      <td>-8.506286e-01</td>\n",
       "      <td>-8.421914e-01</td>\n",
       "      <td>-6.143311e-01</td>\n",
       "      <td>-7.533525e-01</td>\n",
       "      <td>-5.153874e-01</td>\n",
       "      <td>2.000196e-01</td>\n",
       "      <td>-7.931914e-01</td>\n",
       "    </tr>\n",
       "    <tr>\n",
       "      <th>50%</th>\n",
       "      <td>-3.838344e-01</td>\n",
       "      <td>-5.172441e-01</td>\n",
       "      <td>-1.877312e-01</td>\n",
       "      <td>-3.000536e-01</td>\n",
       "      <td>-2.105769e-01</td>\n",
       "      <td>-1.049761e-01</td>\n",
       "      <td>2.075622e-01</td>\n",
       "      <td>-2.564001e-01</td>\n",
       "      <td>-4.970686e-01</td>\n",
       "      <td>-4.399504e-01</td>\n",
       "      <td>2.847682e-01</td>\n",
       "      <td>3.703406e-01</td>\n",
       "      <td>-1.643704e-01</td>\n",
       "    </tr>\n",
       "    <tr>\n",
       "      <th>75%</th>\n",
       "      <td>-8.885264e-02</td>\n",
       "      <td>3.091763e-01</td>\n",
       "      <td>1.049628e+00</td>\n",
       "      <td>-3.000536e-01</td>\n",
       "      <td>6.508601e-01</td>\n",
       "      <td>4.949550e-01</td>\n",
       "      <td>9.449835e-01</td>\n",
       "      <td>6.845605e-01</td>\n",
       "      <td>-1.452810e-01</td>\n",
       "      <td>1.585109e+00</td>\n",
       "      <td>8.025160e-01</td>\n",
       "      <td>4.148448e-01</td>\n",
       "      <td>5.604322e-01</td>\n",
       "    </tr>\n",
       "    <tr>\n",
       "      <th>max</th>\n",
       "      <td>8.169537e+00</td>\n",
       "      <td>3.614858e+00</td>\n",
       "      <td>2.467957e+00</td>\n",
       "      <td>3.332738e+00</td>\n",
       "      <td>2.778609e+00</td>\n",
       "      <td>3.181864e+00</td>\n",
       "      <td>1.166384e+00</td>\n",
       "      <td>3.140266e+00</td>\n",
       "      <td>1.730920e+00</td>\n",
       "      <td>1.856322e+00</td>\n",
       "      <td>1.649740e+00</td>\n",
       "      <td>4.211410e-01</td>\n",
       "      <td>3.597263e+00</td>\n",
       "    </tr>\n",
       "  </tbody>\n",
       "</table>\n",
       "</div>"
      ],
      "text/plain": [
       "                 0             1             2             3             4   \\\n",
       "count  3.390000e+02  3.390000e+02  3.390000e+02  3.390000e+02  3.390000e+02   \n",
       "mean   2.389108e-16  1.539247e-17  3.878576e-15 -1.296898e-16 -8.106266e-15   \n",
       "std    1.001478e+00  1.001478e+00  1.001478e+00  1.001478e+00  1.001478e+00   \n",
       "min   -4.097890e-01 -5.172441e-01 -1.545737e+00 -3.000536e-01 -1.407974e+00   \n",
       "25%   -4.015548e-01 -5.172441e-01 -8.498142e-01 -3.000536e-01 -8.911120e-01   \n",
       "50%   -3.838344e-01 -5.172441e-01 -1.877312e-01 -3.000536e-01 -2.105769e-01   \n",
       "75%   -8.885264e-02  3.091763e-01  1.049628e+00 -3.000536e-01  6.508601e-01   \n",
       "max    8.169537e+00  3.614858e+00  2.467957e+00  3.332738e+00  2.778609e+00   \n",
       "\n",
       "                 5             6             7             8             9   \\\n",
       "count  3.390000e+02  3.390000e+02  3.390000e+02  3.390000e+02  3.390000e+02   \n",
       "mean  -4.977500e-15  1.590337e-15  1.190460e-15  6.910238e-17 -1.316548e-16   \n",
       "std    1.001478e+00  1.001478e+00  1.001478e+00  1.001478e+00  1.001478e+00   \n",
       "min   -4.090984e+00 -2.219129e+00 -1.338652e+00 -9.661187e-01 -1.295779e+00   \n",
       "25%   -5.921381e-01 -8.506286e-01 -8.421914e-01 -6.143311e-01 -7.533525e-01   \n",
       "50%   -1.049761e-01  2.075622e-01 -2.564001e-01 -4.970686e-01 -4.399504e-01   \n",
       "75%    4.949550e-01  9.449835e-01  6.845605e-01 -1.452810e-01  1.585109e+00   \n",
       "max    3.181864e+00  1.166384e+00  3.140266e+00  1.730920e+00  1.856322e+00   \n",
       "\n",
       "                 10            11            12  \n",
       "count  3.390000e+02  3.390000e+02  3.390000e+02  \n",
       "mean   2.273206e-14  8.585070e-15  2.006916e-15  \n",
       "std    1.001478e+00  1.001478e+00  1.001478e+00  \n",
       "min   -2.774650e+00 -3.823485e+00 -1.491176e+00  \n",
       "25%   -5.153874e-01  2.000196e-01 -7.931914e-01  \n",
       "50%    2.847682e-01  3.703406e-01 -1.643704e-01  \n",
       "75%    8.025160e-01  4.148448e-01  5.604322e-01  \n",
       "max    1.649740e+00  4.211410e-01  3.597263e+00  "
      ]
     },
     "execution_count": 17,
     "metadata": {},
     "output_type": "execute_result"
    }
   ],
   "source": [
    "X_train_scaled_df.describe()"
   ]
  },
  {
   "cell_type": "markdown",
   "id": "88cbdf2f",
   "metadata": {},
   "source": [
    "### Treniranje modela"
   ]
  },
  {
   "cell_type": "code",
   "execution_count": 18,
   "id": "d909f516",
   "metadata": {},
   "outputs": [],
   "source": [
    "model = linear_model.LinearRegression()"
   ]
  },
  {
   "cell_type": "code",
   "execution_count": 19,
   "id": "2233a427",
   "metadata": {},
   "outputs": [
    {
     "data": {
      "text/plain": [
       "LinearRegression()"
      ]
     },
     "execution_count": 19,
     "metadata": {},
     "output_type": "execute_result"
    }
   ],
   "source": [
    "model.fit(X_train_scaled, y_train)"
   ]
  },
  {
   "cell_type": "code",
   "execution_count": 20,
   "id": "12c5552a",
   "metadata": {},
   "outputs": [
    {
     "data": {
      "text/plain": [
       "(array([[-0.75625033,  1.04585969, -0.07764512,  0.90888155, -1.93203595,\n",
       "          2.87034842,  0.02231398, -2.97257179,  2.38753199, -1.40846086,\n",
       "         -1.77263078,  1.42304907, -3.85542219]]),\n",
       " array([22.66843658]))"
      ]
     },
     "execution_count": 20,
     "metadata": {},
     "output_type": "execute_result"
    }
   ],
   "source": [
    "model.coef_, model.intercept_"
   ]
  },
  {
   "cell_type": "code",
   "execution_count": null,
   "id": "6d24bfde",
   "metadata": {},
   "outputs": [],
   "source": [
    "for feature, coef in zip(data.feature_names, model.coef_.ravel()):\n",
    "    print (feature, coef)"
   ]
  },
  {
   "cell_type": "code",
   "execution_count": null,
   "id": "0625b1e8",
   "metadata": {},
   "outputs": [],
   "source": [
    "model.intercept_"
   ]
  },
  {
   "cell_type": "code",
   "execution_count": null,
   "id": "09fded88",
   "metadata": {},
   "outputs": [],
   "source": [
    "eq = f'{model.intercept_[0]}'\n",
    "for feature, coef in zip(data.feature_names, model.coef_.ravel()):\n",
    "    eq = f'{coef}*{feature} + ' + eq\n",
    "print('Jednacina modela: \\n', eq)"
   ]
  },
  {
   "cell_type": "markdown",
   "id": "86fac532",
   "metadata": {},
   "source": [
    "### Evaluacija modela"
   ]
  },
  {
   "cell_type": "code",
   "execution_count": 21,
   "id": "a675d14b",
   "metadata": {},
   "outputs": [],
   "source": [
    "y_predicted = model.predict(X_test_scaled)"
   ]
  },
  {
   "cell_type": "code",
   "execution_count": 22,
   "id": "515c547e",
   "metadata": {},
   "outputs": [
    {
     "data": {
      "text/plain": [
       "24.554333387831328"
      ]
     },
     "execution_count": 22,
     "metadata": {},
     "output_type": "execute_result"
    }
   ],
   "source": [
    "metrics.mean_squared_error(y_predicted, y_test)"
   ]
  },
  {
   "cell_type": "code",
   "execution_count": 23,
   "id": "ccb9cb71",
   "metadata": {},
   "outputs": [
    {
     "data": {
      "text/plain": [
       "0.695804677539376"
      ]
     },
     "execution_count": 23,
     "metadata": {},
     "output_type": "execute_result"
    }
   ],
   "source": [
    "model.score(X_test_scaled, y_test)"
   ]
  },
  {
   "cell_type": "markdown",
   "id": "313d760b",
   "metadata": {},
   "source": [
    "### Analiza atributa"
   ]
  },
  {
   "cell_type": "code",
   "execution_count": null,
   "id": "ad2d22a1",
   "metadata": {},
   "outputs": [],
   "source": [
    "X.corr() # correlation matrix"
   ]
  },
  {
   "cell_type": "code",
   "execution_count": null,
   "id": "a023e3b4",
   "metadata": {},
   "outputs": [],
   "source": [
    "X.corr().style.background_gradient(cmap='coolwarm')"
   ]
  },
  {
   "cell_type": "code",
   "execution_count": null,
   "id": "45931d73",
   "metadata": {},
   "outputs": [],
   "source": [
    "# TAX & RAD visoko korelisani, takodje znacajno DIS i INDUS"
   ]
  },
  {
   "cell_type": "code",
   "execution_count": null,
   "id": "cc456a47",
   "metadata": {},
   "outputs": [],
   "source": [
    "X.corr().loc['RAD']['TAX']"
   ]
  },
  {
   "cell_type": "code",
   "execution_count": null,
   "id": "f449d79e",
   "metadata": {},
   "outputs": [],
   "source": [
    "# koliko nam je svaki atribut znacajan za predikciju?"
   ]
  },
  {
   "cell_type": "code",
   "execution_count": 24,
   "id": "56cf17bf",
   "metadata": {},
   "outputs": [
    {
     "name": "stdout",
     "output_type": "stream",
     "text": [
      "CRIM -0.3883046085868113\n",
      "ZN 0.36044534245054277\n",
      "INDUS -0.4837251600283727\n",
      "CHAS 0.17526017719029854\n",
      "NOX -0.42732077237328264\n",
      "RM 0.6953599470715395\n",
      "AGE -0.3769545650045963\n",
      "DIS 0.24992873408590388\n",
      "RAD -0.38162623063977763\n",
      "TAX -0.468535933567767\n",
      "PTRATIO -0.5077866855375617\n",
      "B 0.33346081965706653\n",
      "LSTAT -0.7376627261740147\n"
     ]
    }
   ],
   "source": [
    "corrcoefs = []\n",
    "for feature in data.feature_names: \n",
    "    corrcoef = np.corrcoef(X[feature].values, y.MEDV)[0, 1] # calculate correlation between feature and target variable\n",
    "    corrcoefs.append(corrcoef)\n",
    "    print(feature, corrcoef)"
   ]
  },
  {
   "cell_type": "code",
   "execution_count": null,
   "id": "54ebb631",
   "metadata": {},
   "outputs": [],
   "source": [
    "corrcoefs"
   ]
  },
  {
   "cell_type": "code",
   "execution_count": null,
   "id": "94a8c46b",
   "metadata": {},
   "outputs": [],
   "source": [
    "# RM i LSTAT deluju kao veoma jaki prediktori"
   ]
  },
  {
   "cell_type": "code",
   "execution_count": 26,
   "id": "e38c6c80",
   "metadata": {},
   "outputs": [],
   "source": [
    "corrcoefs = pd.Series(corrcoefs, index=data.feature_names).sort_values()"
   ]
  },
  {
   "cell_type": "code",
   "execution_count": 27,
   "id": "f38f6dd8",
   "metadata": {},
   "outputs": [
    {
     "data": {
      "text/plain": [
       "LSTAT     -0.737663\n",
       "PTRATIO   -0.507787\n",
       "INDUS     -0.483725\n",
       "TAX       -0.468536\n",
       "NOX       -0.427321\n",
       "CRIM      -0.388305\n",
       "RAD       -0.381626\n",
       "AGE       -0.376955\n",
       "CHAS       0.175260\n",
       "DIS        0.249929\n",
       "B          0.333461\n",
       "ZN         0.360445\n",
       "RM         0.695360\n",
       "dtype: float64"
      ]
     },
     "execution_count": 27,
     "metadata": {},
     "output_type": "execute_result"
    }
   ],
   "source": [
    "corrcoefs"
   ]
  },
  {
   "cell_type": "code",
   "execution_count": 30,
   "id": "30a461a5",
   "metadata": {},
   "outputs": [
    {
     "data": {
      "text/plain": [
       "[]"
      ]
     },
     "execution_count": 30,
     "metadata": {},
     "output_type": "execute_result"
    },
    {
     "data": {
      "image/png": "[encoded data removed]",
      "text/plain": [
       "<Figure size 432x288 with 1 Axes>"
      ]
     },
     "metadata": {
      "needs_background": "light"
     },
     "output_type": "display_data"
    }
   ],
   "source": [
    "corrcoefs.plot(kind=\"barh\", color='orange')\n",
    "\n",
    "plt.title(\"Korelacija sa ciljnom promenljivom y\")\n",
    "plt.ylabel('Atribut')\n",
    "plt.xlabel('Koeficijent korelacije')\n",
    "plt.yticks(np.arange(number_of_features),\n",
    "           list(corrcoefs.index))\n",
    "plt.plot()"
   ]
  },
  {
   "cell_type": "code",
   "execution_count": null,
   "id": "1f5a09b2",
   "metadata": {},
   "outputs": [],
   "source": [
    "corrcoefs[np.abs(corrcoefs)>0.33]"
   ]
  },
  {
   "cell_type": "code",
   "execution_count": null,
   "id": "146e6700",
   "metadata": {},
   "outputs": [],
   "source": [
    "X_subset = X[['RM', 'ZN', 'B', 'AGE', 'CRIM', 'TAX', 'NOX', 'INDUS', 'PTRATIO', 'LSTAT']]"
   ]
  },
  {
   "cell_type": "code",
   "execution_count": null,
   "id": "3e3c62dc",
   "metadata": {},
   "outputs": [],
   "source": [
    "X_subset.shape"
   ]
  },
  {
   "cell_type": "code",
   "execution_count": null,
   "id": "09efd9c1",
   "metadata": {},
   "outputs": [],
   "source": [
    "X_subset.corr()"
   ]
  },
  {
   "cell_type": "markdown",
   "id": "41024206",
   "metadata": {},
   "source": [
    "### Novi model"
   ]
  },
  {
   "cell_type": "code",
   "execution_count": null,
   "id": "b5f9d4bd",
   "metadata": {},
   "outputs": [],
   "source": [
    "X_train, X_test, y_train, y_test = model_selection.train_test_split(X_subset, y, test_size = 0.33, random_state = 42)"
   ]
  },
  {
   "cell_type": "code",
   "execution_count": null,
   "id": "e3c0ce9f",
   "metadata": {},
   "outputs": [],
   "source": [
    "scaler = preprocessing.StandardScaler()\n",
    "scaler.fit(X_train)\n",
    "X_train_scaled = scaler.transform(X_train)\n",
    "X_test_scaled = scaler.transform(X_test)"
   ]
  },
  {
   "cell_type": "code",
   "execution_count": null,
   "id": "4ff82a03",
   "metadata": {},
   "outputs": [],
   "source": [
    "model = linear_model.LinearRegression()"
   ]
  },
  {
   "cell_type": "code",
   "execution_count": null,
   "id": "9f6836b8",
   "metadata": {},
   "outputs": [],
   "source": [
    "model.fit(X_train_scaled, y_train)"
   ]
  },
  {
   "cell_type": "code",
   "execution_count": null,
   "id": "04c1ce99",
   "metadata": {},
   "outputs": [],
   "source": [
    "for feature, coef in zip(X_subset.columns, model.coef_.ravel()):\n",
    "    print (feature, coef)"
   ]
  },
  {
   "cell_type": "code",
   "execution_count": null,
   "id": "7e634d1d",
   "metadata": {},
   "outputs": [],
   "source": [
    "model.intercept_"
   ]
  },
  {
   "cell_type": "code",
   "execution_count": null,
   "id": "5ce5124e",
   "metadata": {},
   "outputs": [],
   "source": [
    "y_predicted = model.predict(X_test_scaled)"
   ]
  },
  {
   "cell_type": "code",
   "execution_count": null,
   "id": "f40b3bd6",
   "metadata": {},
   "outputs": [],
   "source": [
    "metrics.mean_squared_error(y_predicted, y_test)"
   ]
  },
  {
   "cell_type": "code",
   "execution_count": null,
   "id": "8099b40b",
   "metadata": {},
   "outputs": [],
   "source": [
    "model.score(X_test_scaled, y_test) "
   ]
  },
  {
   "cell_type": "markdown",
   "id": "6ee9bbe8",
   "metadata": {},
   "source": [
    "### Cuvanje modela"
   ]
  },
  {
   "cell_type": "code",
   "execution_count": null,
   "id": "15b2ac5b",
   "metadata": {},
   "outputs": [],
   "source": [
    "import pickle"
   ]
  },
  {
   "cell_type": "code",
   "execution_count": null,
   "id": "fe9f6b42",
   "metadata": {},
   "outputs": [],
   "source": [
    "model_filename = 'boston_houses.model'"
   ]
  },
  {
   "cell_type": "code",
   "execution_count": null,
   "id": "154b4156",
   "metadata": {},
   "outputs": [],
   "source": [
    "with open(model_filename, 'wb') as pickle_file:\n",
    "    pickle.dump(model, pickle_file)"
   ]
  },
  {
   "cell_type": "code",
   "execution_count": null,
   "id": "4dbd12e2",
   "metadata": {},
   "outputs": [],
   "source": [
    "scaler_filename = 'boston_houses.scaler'"
   ]
  },
  {
   "cell_type": "code",
   "execution_count": null,
   "id": "bf967ada",
   "metadata": {},
   "outputs": [],
   "source": [
    "with open(scaler_filename, 'wb') as pickle_file:\n",
    "    pickle.dump(scaler, pickle_file)"
   ]
  },
  {
   "cell_type": "markdown",
   "id": "03239d47",
   "metadata": {},
   "source": [
    "### Ponovno koriscenje"
   ]
  },
  {
   "cell_type": "code",
   "execution_count": null,
   "id": "3e758735",
   "metadata": {},
   "outputs": [],
   "source": [
    "with open(model_filename, 'rb') as pickle_file:\n",
    "    model_load = pickle.load(pickle_file)"
   ]
  },
  {
   "cell_type": "code",
   "execution_count": null,
   "id": "882acdeb",
   "metadata": {},
   "outputs": [],
   "source": [
    "with open(scaler_filename, 'rb') as pickle_file:\n",
    "    scaler_load = pickle.load(pickle_file)"
   ]
  },
  {
   "cell_type": "markdown",
   "id": "3943ce2f",
   "metadata": {},
   "source": [
    "## Rekurzivna eliminacija atributa"
   ]
  },
  {
   "cell_type": "markdown",
   "id": "7c61e568",
   "metadata": {},
   "source": [
    "Rekurzivna elminacija atributa (engl. Recursive Feature Elimination, RFE) je rekurzivna tehnika kojom se u svakom koraku eliminise  najmanje vazan atribut na osnovu njihove izracunate vaznosti.  "
   ]
  },
  {
   "cell_type": "code",
   "execution_count": null,
   "id": "c45bfd9c",
   "metadata": {},
   "outputs": [],
   "source": [
    "from sklearn import feature_selection"
   ]
  },
  {
   "cell_type": "code",
   "execution_count": null,
   "id": "557c9d4d",
   "metadata": {},
   "outputs": [],
   "source": [
    "X_train, X_test, y_train, y_test = model_selection.train_test_split(X, y, test_size = 0.33, random_state = 7)"
   ]
  },
  {
   "cell_type": "code",
   "execution_count": null,
   "id": "6e44e8d7",
   "metadata": {},
   "outputs": [],
   "source": [
    "scaler = preprocessing.StandardScaler()\n",
    "scaler.fit(X_train)\n",
    "X_train_scaled = scaler.transform(X_train)\n",
    "X_test_scaled = scaler.transform(X_test)"
   ]
  },
  {
   "cell_type": "code",
   "execution_count": null,
   "id": "ad276bb5",
   "metadata": {},
   "outputs": [],
   "source": [
    "model = linear_model.LinearRegression()"
   ]
  },
  {
   "cell_type": "code",
   "execution_count": null,
   "id": "32d73355",
   "metadata": {},
   "outputs": [],
   "source": [
    "rfe = feature_selection.RFE(model, n_features_to_select=10, verbose=1) \n",
    "# n_features_to_select je broj atributa koje treba izabrati"
   ]
  },
  {
   "cell_type": "code",
   "execution_count": null,
   "id": "12ed1552",
   "metadata": {},
   "outputs": [],
   "source": [
    "rfe.fit(X_train_scaled, y_train)"
   ]
  },
  {
   "cell_type": "code",
   "execution_count": null,
   "id": "a795a12c",
   "metadata": {},
   "outputs": [],
   "source": [
    "rfe.support_"
   ]
  },
  {
   "cell_type": "code",
   "execution_count": null,
   "id": "3a855c46",
   "metadata": {},
   "outputs": [],
   "source": [
    "data.feature_names[rfe.support_]"
   ]
  },
  {
   "cell_type": "code",
   "execution_count": null,
   "id": "a7b2310d",
   "metadata": {},
   "outputs": [],
   "source": [
    "data.feature_names[~rfe.support_]"
   ]
  },
  {
   "cell_type": "code",
   "execution_count": null,
   "id": "a999f0b8",
   "metadata": {},
   "outputs": [],
   "source": [
    "X_train_rfe = rfe.transform(X_train_scaled)\n",
    "X_test_rfe = rfe.transform(X_test_scaled)"
   ]
  },
  {
   "cell_type": "code",
   "execution_count": null,
   "id": "a27af6d1",
   "metadata": {},
   "outputs": [],
   "source": [
    "X_train_rfe.shape # modifikovani skup atributa"
   ]
  },
  {
   "cell_type": "code",
   "execution_count": null,
   "id": "a8450876",
   "metadata": {},
   "outputs": [],
   "source": [
    "# Novi model\n",
    "model.fit(X_train_rfe, y_train)"
   ]
  },
  {
   "cell_type": "code",
   "execution_count": null,
   "id": "98145636",
   "metadata": {},
   "outputs": [],
   "source": [
    "model.score(X_test_rfe, y_test)"
   ]
  },
  {
   "cell_type": "code",
   "execution_count": null,
   "id": "1be11f1c",
   "metadata": {},
   "outputs": [],
   "source": []
  }
 ],
 "metadata": {
  "kernelspec": {
   "display_name": "Python 3 (ipykernel)",
   "language": "python",
   "name": "python3"
  },
  "language_info": {
   "codemirror_mode": {
    "name": "ipython",
    "version": 3
   },
   "file_extension": ".py",
   "mimetype": "text/x-python",
   "name": "python",
   "nbconvert_exporter": "python",
   "pygments_lexer": "ipython3",
   "version": "3.9.7"
  }
 },
 "nbformat": 4,
 "nbformat_minor": 5
}

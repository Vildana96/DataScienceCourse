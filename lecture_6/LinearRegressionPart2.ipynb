{
 "cells": [
  {
   "cell_type": "code",
   "execution_count": null,
   "id": "ae3fd886",
   "metadata": {},
   "outputs": [],
   "source": [
    "import numpy as np\n",
    "from matplotlib import pyplot as plt\n",
    "import pandas as pd\n",
    "from sklearn import linear_model"
   ]
  },
  {
   "cell_type": "code",
   "execution_count": null,
   "id": "8987ac70",
   "metadata": {},
   "outputs": [],
   "source": [
    "np.random.seed(23)"
   ]
  },
  {
   "cell_type": "markdown",
   "id": "4e2eaf89",
   "metadata": {},
   "source": [
    "### Hetereskedasticnost\n",
    "Heteroskedasticnost je pojava koja opisuje porast varijanse ciljne promenljive sa porastom vrednosti atributa."
   ]
  },
  {
   "cell_type": "markdown",
   "id": "e0dfd03e",
   "metadata": {},
   "source": [
    "<img src='heteroscedasticity.jpg'>"
   ]
  },
  {
   "cell_type": "markdown",
   "id": "94d510e4",
   "metadata": {},
   "source": [
    "Osnovna pretpostavka u modelovanju linearnom regresijom je da je varijansa ciljne promenljive konstantna tj. da je skup podataka sa kojim se radi **homoskedastican**:"
   ]
  },
  {
   "cell_type": "markdown",
   "id": "b9a95211",
   "metadata": {},
   "source": [
    "<img src='homoscedasticity.png'>"
   ]
  },
  {
   "cell_type": "code",
   "execution_count": null,
   "id": "2bf94b4c",
   "metadata": {},
   "outputs": [],
   "source": [
    "N = 200"
   ]
  },
  {
   "cell_type": "code",
   "execution_count": null,
   "id": "ec7f9e29",
   "metadata": {},
   "outputs": [],
   "source": [
    "x = np.random.normal(0, 9, N) \n",
    "noise = np.random.normal(0, 1+0.5*x**2, N) # kvadratni rast varijanse"
   ]
  },
  {
   "cell_type": "markdown",
   "id": "c33a6aa0",
   "metadata": {},
   "source": [
    "Ciljna promenljiva: $y=3-2x$ uz dodatak suma"
   ]
  },
  {
   "cell_type": "code",
   "execution_count": null,
   "id": "02ad10ad",
   "metadata": {},
   "outputs": [],
   "source": [
    "y = 3 - 2*x + noise"
   ]
  },
  {
   "cell_type": "code",
   "execution_count": null,
   "id": "97003f02",
   "metadata": {},
   "outputs": [],
   "source": [
    "plt.scatter(x, y)"
   ]
  },
  {
   "cell_type": "code",
   "execution_count": null,
   "id": "e7fd5df2",
   "metadata": {},
   "outputs": [],
   "source": [
    "model = linear_model.LinearRegression()\n",
    "model.fit(x.reshape(-1, 1), y)"
   ]
  },
  {
   "cell_type": "code",
   "execution_count": null,
   "id": "a76a6427",
   "metadata": {},
   "outputs": [],
   "source": [
    "b0 = model.intercept_\n",
    "b1 = model.coef_[0]"
   ]
  },
  {
   "cell_type": "code",
   "execution_count": null,
   "id": "c91c54fe",
   "metadata": {},
   "outputs": [],
   "source": [
    "b0, b1"
   ]
  },
  {
   "cell_type": "code",
   "execution_count": null,
   "id": "153716eb",
   "metadata": {},
   "outputs": [],
   "source": [
    "y_model = model.predict(x.reshape(-1, 1))"
   ]
  },
  {
   "cell_type": "code",
   "execution_count": null,
   "id": "9f6317cf",
   "metadata": {},
   "outputs": [],
   "source": [
    "plt.figure(figsize=(10,6))\n",
    "plt.plot(x, y, 'o', color = 'orange')\n",
    "plt.plot(x, 3-2*x, color = 'green', label='Stvarni podaci')\n",
    "plt.plot(x, y_model, color = 'blue', label='Predikcija')\n",
    "# plt.plot(x, b0+b1*x, color = 'blue', label='Predikcija')\n",
    "plt.legend(loc='best')\n",
    "plt.show()"
   ]
  },
  {
   "cell_type": "markdown",
   "id": "ab8ddcb3",
   "metadata": {},
   "source": [
    "### Reziduali"
   ]
  },
  {
   "cell_type": "code",
   "execution_count": null,
   "id": "6cea6765",
   "metadata": {},
   "outputs": [],
   "source": [
    "residuals = y-y_model"
   ]
  },
  {
   "cell_type": "code",
   "execution_count": null,
   "id": "73c0600e",
   "metadata": {},
   "outputs": [],
   "source": [
    "plt.scatter(x, residuals)\n",
    "plt.title('Grafik reziduala')\n",
    "plt.show()"
   ]
  },
  {
   "cell_type": "markdown",
   "id": "a3c06c72",
   "metadata": {},
   "source": [
    "### Linearni model sa tezinama"
   ]
  },
  {
   "cell_type": "markdown",
   "id": "f523058c",
   "metadata": {},
   "source": [
    "**Instancama** kod kojih je varijansa mala dajemo vece tezine kako bi model bio sigurniji, a instancama kod kojih je varijansa velika dajemo manje tezine."
   ]
  },
  {
   "cell_type": "markdown",
   "id": "70e3ec9f",
   "metadata": {},
   "source": [
    "Umesto kvadratne sume reziduala minimizuje se njihova ponderisana suma: $$L(\\beta, \\omega) = \\sum_{i=1}^{N}\\omega_i(y_i-x_i\\beta)^2$$ "
   ]
  },
  {
   "cell_type": "code",
   "execution_count": null,
   "id": "6ca71a03",
   "metadata": {},
   "outputs": [],
   "source": [
    "improved_model = linear_model.LinearRegression()"
   ]
  },
  {
   "cell_type": "markdown",
   "id": "1a09b86e",
   "metadata": {},
   "source": [
    "Tezina svake instance je reciprocna vrednosti varijanse u toj tacki: $w_i = \\frac{1}{\\sigma_i^2}$."
   ]
  },
  {
   "cell_type": "code",
   "execution_count": null,
   "id": "199c5080",
   "metadata": {},
   "outputs": [],
   "source": [
    "weights=1/(1+0.5*x**2)"
   ]
  },
  {
   "cell_type": "code",
   "execution_count": null,
   "id": "e0fe3b5e",
   "metadata": {},
   "outputs": [],
   "source": [
    "# problem: odrediti tezine"
   ]
  },
  {
   "cell_type": "code",
   "execution_count": null,
   "id": "cd7410c8",
   "metadata": {},
   "outputs": [],
   "source": [
    "improved_model.fit(x.reshape(-1,1) , y, sample_weight=weights) # tezine idu u argument sample_weights"
   ]
  },
  {
   "cell_type": "code",
   "execution_count": null,
   "id": "397bcf31",
   "metadata": {},
   "outputs": [],
   "source": [
    "b0_improved = improved_model.intercept_\n",
    "b1_improved = improved_model.coef_[0]"
   ]
  },
  {
   "cell_type": "code",
   "execution_count": null,
   "id": "c385639c",
   "metadata": {},
   "outputs": [],
   "source": [
    "b0_improved, b1_improved"
   ]
  },
  {
   "cell_type": "code",
   "execution_count": null,
   "id": "20dcc9d1",
   "metadata": {},
   "outputs": [],
   "source": [
    "y_improved_model = improved_model.predict(x.reshape(-1, 1))"
   ]
  },
  {
   "cell_type": "code",
   "execution_count": null,
   "id": "b900eb97",
   "metadata": {},
   "outputs": [],
   "source": [
    "plt.figure(figsize=(10,6))\n",
    "\n",
    "plt.plot(x, y, 'o', color = 'orange')\n",
    "plt.plot(x, 3-2*x, color = 'green', label='Stvarni podaci')\n",
    "plt.plot(x, y_model, color = 'blue', label='Model')\n",
    "plt.plot(x, y_improved_model, color = 'red', label='Improved model')\n",
    "\n",
    "plt.legend(loc='best')\n",
    "plt.show()"
   ]
  },
  {
   "cell_type": "markdown",
   "id": "d23a8db1",
   "metadata": {},
   "source": [
    "### Polinomi i interakcije"
   ]
  },
  {
   "cell_type": "markdown",
   "id": "c5be06fc",
   "metadata": {},
   "source": [
    "Ciljna promenljiva: $y$ koja je oblika $$y = \\beta_0 + \\beta_1X + \\beta_2X^2 + \\ldots + \\beta_mX^m$$ "
   ]
  },
  {
   "cell_type": "code",
   "execution_count": null,
   "id": "58731fe4",
   "metadata": {},
   "outputs": [],
   "source": [
    "x = np.linspace(-3, 3, N)\n",
    "y = 2 + x**2 + np.random.normal(0, 1, N)\n",
    "plt.scatter(x, y)\n",
    "plt.show()"
   ]
  },
  {
   "cell_type": "code",
   "execution_count": null,
   "id": "b27daa26",
   "metadata": {},
   "outputs": [],
   "source": [
    "from sklearn.preprocessing import PolynomialFeatures"
   ]
  },
  {
   "cell_type": "markdown",
   "id": "86652886",
   "metadata": {},
   "source": [
    "Pravimo zavisnost do drugog stepena: $$y = \\beta_0 + \\beta_1x + \\beta_2x^2$$"
   ]
  },
  {
   "cell_type": "code",
   "execution_count": null,
   "id": "4223749f",
   "metadata": {},
   "outputs": [],
   "source": [
    "poly = PolynomialFeatures(degree=2, include_bias=False) # set to False because linear regression will take care of that"
   ]
  },
  {
   "cell_type": "code",
   "execution_count": null,
   "id": "6296ef89",
   "metadata": {},
   "outputs": [],
   "source": [
    "poly"
   ]
  },
  {
   "cell_type": "code",
   "execution_count": null,
   "id": "7c951dc0",
   "metadata": {},
   "outputs": [],
   "source": [
    "poly.fit(x.reshape(-1, 1))"
   ]
  },
  {
   "cell_type": "code",
   "execution_count": null,
   "id": "d9537e66",
   "metadata": {},
   "outputs": [],
   "source": [
    "poly_features = poly.transform(x.reshape(-1, 1))"
   ]
  },
  {
   "cell_type": "code",
   "execution_count": null,
   "id": "434b4356",
   "metadata": {},
   "outputs": [],
   "source": [
    "poly_features"
   ]
  },
  {
   "cell_type": "code",
   "execution_count": null,
   "id": "59f105db",
   "metadata": {},
   "outputs": [],
   "source": [
    "poly_model = linear_model.LinearRegression()"
   ]
  },
  {
   "cell_type": "code",
   "execution_count": null,
   "id": "7b99401c",
   "metadata": {},
   "outputs": [],
   "source": [
    "poly_model.fit(poly_features, y)"
   ]
  },
  {
   "cell_type": "code",
   "execution_count": null,
   "id": "2f42b05a",
   "metadata": {},
   "outputs": [],
   "source": [
    "y_predicted = poly_model.predict(poly_features)"
   ]
  },
  {
   "cell_type": "code",
   "execution_count": null,
   "id": "1bb56c6d",
   "metadata": {},
   "outputs": [],
   "source": [
    "plt.figure(figsize=(10,6))\n",
    "plt.scatter(x, y)\n",
    "plt.scatter(x, y_predicted, c=\"red\")\n",
    "plt.show()"
   ]
  },
  {
   "cell_type": "code",
   "execution_count": null,
   "id": "46d9cad6",
   "metadata": {},
   "outputs": [],
   "source": [
    "# problem: odrediti stepen u jednacini zavisnosti (pazi na overfit)"
   ]
  },
  {
   "cell_type": "code",
   "execution_count": null,
   "id": "ad8ccf36",
   "metadata": {},
   "outputs": [],
   "source": [
    "x1 = np.linspace(-3, 3, N) * np.random.normal(1,0.1,N)\n",
    "x2 = np.linspace(-3, 3, N) * np.random.normal(1,0.1,N)"
   ]
  },
  {
   "cell_type": "code",
   "execution_count": null,
   "id": "ae80d569",
   "metadata": {},
   "outputs": [],
   "source": [
    "# pravimo interakcije izmedju atributa tako da dobijemo nove [x1,x2,x1*x2]"
   ]
  },
  {
   "cell_type": "code",
   "execution_count": null,
   "id": "2546b438",
   "metadata": {},
   "outputs": [],
   "source": [
    "X = np.transpose(np.vstack([x1, x2])) "
   ]
  },
  {
   "cell_type": "code",
   "execution_count": null,
   "id": "f4c0450d",
   "metadata": {},
   "outputs": [],
   "source": [
    "X.shape"
   ]
  },
  {
   "cell_type": "code",
   "execution_count": null,
   "id": "de4a97fb",
   "metadata": {},
   "outputs": [],
   "source": [
    "poly = PolynomialFeatures(interaction_only=True,include_bias = False)\n",
    "poly.fit_transform(X)"
   ]
  },
  {
   "cell_type": "code",
   "execution_count": null,
   "id": "861e9edb",
   "metadata": {},
   "outputs": [],
   "source": [
    "poly.fit_transform(X).shape"
   ]
  },
  {
   "cell_type": "markdown",
   "id": "765a89fc",
   "metadata": {},
   "source": [
    "### Napomena: sve je analogno za slucaj linearne regresije sa proizvoljnim brojem atributa!"
   ]
  },
  {
   "cell_type": "code",
   "execution_count": null,
   "id": "7b87657e",
   "metadata": {},
   "outputs": [],
   "source": []
  }
 ],
 "metadata": {
  "kernelspec": {
   "display_name": "Python 3 (ipykernel)",
   "language": "python",
   "name": "python3"
  },
  "language_info": {
   "codemirror_mode": {
    "name": "ipython",
    "version": 3
   },
   "file_extension": ".py",
   "mimetype": "text/x-python",
   "name": "python",
   "nbconvert_exporter": "python",
   "pygments_lexer": "ipython3",
   "version": "3.9.7"
  }
 },
 "nbformat": 4,
 "nbformat_minor": 5
}

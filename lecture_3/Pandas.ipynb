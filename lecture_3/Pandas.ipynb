{
 "cells": [
  {
   "cell_type": "markdown",
   "id": "66531ae9",
   "metadata": {},
   "source": [
    "## Pandas"
   ]
  },
  {
   "cell_type": "markdown",
   "id": "6802f31c",
   "metadata": {},
   "source": [
    "### Works with data and performs data analysis"
   ]
  },
  {
   "cell_type": "markdown",
   "id": "4f1532a1",
   "metadata": {},
   "source": [
    "[Koristan tutorijal](https://pandas.pydata.org/pandas-docs/dev/user_guide/index.html)"
   ]
  },
  {
   "cell_type": "markdown",
   "id": "7b916be3",
   "metadata": {},
   "source": [
    "![alt text](pandas.jpeg)"
   ]
  },
  {
   "cell_type": "code",
   "execution_count": null,
   "id": "83f485b3",
   "metadata": {},
   "outputs": [],
   "source": [
    "import pandas as pd"
   ]
  },
  {
   "cell_type": "code",
   "execution_count": null,
   "id": "80dbf640",
   "metadata": {},
   "outputs": [],
   "source": [
    "import numpy as np"
   ]
  },
  {
   "cell_type": "markdown",
   "id": "6c0d8995",
   "metadata": {},
   "source": [
    "### Read and write"
   ]
  },
  {
   "cell_type": "code",
   "execution_count": null,
   "id": "0635e199",
   "metadata": {},
   "outputs": [],
   "source": [
    "pd.read_csv('points.csv')"
   ]
  },
  {
   "cell_type": "code",
   "execution_count": null,
   "id": "b86cbac0",
   "metadata": {},
   "outputs": [],
   "source": [
    "pd.DataFrame({'kolona_1': ['Ovo je prva lekcija na Data Science kursu']}).to_csv('upisi.csv')"
   ]
  },
  {
   "cell_type": "markdown",
   "id": "118f7b85",
   "metadata": {},
   "source": [
    "![alt text](pd_read.png)"
   ]
  },
  {
   "cell_type": "markdown",
   "id": "0bad65bd",
   "metadata": {},
   "source": [
    "### Main Pandas structures are:    **Series** & **DataFrames**"
   ]
  },
  {
   "cell_type": "markdown",
   "id": "6f97a72f",
   "metadata": {},
   "source": [
    "The Series is the data structure for a single column of a DataFrame, not only conceptually, but literally, i.e. the data in a DataFrame is actually stored in memory as a collection of Series."
   ]
  },
  {
   "cell_type": "markdown",
   "id": "84d7f978",
   "metadata": {},
   "source": [
    "![alt text](series.png)"
   ]
  },
  {
   "cell_type": "markdown",
   "id": "83f6da34",
   "metadata": {},
   "source": [
    "### Series"
   ]
  },
  {
   "cell_type": "markdown",
   "id": "2de48400",
   "metadata": {},
   "source": [
    "One-dimensional array with axis labels (index)."
   ]
  },
  {
   "cell_type": "code",
   "execution_count": null,
   "id": "565657ba",
   "metadata": {
    "colab": {
     "base_uri": "https://localhost:8080/"
    },
    "id": "xq35JPUduFeG",
    "outputId": "1264f3e2-8572-4c8b-9349-61a0e4a449c1"
   },
   "outputs": [],
   "source": [
    "s = pd.Series([2, 3, 4, 53, -3, 12])\n",
    "print(s)"
   ]
  },
  {
   "cell_type": "code",
   "execution_count": null,
   "id": "2db32c5a",
   "metadata": {
    "colab": {
     "base_uri": "https://localhost:8080/"
    },
    "id": "ruJBAqM6uXQj",
    "outputId": "8f3047ca-5bdd-4dc8-fa6d-83839e03477d"
   },
   "outputs": [],
   "source": [
    "print('Values: {}'.format(s.values))\n",
    "print('Index: {}'.format(s.index))"
   ]
  },
  {
   "cell_type": "code",
   "execution_count": null,
   "id": "b82a6563",
   "metadata": {
    "colab": {
     "base_uri": "https://localhost:8080/"
    },
    "id": "SQqxEKMfucrk",
    "outputId": "a3d21ec6-8005-4064-ec3f-77f6469468a2"
   },
   "outputs": [],
   "source": [
    "#Our index\n",
    "s = pd.Series([2, 3, 5, 7, 12], index = ['a','b','c', 'd', 'e'])\n",
    "print(s)"
   ]
  },
  {
   "cell_type": "code",
   "execution_count": null,
   "id": "20783b89",
   "metadata": {
    "colab": {
     "base_uri": "https://localhost:8080/"
    },
    "id": "bPMro3JhwXo3",
    "outputId": "fd8785f1-3b4a-4acc-88ab-037e1fe829d8"
   },
   "outputs": [],
   "source": [
    "# Create series using dictionary (more common way for DataFrame)\n",
    "data = {'a' : 0., 'b' : 1., 'c' : 2.}\n",
    "s = pd.Series(data)\n",
    "print(s)"
   ]
  },
  {
   "cell_type": "code",
   "execution_count": null,
   "id": "4f4c1c61",
   "metadata": {
    "colab": {
     "base_uri": "https://localhost:8080/"
    },
    "id": "vRi7H-dnwup_",
    "outputId": "fe17c98d-ca96-4cec-e8cb-c452ca246776"
   },
   "outputs": [],
   "source": [
    "# Can contain missing values\n",
    "s = pd.Series([1, 2, np.nan, np.nan, 45, -4, np.nan, -9])\n",
    "print(s)"
   ]
  },
  {
   "cell_type": "code",
   "execution_count": null,
   "id": "7193f780",
   "metadata": {
    "colab": {
     "base_uri": "https://localhost:8080/"
    },
    "id": "8y5gxMKTw8wG",
    "outputId": "985e57bc-9357-4ded-962a-3aca0ad1b31f"
   },
   "outputs": [],
   "source": [
    "# broadcasting\n",
    "s = pd.Series(5, index=[0, 1, 2, 3])\n",
    "print(s)"
   ]
  },
  {
   "cell_type": "code",
   "execution_count": null,
   "id": "a72e549c",
   "metadata": {
    "colab": {
     "base_uri": "https://localhost:8080/"
    },
    "id": "aTCz7VBexDev",
    "outputId": "f46acac3-87cd-4399-e965-510e3c01e160"
   },
   "outputs": [],
   "source": [
    "# Select element using index\n",
    "s = pd.Series([2, 3, 5, 7, 12], index = ['a','b','c', 'd', 'e'])\n",
    "print('Element with index \"b\":', s['b'])\n",
    "print('Element with index \"c\":', s['c'])"
   ]
  },
  {
   "cell_type": "code",
   "execution_count": null,
   "id": "400de6bf",
   "metadata": {
    "colab": {
     "base_uri": "https://localhost:8080/"
    },
    "id": "IP22xzePxS0X",
    "outputId": "4298ae36-b2d9-483e-fd8d-53ad595a5e8d"
   },
   "outputs": [],
   "source": [
    "# Select multiple elements\n",
    "s = pd.Series([1,2,3,4,5],index = ['a','b','c','d','e'])\n",
    "s_sub = s[['a','c','d']]\n",
    "print(s_sub)"
   ]
  },
  {
   "cell_type": "code",
   "execution_count": null,
   "id": "49fbe8f9",
   "metadata": {},
   "outputs": [],
   "source": [
    "type(s), type(s_sub)"
   ]
  },
  {
   "cell_type": "code",
   "execution_count": null,
   "id": "cc940975",
   "metadata": {
    "colab": {
     "base_uri": "https://localhost:8080/",
     "height": 562
    },
    "id": "I1htkrzAxifj",
    "outputId": "c7539257-9666-4680-ceda-ad81450e2799"
   },
   "outputs": [],
   "source": [
    "# Select element with invalid index (Exception is raised)\n",
    "s = pd.Series([1,2,3,4,5],index = ['a','b','c','d','e'])\n",
    "print(s['f'])"
   ]
  },
  {
   "cell_type": "code",
   "execution_count": null,
   "id": "acaf9f12",
   "metadata": {},
   "outputs": [],
   "source": [
    "try:\n",
    "    print(s['f'])\n",
    "except KeyError:\n",
    "    print('Key error')"
   ]
  },
  {
   "cell_type": "code",
   "execution_count": null,
   "id": "b19afd11",
   "metadata": {},
   "outputs": [],
   "source": [
    "s.get(\"f\")"
   ]
  },
  {
   "cell_type": "code",
   "execution_count": null,
   "id": "ec3f8ecb",
   "metadata": {},
   "outputs": [],
   "source": [
    "s.get(\"f\", np.nan)"
   ]
  },
  {
   "cell_type": "code",
   "execution_count": null,
   "id": "f4c20c54",
   "metadata": {
    "colab": {
     "base_uri": "https://localhost:8080/"
    },
    "id": "w-s_jj9Wxrfk",
    "outputId": "79473cd3-22f9-4e82-e462-9aa46ab38615"
   },
   "outputs": [],
   "source": [
    "# Select element using serial number\n",
    "s = pd.Series([1,2,3,4,5], index = ['a','b','c','d','e'])\n",
    "print(s[0])"
   ]
  },
  {
   "cell_type": "code",
   "execution_count": null,
   "id": "b1ba0c2b",
   "metadata": {
    "colab": {
     "base_uri": "https://localhost:8080/"
    },
    "id": "kQPsNUyix342",
    "outputId": "7cd64868-1150-486b-c8cc-04ab913f5e9a"
   },
   "outputs": [],
   "source": [
    "s = pd.Series([1,2,3,4,5], index = ['a','b','c','d','e'])\n",
    "print(s[3:]) # like lists and arrays"
   ]
  },
  {
   "cell_type": "code",
   "execution_count": null,
   "id": "61c310b5",
   "metadata": {},
   "outputs": [],
   "source": [
    "s[1:2]"
   ]
  },
  {
   "cell_type": "markdown",
   "id": "c8b94a56",
   "metadata": {
    "id": "6hbnbZhkyJh3"
   },
   "source": [
    "## DataFrame\n",
    "\n",
    "**DataFrame** is tabular data with assigned indeces. It can be thought of as a dict-like container for Series objects. "
   ]
  },
  {
   "cell_type": "code",
   "execution_count": null,
   "id": "e2d960c0",
   "metadata": {},
   "outputs": [],
   "source": [
    "# From dict of Series"
   ]
  },
  {
   "cell_type": "code",
   "execution_count": null,
   "id": "5d9c4242",
   "metadata": {
    "colab": {
     "base_uri": "https://localhost:8080/"
    },
    "id": "JmQlVBT2x-sm",
    "outputId": "2f70bdb2-27b3-410f-b47b-52d68e8d18ab"
   },
   "outputs": [],
   "source": [
    "df = pd.DataFrame({\n",
    "     'col1': pd.Series([1, 2, 3]),\n",
    "     'col2': pd.Series([3, 4, 5]),\n",
    "})\n",
    "print(df)"
   ]
  },
  {
   "cell_type": "code",
   "execution_count": null,
   "id": "0caaee6a",
   "metadata": {},
   "outputs": [],
   "source": [
    "print('Shape of DataFrame: ', df.shape)"
   ]
  },
  {
   "cell_type": "code",
   "execution_count": null,
   "id": "9868fa85",
   "metadata": {},
   "outputs": [],
   "source": [
    "# From dict of arrays/lists"
   ]
  },
  {
   "cell_type": "code",
   "execution_count": null,
   "id": "8107453a",
   "metadata": {},
   "outputs": [],
   "source": [
    "df = pd.DataFrame({\n",
    "     'col1': [1, 2, 3],\n",
    "     'col2': [3, 4, 5],\n",
    "})\n",
    "print(df)"
   ]
  },
  {
   "cell_type": "code",
   "execution_count": null,
   "id": "388f8390",
   "metadata": {},
   "outputs": [],
   "source": [
    "# From dict of various structures"
   ]
  },
  {
   "cell_type": "code",
   "execution_count": null,
   "id": "46fad387",
   "metadata": {},
   "outputs": [],
   "source": [
    "df2 = pd.DataFrame(\n",
    "    {\n",
    "        \"A\": 1.0,\n",
    "        \"B\": pd.Timestamp(\"20130102\"),\n",
    "        \"C\": pd.Series(1, index=list(range(4)), dtype=\"float32\"),\n",
    "        \"D\": np.array([3] * 4, dtype=\"int32\"),\n",
    "        \"E\": pd.Categorical([\"test\", \"train\", \"test\", \"train\"]),\n",
    "        \"F\": \"foo\",\n",
    "    }\n",
    ")"
   ]
  },
  {
   "cell_type": "code",
   "execution_count": null,
   "id": "e3d19d70",
   "metadata": {
    "colab": {
     "base_uri": "https://localhost:8080/",
     "height": 173
    },
    "id": "56W2SFljyV1v",
    "outputId": "b81c29e0-b9ef-470d-f59c-dddde7e7b35f"
   },
   "outputs": [],
   "source": [
    "# Pandas format\n",
    "df2"
   ]
  },
  {
   "cell_type": "code",
   "execution_count": null,
   "id": "35e0e9ae",
   "metadata": {
    "colab": {
     "base_uri": "https://localhost:8080/",
     "height": 111
    },
    "id": "4BhcxiPRyW21",
    "outputId": "376b8ce2-5c1d-4e91-ddf6-6b20f1deebbe"
   },
   "outputs": [],
   "source": [
    "# Only first few rows (in practice)\n",
    "df2.head(2)"
   ]
  },
  {
   "cell_type": "code",
   "execution_count": null,
   "id": "a9f596d4",
   "metadata": {
    "colab": {
     "base_uri": "https://localhost:8080/"
    },
    "id": "WGALTNx_ydqd",
    "outputId": "e30ea3a1-4509-4afc-e843-54f499d086d3"
   },
   "outputs": [],
   "source": [
    "print('Index:', df.index)\n",
    "print('Columns:', df.columns)"
   ]
  },
  {
   "cell_type": "markdown",
   "id": "e78dae38",
   "metadata": {},
   "source": [
    "### Selecting rows/columns and indexing"
   ]
  },
  {
   "cell_type": "markdown",
   "id": "9910f049",
   "metadata": {},
   "source": [
    "![alt_text](pd_select.png)"
   ]
  },
  {
   "cell_type": "code",
   "execution_count": null,
   "id": "7dea2672",
   "metadata": {},
   "outputs": [],
   "source": [
    "df = pd.DataFrame({\n",
    "     'col1': [1, 2, 3],\n",
    "     'col2': [3, 4, 5],\n",
    "})\n",
    "print(df)"
   ]
  },
  {
   "cell_type": "code",
   "execution_count": null,
   "id": "60ac51b5",
   "metadata": {
    "colab": {
     "base_uri": "https://localhost:8080/"
    },
    "id": "1bT7G2xgyqQH",
    "outputId": "4d95135d-9a51-4f24-e42b-8900a97a0275"
   },
   "outputs": [],
   "source": [
    "# Select particular column\n",
    "print('Col1:')\n",
    "df.col1"
   ]
  },
  {
   "cell_type": "code",
   "execution_count": null,
   "id": "75bcb4a5",
   "metadata": {
    "colab": {
     "base_uri": "https://localhost:8080/"
    },
    "id": "3gxhUYfny9Uj",
    "outputId": "a8ca3820-b447-441e-e11b-cd0d68d23d31"
   },
   "outputs": [],
   "source": [
    "df['col1']"
   ]
  },
  {
   "cell_type": "code",
   "execution_count": null,
   "id": "44b0fa77",
   "metadata": {
    "colab": {
     "base_uri": "https://localhost:8080/",
     "height": 173
    },
    "id": "ifuI4ZwFzDcQ",
    "outputId": "d662b7f2-54ed-4f3f-b85c-f530a304c75e"
   },
   "outputs": [],
   "source": [
    "# Select multiple columns\n",
    "df[['col1', 'col2']]"
   ]
  },
  {
   "cell_type": "markdown",
   "id": "1b059795",
   "metadata": {},
   "source": [
    "[**Loc & iloc**](https://pandas.pydata.org/docs/user_guide/indexing.html)"
   ]
  },
  {
   "cell_type": "markdown",
   "id": "f0a4dc1a",
   "metadata": {},
   "source": [
    "* .loc is primarily label based\n",
    "* .iloc is primarily integer position based"
   ]
  },
  {
   "cell_type": "code",
   "execution_count": null,
   "id": "4714862a",
   "metadata": {
    "colab": {
     "base_uri": "https://localhost:8080/"
    },
    "id": "Obeyd5s9zGEq",
    "outputId": "5b80f570-0828-481e-cb29-9dc11a80d732"
   },
   "outputs": [],
   "source": [
    "df.loc[2]"
   ]
  },
  {
   "cell_type": "code",
   "execution_count": null,
   "id": "58576829",
   "metadata": {
    "colab": {
     "base_uri": "https://localhost:8080/",
     "height": 111
    },
    "id": "lqbmDPArzN-n",
    "outputId": "def48262-1b74-44cb-e264-dbe8449625e2"
   },
   "outputs": [],
   "source": [
    "df.loc[1:2]"
   ]
  },
  {
   "cell_type": "code",
   "execution_count": null,
   "id": "777349a1",
   "metadata": {
    "colab": {
     "base_uri": "https://localhost:8080/",
     "height": 35
    },
    "id": "m8xzUE-4zRbg",
    "outputId": "63a776dc-5a02-4808-9c1c-2c7756ab3b79"
   },
   "outputs": [],
   "source": [
    "df.loc[2, 'col2']"
   ]
  },
  {
   "cell_type": "code",
   "execution_count": null,
   "id": "b950e574",
   "metadata": {},
   "outputs": [],
   "source": [
    "df.iloc[2]"
   ]
  },
  {
   "cell_type": "code",
   "execution_count": null,
   "id": "d8b41aae",
   "metadata": {},
   "outputs": [],
   "source": [
    "df.iloc[:, 0]"
   ]
  },
  {
   "cell_type": "markdown",
   "id": "c2a6559f",
   "metadata": {},
   "source": [
    "### Стварни егземпл"
   ]
  },
  {
   "cell_type": "code",
   "execution_count": null,
   "id": "8bf16f15",
   "metadata": {},
   "outputs": [],
   "source": [
    "df_nba = pd.read_csv('nba-2.csv')"
   ]
  },
  {
   "cell_type": "code",
   "execution_count": null,
   "id": "f15151b1",
   "metadata": {},
   "outputs": [],
   "source": [
    "df_nba.head()"
   ]
  },
  {
   "cell_type": "code",
   "execution_count": null,
   "id": "9a88d034",
   "metadata": {},
   "outputs": [],
   "source": [
    "df_nba.shape"
   ]
  },
  {
   "cell_type": "code",
   "execution_count": null,
   "id": "9a3dbaf2",
   "metadata": {},
   "outputs": [],
   "source": [
    "df_nba = pd.read_csv('nba-2.csv', index_col =\"Name\")"
   ]
  },
  {
   "cell_type": "code",
   "execution_count": null,
   "id": "421b1803",
   "metadata": {},
   "outputs": [],
   "source": [
    "df_nba.head()"
   ]
  },
  {
   "cell_type": "code",
   "execution_count": null,
   "id": "e483f8ad",
   "metadata": {},
   "outputs": [],
   "source": [
    "df_nba.shape"
   ]
  },
  {
   "cell_type": "code",
   "execution_count": null,
   "id": "c8e29730",
   "metadata": {},
   "outputs": [],
   "source": [
    "df_nba[[\"Age\", \"College\", \"Salary\"]]"
   ]
  },
  {
   "cell_type": "code",
   "execution_count": null,
   "id": "53ad56df",
   "metadata": {},
   "outputs": [],
   "source": [
    "player = df_nba.loc[\"Avery Bradley\"]\n",
    "player"
   ]
  },
  {
   "cell_type": "code",
   "execution_count": null,
   "id": "fede91ef",
   "metadata": {},
   "outputs": [],
   "source": [
    "players = df_nba.loc[[\"Avery Bradley\", \"R.J. Hunter\"]]\n",
    "players"
   ]
  },
  {
   "cell_type": "code",
   "execution_count": null,
   "id": "a633380e",
   "metadata": {},
   "outputs": [],
   "source": [
    "players = df_nba.loc[[\"Avery Bradley\", \"R.J. Hunter\"],\n",
    "                   [\"Team\", \"Number\", \"Position\"]]\n",
    "players"
   ]
  },
  {
   "cell_type": "code",
   "execution_count": null,
   "id": "176a6bff",
   "metadata": {},
   "outputs": [],
   "source": [
    "row_2 = df_nba.iloc[3] \n",
    "row_2"
   ]
  },
  {
   "cell_type": "markdown",
   "id": "010c3a7f",
   "metadata": {
    "id": "L-KXRU0d9dUD"
   },
   "source": [
    "### Merge"
   ]
  },
  {
   "cell_type": "code",
   "execution_count": null,
   "id": "b9ffc247",
   "metadata": {
    "colab": {
     "base_uri": "https://localhost:8080/",
     "height": 359
    },
    "id": "PP_wiHo86ezF",
    "outputId": "73512423-5c8c-431b-f9f4-d90aead9ee52"
   },
   "outputs": [],
   "source": [
    "df = pd.DataFrame(np.random.randn(10, 4))\n",
    "df"
   ]
  },
  {
   "cell_type": "code",
   "execution_count": null,
   "id": "727c4ce2",
   "metadata": {},
   "outputs": [],
   "source": [
    "df[:3]"
   ]
  },
  {
   "cell_type": "code",
   "execution_count": null,
   "id": "c0d7d840",
   "metadata": {
    "colab": {
     "base_uri": "https://localhost:8080/"
    },
    "id": "9gvNJSfg66Sj",
    "outputId": "f6808df7-297e-429a-b0a1-30439b0392ad"
   },
   "outputs": [],
   "source": [
    "pieces = [df[:3], df[3:7], df[7:]]\n",
    "pieces"
   ]
  },
  {
   "cell_type": "code",
   "execution_count": null,
   "id": "b98ac5f3",
   "metadata": {
    "colab": {
     "base_uri": "https://localhost:8080/",
     "height": 359
    },
    "id": "lD4Ia2cC68yy",
    "outputId": "33cc075a-d565-454c-c366-542c2d7a7f49"
   },
   "outputs": [],
   "source": [
    "pd.concat(pieces)"
   ]
  },
  {
   "cell_type": "code",
   "execution_count": null,
   "id": "fce8d8f2",
   "metadata": {
    "colab": {
     "base_uri": "https://localhost:8080/",
     "height": 111
    },
    "id": "pznCsVVj7F6E",
    "outputId": "0db9ede1-9dcd-46d4-cded-e2f6a44393fc"
   },
   "outputs": [],
   "source": [
    "# SQL join\n",
    "left = pd.DataFrame({\"key\": [\"foo\", \"bar\"], \"left_val\": [1, 2]})\n",
    "left"
   ]
  },
  {
   "cell_type": "code",
   "execution_count": null,
   "id": "6fd20bd9",
   "metadata": {
    "colab": {
     "base_uri": "https://localhost:8080/",
     "height": 111
    },
    "id": "cMIER3Jl8VBj",
    "outputId": "9908ef21-5f19-43ab-b48c-08d0495f2e3a"
   },
   "outputs": [],
   "source": [
    "right = pd.DataFrame({\"key\": [\"foo\", \"bar\"], \"right_val\": [4, 5]})\n",
    "right"
   ]
  },
  {
   "cell_type": "code",
   "execution_count": null,
   "id": "89ab2f91",
   "metadata": {
    "colab": {
     "base_uri": "https://localhost:8080/",
     "height": 111
    },
    "id": "2-P8tYWL8W_U",
    "outputId": "40bfdb85-13ee-4e7c-d923-5a66896730d7"
   },
   "outputs": [],
   "source": [
    "pd.merge(left, right, on=\"key\")"
   ]
  },
  {
   "cell_type": "markdown",
   "id": "6cc4dc29",
   "metadata": {},
   "source": [
    "## Basic data analysis"
   ]
  },
  {
   "cell_type": "code",
   "execution_count": null,
   "id": "01a4e8e6",
   "metadata": {},
   "outputs": [],
   "source": [
    "pd.set_option('display.max_rows', None, 'display.max_columns', None)\n",
    "pd.set_option('display.max_colwidth', None)"
   ]
  },
  {
   "cell_type": "markdown",
   "id": "e53994ae",
   "metadata": {},
   "source": [
    "Dataset **FIFA 22** from https://www.kaggle.com/datasets/stefanoleone992/fifa-22-complete-player-dataset."
   ]
  },
  {
   "cell_type": "markdown",
   "id": "2afa15bf",
   "metadata": {},
   "source": [
    "### Read csv"
   ]
  },
  {
   "cell_type": "code",
   "execution_count": null,
   "id": "aa9e4bf2",
   "metadata": {},
   "outputs": [],
   "source": [
    "data = pd.read_csv('players_22.csv')"
   ]
  },
  {
   "cell_type": "markdown",
   "id": "8e0eb04e",
   "metadata": {},
   "source": [
    "### Shape"
   ]
  },
  {
   "cell_type": "code",
   "execution_count": null,
   "id": "e4277ea2",
   "metadata": {},
   "outputs": [],
   "source": [
    "data.info()"
   ]
  },
  {
   "cell_type": "code",
   "execution_count": null,
   "id": "e56e0c44",
   "metadata": {},
   "outputs": [],
   "source": [
    "data.shape"
   ]
  },
  {
   "cell_type": "code",
   "execution_count": null,
   "id": "07a24c2f",
   "metadata": {},
   "outputs": [],
   "source": [
    "print(f'Dataset has {data.shape[0]} rows and {data.shape[1]} columns.')"
   ]
  },
  {
   "cell_type": "code",
   "execution_count": null,
   "id": "c1c73531",
   "metadata": {},
   "outputs": [],
   "source": [
    "len(data)"
   ]
  },
  {
   "cell_type": "markdown",
   "id": "fec86cf6",
   "metadata": {},
   "source": [
    "### First #n rows"
   ]
  },
  {
   "cell_type": "code",
   "execution_count": null,
   "id": "dbeea235",
   "metadata": {},
   "outputs": [],
   "source": [
    "n = 3"
   ]
  },
  {
   "cell_type": "code",
   "execution_count": null,
   "id": "0138e821",
   "metadata": {},
   "outputs": [],
   "source": [
    "data.head(n)"
   ]
  },
  {
   "cell_type": "code",
   "execution_count": null,
   "id": "44477e15",
   "metadata": {},
   "outputs": [],
   "source": [
    "data.tail(n)"
   ]
  },
  {
   "cell_type": "code",
   "execution_count": null,
   "id": "bb94f621",
   "metadata": {},
   "outputs": [],
   "source": [
    "list(data.columns)"
   ]
  },
  {
   "cell_type": "markdown",
   "id": "787cda1b",
   "metadata": {},
   "source": [
    "### Data types"
   ]
  },
  {
   "cell_type": "markdown",
   "id": "3f2aeee5",
   "metadata": {},
   "source": [
    "![alt text](dtypes.png)"
   ]
  },
  {
   "cell_type": "code",
   "execution_count": null,
   "id": "b032abf8",
   "metadata": {},
   "outputs": [],
   "source": [
    "data.dtypes"
   ]
  },
  {
   "cell_type": "markdown",
   "id": "9de6eabd",
   "metadata": {},
   "source": [
    "### Rename column"
   ]
  },
  {
   "cell_type": "code",
   "execution_count": null,
   "id": "44acf2fc",
   "metadata": {},
   "outputs": [],
   "source": [
    "data = data.rename(columns={'sofifa_id':'ID'})"
   ]
  },
  {
   "cell_type": "code",
   "execution_count": null,
   "id": "1a86dc06",
   "metadata": {},
   "outputs": [],
   "source": [
    "data.head()"
   ]
  },
  {
   "cell_type": "markdown",
   "id": "cc26179d",
   "metadata": {},
   "source": [
    "### Missing values"
   ]
  },
  {
   "cell_type": "code",
   "execution_count": null,
   "id": "a3359218",
   "metadata": {},
   "outputs": [],
   "source": [
    "data.isna().head()"
   ]
  },
  {
   "cell_type": "code",
   "execution_count": null,
   "id": "f9c566c1",
   "metadata": {},
   "outputs": [],
   "source": [
    "data.isna().sum()"
   ]
  },
  {
   "cell_type": "code",
   "execution_count": null,
   "id": "497c429a",
   "metadata": {},
   "outputs": [],
   "source": [
    "# Fill NA\n",
    "data_fill = data.fillna(value=0)"
   ]
  },
  {
   "cell_type": "code",
   "execution_count": null,
   "id": "b1e259a8",
   "metadata": {},
   "outputs": [],
   "source": [
    "data.median(numeric_only=True)"
   ]
  },
  {
   "cell_type": "code",
   "execution_count": null,
   "id": "fd1b9eaf",
   "metadata": {},
   "outputs": [],
   "source": [
    "data_fill = data.fillna(value=data.median(numeric_only=True))"
   ]
  },
  {
   "cell_type": "code",
   "execution_count": null,
   "id": "206fd4cb",
   "metadata": {},
   "outputs": [],
   "source": [
    "# Drop NA\n",
    "data_clean = data.dropna()"
   ]
  },
  {
   "cell_type": "code",
   "execution_count": null,
   "id": "31193dbe",
   "metadata": {},
   "outputs": [],
   "source": [
    "data_clean.shape"
   ]
  },
  {
   "cell_type": "code",
   "execution_count": null,
   "id": "0634dd6f",
   "metadata": {},
   "outputs": [],
   "source": [
    "data.isna().sum()"
   ]
  },
  {
   "cell_type": "code",
   "execution_count": null,
   "id": "70e23525",
   "metadata": {},
   "outputs": [],
   "source": [
    "len(data)/10"
   ]
  },
  {
   "cell_type": "code",
   "execution_count": null,
   "id": "dbe4db0d",
   "metadata": {},
   "outputs": [],
   "source": [
    "data.isna().sum()<len(data)/10"
   ]
  },
  {
   "cell_type": "code",
   "execution_count": null,
   "id": "5cb80060",
   "metadata": {},
   "outputs": [],
   "source": [
    "# Drop mainly NA columns\n",
    "data_sub = data.loc[:,data.isna().sum()<len(data)/10]"
   ]
  },
  {
   "cell_type": "code",
   "execution_count": null,
   "id": "7ac1f7ed",
   "metadata": {},
   "outputs": [],
   "source": [
    "data_clean = data_sub.dropna()"
   ]
  },
  {
   "cell_type": "code",
   "execution_count": null,
   "id": "0b011090",
   "metadata": {},
   "outputs": [],
   "source": [
    "data_clean.shape"
   ]
  },
  {
   "cell_type": "code",
   "execution_count": null,
   "id": "4eb8071d",
   "metadata": {},
   "outputs": [],
   "source": [
    "data = data_clean"
   ]
  },
  {
   "cell_type": "code",
   "execution_count": null,
   "id": "6e4d3dc9",
   "metadata": {},
   "outputs": [],
   "source": [
    "data.isna().sum()"
   ]
  },
  {
   "cell_type": "markdown",
   "id": "fdf29acf",
   "metadata": {},
   "source": [
    "### Loc & iloc"
   ]
  },
  {
   "cell_type": "code",
   "execution_count": null,
   "id": "ee6b58ac",
   "metadata": {},
   "outputs": [],
   "source": [
    "data['short_name']"
   ]
  },
  {
   "cell_type": "code",
   "execution_count": null,
   "id": "b9142523",
   "metadata": {},
   "outputs": [],
   "source": [
    "data.loc[:, 'short_name']"
   ]
  },
  {
   "cell_type": "code",
   "execution_count": null,
   "id": "d19c99e9",
   "metadata": {},
   "outputs": [],
   "source": [
    "data.loc[0, ['short_name']]"
   ]
  },
  {
   "cell_type": "code",
   "execution_count": null,
   "id": "7df4b7ed",
   "metadata": {},
   "outputs": [],
   "source": [
    "data.iloc[0]"
   ]
  },
  {
   "cell_type": "code",
   "execution_count": null,
   "id": "be5efd76",
   "metadata": {},
   "outputs": [],
   "source": [
    "data.iloc[:,0]"
   ]
  },
  {
   "cell_type": "markdown",
   "id": "9d96c6af",
   "metadata": {},
   "source": [
    "### Sort data"
   ]
  },
  {
   "cell_type": "code",
   "execution_count": null,
   "id": "86d5d94c",
   "metadata": {},
   "outputs": [],
   "source": [
    "data_sorted = data.sort_values(by = 'wage_eur', ascending=False)"
   ]
  },
  {
   "cell_type": "code",
   "execution_count": null,
   "id": "31be8fc6",
   "metadata": {},
   "outputs": [],
   "source": [
    "data_sorted.head(30)"
   ]
  },
  {
   "cell_type": "code",
   "execution_count": null,
   "id": "16fe8dc5",
   "metadata": {},
   "outputs": [],
   "source": [
    "data.sort_index(axis=1, ascending=False)"
   ]
  },
  {
   "cell_type": "markdown",
   "id": "bd72fb46",
   "metadata": {},
   "source": [
    "### Subset"
   ]
  },
  {
   "cell_type": "code",
   "execution_count": null,
   "id": "5d76309a",
   "metadata": {},
   "outputs": [],
   "source": [
    "data_new = data_sorted.iloc[:1000, :18]"
   ]
  },
  {
   "cell_type": "code",
   "execution_count": null,
   "id": "039664cd",
   "metadata": {},
   "outputs": [],
   "source": [
    "data_new.shape"
   ]
  },
  {
   "cell_type": "code",
   "execution_count": null,
   "id": "30826577",
   "metadata": {},
   "outputs": [],
   "source": [
    "data_new.head()"
   ]
  },
  {
   "cell_type": "code",
   "execution_count": null,
   "id": "e5894cfd",
   "metadata": {},
   "outputs": [],
   "source": [
    "data_new.columns"
   ]
  },
  {
   "cell_type": "markdown",
   "id": "442c1009",
   "metadata": {},
   "source": [
    "### Drop columns"
   ]
  },
  {
   "cell_type": "code",
   "execution_count": null,
   "id": "5afff03b",
   "metadata": {},
   "outputs": [],
   "source": [
    "data_new.drop(columns=['player_url'])"
   ]
  },
  {
   "cell_type": "code",
   "execution_count": null,
   "id": "0665c885",
   "metadata": {},
   "outputs": [],
   "source": [
    "data_new.columns"
   ]
  },
  {
   "cell_type": "code",
   "execution_count": null,
   "id": "1167a21c",
   "metadata": {},
   "outputs": [],
   "source": [
    "data_new.head()"
   ]
  },
  {
   "cell_type": "code",
   "execution_count": null,
   "id": "48f8754d",
   "metadata": {},
   "outputs": [],
   "source": [
    "data_new.drop(columns=['player_url'])"
   ]
  },
  {
   "cell_type": "code",
   "execution_count": null,
   "id": "f2fb21c7",
   "metadata": {},
   "outputs": [],
   "source": [
    "data_new.columns"
   ]
  },
  {
   "cell_type": "code",
   "execution_count": null,
   "id": "d3e9c88c",
   "metadata": {},
   "outputs": [],
   "source": [
    "data_new.drop(columns=['player_url'], inplace=True)"
   ]
  },
  {
   "cell_type": "code",
   "execution_count": null,
   "id": "fd94d1cc",
   "metadata": {},
   "outputs": [],
   "source": [
    "data_new.shape"
   ]
  },
  {
   "cell_type": "markdown",
   "id": "d3601529",
   "metadata": {},
   "source": [
    "### Unique values"
   ]
  },
  {
   "cell_type": "code",
   "execution_count": null,
   "id": "fad084d2",
   "metadata": {},
   "outputs": [],
   "source": [
    "data_new['club_name'].unique()"
   ]
  },
  {
   "cell_type": "code",
   "execution_count": null,
   "id": "36790e0b",
   "metadata": {},
   "outputs": [],
   "source": [
    "data_new['club_name'].nunique()"
   ]
  },
  {
   "cell_type": "code",
   "execution_count": null,
   "id": "bd9e0b44",
   "metadata": {},
   "outputs": [],
   "source": [
    "from collections import Counter"
   ]
  },
  {
   "cell_type": "code",
   "execution_count": null,
   "id": "1fc1e5d3",
   "metadata": {},
   "outputs": [],
   "source": [
    "Counter(data_new['club_name'])"
   ]
  },
  {
   "cell_type": "markdown",
   "id": "2fca20f9",
   "metadata": {},
   "source": [
    "### Group By"
   ]
  },
  {
   "cell_type": "code",
   "execution_count": null,
   "id": "9bf036cc",
   "metadata": {},
   "outputs": [],
   "source": [
    "# With .groupby(), you create a DataFrameGroupBy object. With .mean(), you create a Series."
   ]
  },
  {
   "cell_type": "code",
   "execution_count": null,
   "id": "0caeb24f",
   "metadata": {},
   "outputs": [],
   "source": [
    "data_new.groupby('club_name')['age'].mean()"
   ]
  },
  {
   "cell_type": "code",
   "execution_count": null,
   "id": "7865c369",
   "metadata": {},
   "outputs": [],
   "source": [
    "data_new.groupby('club_name')['club_name'].count()"
   ]
  },
  {
   "cell_type": "markdown",
   "id": "5708fa8f",
   "metadata": {},
   "source": [
    "### Aggregation"
   ]
  },
  {
   "cell_type": "code",
   "execution_count": null,
   "id": "009ab97a",
   "metadata": {},
   "outputs": [],
   "source": [
    "data_new.groupby('club_name').agg({'age':'mean', 'club_name':'count'})"
   ]
  },
  {
   "cell_type": "markdown",
   "id": "cca45469",
   "metadata": {},
   "source": [
    "### Pivot"
   ]
  },
  {
   "cell_type": "code",
   "execution_count": null,
   "id": "ccdb4f7f",
   "metadata": {},
   "outputs": [],
   "source": [
    "pivot_data = pd.pivot_table(data_new,  columns = 'short_name', values = 'wage_eur')"
   ]
  },
  {
   "cell_type": "code",
   "execution_count": null,
   "id": "4ce2a257",
   "metadata": {},
   "outputs": [],
   "source": [
    "pivot_data"
   ]
  },
  {
   "cell_type": "code",
   "execution_count": null,
   "id": "44ab7e11",
   "metadata": {},
   "outputs": [],
   "source": [
    "pivot_data['E. Haaland']"
   ]
  },
  {
   "cell_type": "markdown",
   "id": "8e54ee8d",
   "metadata": {},
   "source": [
    "### Conditions"
   ]
  },
  {
   "cell_type": "code",
   "execution_count": null,
   "id": "3e62ab19",
   "metadata": {},
   "outputs": [],
   "source": [
    "data_new['club_position'].unique()"
   ]
  },
  {
   "cell_type": "code",
   "execution_count": null,
   "id": "24ca0522",
   "metadata": {},
   "outputs": [],
   "source": [
    "data_rw = data_new[data_new['club_position']=='RW']"
   ]
  },
  {
   "cell_type": "code",
   "execution_count": null,
   "id": "a0818469",
   "metadata": {},
   "outputs": [],
   "source": [
    "data_rw.shape"
   ]
  },
  {
   "cell_type": "code",
   "execution_count": null,
   "id": "a11920bf",
   "metadata": {},
   "outputs": [],
   "source": [
    "data_new.loc[(data_new.age>30) & (data_new.age<32)].head() "
   ]
  },
  {
   "cell_type": "markdown",
   "id": "a7d479c4",
   "metadata": {},
   "source": [
    "### Descriptive statistics"
   ]
  },
  {
   "cell_type": "code",
   "execution_count": null,
   "id": "0d8a9ce6",
   "metadata": {},
   "outputs": [],
   "source": [
    "data_new.describe()"
   ]
  },
  {
   "cell_type": "code",
   "execution_count": null,
   "id": "2103b6bc",
   "metadata": {},
   "outputs": [],
   "source": [
    "data_new.mean()"
   ]
  },
  {
   "cell_type": "code",
   "execution_count": null,
   "id": "9094d2e0",
   "metadata": {},
   "outputs": [],
   "source": [
    "data_new.mean(numeric_only=True)"
   ]
  },
  {
   "cell_type": "code",
   "execution_count": null,
   "id": "250e299b",
   "metadata": {},
   "outputs": [],
   "source": [
    "data_new.select_dtypes(include='number').mean()"
   ]
  },
  {
   "cell_type": "code",
   "execution_count": null,
   "id": "b2b6968b",
   "metadata": {},
   "outputs": [],
   "source": [
    "data_new.age.max()"
   ]
  },
  {
   "cell_type": "code",
   "execution_count": null,
   "id": "97347c99",
   "metadata": {},
   "outputs": [],
   "source": [
    "data_new.age.min()"
   ]
  },
  {
   "cell_type": "markdown",
   "id": "ed798e3e",
   "metadata": {},
   "source": [
    "### Iterating "
   ]
  },
  {
   "cell_type": "code",
   "execution_count": null,
   "id": "35e86f14",
   "metadata": {},
   "outputs": [],
   "source": [
    "for index, row in data_new.iterrows():\n",
    "    print('Index is ' + str(index))\n",
    "    print('Player is '+ str(row['short_name']))"
   ]
  },
  {
   "cell_type": "markdown",
   "id": "955ab865",
   "metadata": {},
   "source": [
    "### Reset index"
   ]
  },
  {
   "cell_type": "code",
   "execution_count": null,
   "id": "1d9f5a52",
   "metadata": {},
   "outputs": [],
   "source": [
    "data_new.reset_index(drop=True, inplace=True)"
   ]
  },
  {
   "cell_type": "code",
   "execution_count": null,
   "id": "25e1140e",
   "metadata": {},
   "outputs": [],
   "source": [
    "for index, row in data_new.iterrows():\n",
    "    print('Index is ' + str(index))\n",
    "    print('Player is '+ str(row['short_name']))"
   ]
  },
  {
   "cell_type": "markdown",
   "id": "043ef1cf",
   "metadata": {},
   "source": [
    "### String operations"
   ]
  },
  {
   "cell_type": "code",
   "execution_count": null,
   "id": "1b8f8ad5",
   "metadata": {},
   "outputs": [],
   "source": [
    "data_new['short_name_lower'] = data_new['short_name'].str.lower()  #upper, len, etc."
   ]
  },
  {
   "cell_type": "code",
   "execution_count": null,
   "id": "84eee3dd",
   "metadata": {},
   "outputs": [],
   "source": [
    "data_new[['short_name', 'short_name_lower']]"
   ]
  },
  {
   "cell_type": "markdown",
   "id": "43025657",
   "metadata": {},
   "source": [
    "### Apply"
   ]
  },
  {
   "cell_type": "code",
   "execution_count": null,
   "id": "ec07aa1d",
   "metadata": {},
   "outputs": [],
   "source": [
    "data_new['first_position'] = data_new['player_positions'].apply(lambda x: x.split(',')[0])"
   ]
  },
  {
   "cell_type": "code",
   "execution_count": null,
   "id": "a314bd2a",
   "metadata": {},
   "outputs": [],
   "source": [
    "data_new[['player_positions', 'first_position']]"
   ]
  },
  {
   "cell_type": "code",
   "execution_count": null,
   "id": "c5f46314",
   "metadata": {},
   "outputs": [],
   "source": [
    "def moja_funkcija(x):\n",
    "    return x.split(',')[0]"
   ]
  },
  {
   "cell_type": "code",
   "execution_count": null,
   "id": "ebc01f85",
   "metadata": {},
   "outputs": [],
   "source": [
    "data_new['first_position'] = data_new['player_positions'].apply(moja_funkcija)"
   ]
  },
  {
   "cell_type": "code",
   "execution_count": null,
   "id": "0c47beb3",
   "metadata": {},
   "outputs": [],
   "source": []
  }
 ],
 "metadata": {
  "kernelspec": {
   "display_name": "Python 3 (ipykernel)",
   "language": "python",
   "name": "python3"
  },
  "language_info": {
   "codemirror_mode": {
    "name": "ipython",
    "version": 3
   },
   "file_extension": ".py",
   "mimetype": "text/x-python",
   "name": "python",
   "nbconvert_exporter": "python",
   "pygments_lexer": "ipython3",
   "version": "3.9.7"
  }
 },
 "nbformat": 4,
 "nbformat_minor": 5
}
